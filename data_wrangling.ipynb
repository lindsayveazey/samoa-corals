{
 "cells": [
  {
   "cell_type": "markdown",
   "metadata": {},
   "source": [
    "#### [Raw data](http://www.soest.hawaii.edu/pibhmc/cms/data-by-location/american-samoa/)\n",
    "\n",
    "- *Observational*: ~6 coral groups TBD; \"*_TOAD\". \n",
    "\n",
    "Note that [Rose](http://www.soest.hawaii.edu/pibhmc/cms/data-by-location/american-samoa/rose-atoll/rose-atoll-habitat/) does not have optical validation data, but does have biological characterizations from prior surveys. This may be useful for predictive comparison only.\n",
    "\n",
    "Note that Swains does not have any biological layers available.\n",
    "\n",
    "- *Environmental*: (in progress- TBD based on ongoing literature review); 1-6 from PIBHMC site\n",
    "    1. Depth (from bty: \"*_bty\")\n",
    "    2. Hard vs. soft bottom (from Arc ASCII file: \"*_hs\")\n",
    "    3. Rugosity (from Arc ASCII file: \"*_rugosity\")\n",
    "    4. Slope (from Arc ASCII file: \"*_slope\")\n",
    "    5. PASS 3/20: this attribute is rarely identified as influential...I'm going to exclude it for now..Curvature (from bty)\n",
    "    6. Aspect (from bty)\n",
    "    7. PASS 3/19: Buildings (from PacIOOS: \"*_bldngs*\"; not available for Rose, Swains). Not loading properly...ignore for now\n",
    "    8. Environmental sensitivity index (from PacIOOS: \"AS_all/Env_sens_index\")\n",
    "    9. Village boundaries (from PacIOOS: \"AS_all/Villages/\")\n",
    "    10. Distance from shore (from PacIOOS: \"AS_all/Shorelines/\")\n",
    "    11. Wetland proximity (from PacIOOS: \"AS_all/Wetlands/\")\n",
    "    12. Population 1960-2000 (from PacIOOS: \"AS_all/Population/\")\n",
    "    13. ROMS u velocity (to E) (3 km resolution; from PacIOOS: \"AS_all/Currents\")\n",
    "    14. ROMS v velocity (to N) (3 km resolution; from PacIOOS: \"AS_all/Currents\")\n",
    "\n",
    "Priority locations:  Ofu-Olosega, Ta‘u, Tutuila\n",
    "Secondary locations: Rose Atoll, Swains Island\n",
    "\n",
    "All PIBHMC data is available at 5 m resolution for all locations except for Swains Island (5 m for bty, 40 m for hs, rugosity, slope). Using integrated data when available for completeness of coverage.\n",
    "\n",
    "#### Load libraries"
   ]
  },
  {
   "cell_type": "code",
   "execution_count": 18,
   "metadata": {},
   "outputs": [
    {
     "name": "stderr",
     "output_type": "stream",
     "text": [
      "Warning message:\n",
      "\"package 'spatial.tools' was built under R version 3.6.3\"\n"
     ]
    }
   ],
   "source": [
    "library(geojsonio)\n",
    "library(raster)\n",
    "library(rgdal)\n",
    "library(sf)\n",
    "library(spatial.tools)"
   ]
  },
  {
   "cell_type": "markdown",
   "metadata": {},
   "source": [
    "#### Load raw data\n",
    "\n",
    "I need to...\n",
    "- [done] load the observational and predictor data for each region (OfuOlo, Rose, Swains, Tau, Tut) and all regions (AS_all)\n",
    "- [done] choose prj, ensure projections align\n",
    "- [done] exclude depths < 30 m and > 200 m**\n",
    "- [done] crop rasters\n",
    "- resample rasters to 50 m resolution\n",
    "- convert TOAD shapefile to 50 m resolution raster, with all 1s prioritized, OR extract raster data to shapefile- still have the issue of overlapping 0s/1s\n",
    "- impute missing data as needed"
   ]
  },
  {
   "cell_type": "markdown",
   "metadata": {},
   "source": [
    "## Ofu-Olo"
   ]
  },
  {
   "cell_type": "code",
   "execution_count": 10,
   "metadata": {},
   "outputs": [
    {
     "name": "stdout",
     "output_type": "stream",
     "text": [
      "Reading layer `OFU_TOAD_ALL2' from data source `C:\\Users\\linds\\OneDrive\\Documents\\samoa_corals_data\\OfuOlo\\OfuOlo_TOAD\\OFU_TOAD_ALL2.shp' using driver `ESRI Shapefile'\n",
      "Simple feature collection with 3042 features and 97 fields\n",
      "geometry type:  POINT\n",
      "dimension:      XY\n",
      "bbox:           xmin: -169.6982 ymin: -14.19928 xmax: -169.5957 ymax: -14.13887\n",
      "epsg (SRID):    4326\n",
      "proj4string:    +proj=longlat +datum=WGS84 +no_defs\n"
     ]
    }
   ],
   "source": [
    "setwd(\"C:/Users/linds/OneDrive/Documents/samoa_corals_data/\")\n",
    "\n",
    "# Ofu-Olosega\n",
    "oo_bty <-raster('OfuOlo/OfuOlo_bty/oo_dbmb_mos4.asc')\n",
    "oo_hs <- raster('OfuOlo/OfuOlo_hs/ofu_5m_hs_int.asc')\n",
    "oo_rug <- raster('OfuOlo/OfuOlo_rugosity/OfuOlo_5m_Rugosity.asc')\n",
    "oo_slope <- raster('OfuOlo/OfuOlo_slope/OfuOlo_5m_Slope.asc')\n",
    "oo_TOAD <- st_read('OfuOlo/OfuOlo_TOAD/OFU_TOAD_ALL2.shp') # for reading the attribute table\n",
    "\n",
    "proj4string(oo_bty) <- CRS(\"+proj=utm +zone=2 +south +ellps=GRS80 +units=m +no_defs\")\n",
    "proj4string(oo_hs) <- CRS(\"+proj=utm +zone=2 +south +ellps=GRS80 +units=m +no_defs\")\n",
    "proj4string(oo_rug) <- CRS(\"+proj=utm +zone=2 +south +ellps=GRS80 +units=m +no_defs\")\n",
    "proj4string(oo_slope) <- CRS(\"+proj=utm +zone=2 +south +ellps=GRS80 +units=m +no_defs\")\n",
    "oo_TOAD <- st_transform(oo_TOAD, crs= st_crs(oo_bty))"
   ]
  },
  {
   "cell_type": "markdown",
   "metadata": {},
   "source": [
    "#### Create aspect raster"
   ]
  },
  {
   "cell_type": "code",
   "execution_count": 20,
   "metadata": {},
   "outputs": [],
   "source": [
    "oo_aspect <- terrain(oo_bty, opt = \"aspect\", unit = \"degrees\")"
   ]
  },
  {
   "cell_type": "code",
   "execution_count": 26,
   "metadata": {},
   "outputs": [],
   "source": [
    "# plot(oo_TOAD, max.plot=97)\n",
    "# plot(oo_bty)"
   ]
  },
  {
   "cell_type": "markdown",
   "metadata": {},
   "source": [
    "#### Clip bathymetry raster < 30 m, > 200 m; crop others to same extent"
   ]
  },
  {
   "cell_type": "code",
   "execution_count": 37,
   "metadata": {},
   "outputs": [],
   "source": [
    "oo_bty[oo_bty > -30] <- NA\n",
    "oo_bty[oo_bty < -200] <- NA\n",
    "\n",
    "oo_hs <- crop(oo_hs, oo_bty)\n",
    "oo_rug <- crop(oo_rug, oo_bty)\n",
    "oo_slope <- crop(oo_slope, oo_bty)\n",
    "oo_aspect <- crop(oo_aspect, oo_bty)"
   ]
  },
  {
   "cell_type": "markdown",
   "metadata": {},
   "source": [
    "## Tau"
   ]
  },
  {
   "cell_type": "code",
   "execution_count": 12,
   "metadata": {},
   "outputs": [
    {
     "name": "stdout",
     "output_type": "stream",
     "text": [
      "Reading layer `Toad_Tau_all2' from data source `C:\\Users\\linds\\OneDrive\\Documents\\samoa_corals_data\\Tau\\Tau_TOAD\\Toad_Tau_all2.shp' using driver `ESRI Shapefile'\n",
      "Simple feature collection with 1276 features and 97 fields\n",
      "geometry type:  POINT\n",
      "dimension:      XY\n",
      "bbox:           xmin: -169.553 ymin: -14.28124 xmax: -169.4154 ymax: -14.20876\n",
      "epsg (SRID):    4326\n",
      "proj4string:    +proj=longlat +datum=WGS84 +no_defs\n"
     ]
    }
   ],
   "source": [
    "# Tau\n",
    "tau_bty <-raster('Tau/Tau_bty/tau_dbmb_mos.asc')\n",
    "tau_hs <- raster('Tau/Tau_hs/tau_5m_hs_int.asc')\n",
    "tau_rug <- raster('Tau/Tau_rugosity/Tau_5m_Rugosity.asc')\n",
    "tau_slope <- raster('Tau/Tau_slope/Tau_5m_Slope.asc')\n",
    "tau_TOAD <- st_read('Tau/Tau_TOAD/Toad_Tau_all2.shp')\n",
    "                    \n",
    "proj4string(tau_bty) <- CRS(\"+proj=utm +zone=2 +south +ellps=GRS80 +units=m +no_defs\")\n",
    "proj4string(tau_hs) <- CRS(\"+proj=utm +zone=2 +south +ellps=GRS80 +units=m +no_defs\")\n",
    "proj4string(tau_rug) <- CRS(\"+proj=utm +zone=2 +south +ellps=GRS80 +units=m +no_defs\")\n",
    "proj4string(tau_slope) <- CRS(\"+proj=utm +zone=2 +south +ellps=GRS80 +units=m +no_defs\")\n",
    "tau_TOAD <- st_transform(tau_TOAD, crs= st_crs(tau_bty))                    "
   ]
  },
  {
   "cell_type": "code",
   "execution_count": 21,
   "metadata": {},
   "outputs": [],
   "source": [
    "# tau_bty # view raster attributes"
   ]
  },
  {
   "cell_type": "markdown",
   "metadata": {},
   "source": [
    "#### Create aspect raster"
   ]
  },
  {
   "cell_type": "code",
   "execution_count": 22,
   "metadata": {},
   "outputs": [],
   "source": [
    "tau_aspect <- terrain(tau_bty, opt = \"aspect\", unit = \"degrees\")"
   ]
  },
  {
   "cell_type": "markdown",
   "metadata": {},
   "source": [
    "#### Clip bathymetry raster < 30 m, > 200 m; crop others to same extent"
   ]
  },
  {
   "cell_type": "code",
   "execution_count": 39,
   "metadata": {},
   "outputs": [],
   "source": [
    "tau_bty[tau_bty > -30] <- NA\n",
    "tau_bty[tau_bty < -200] <- NA\n",
    "\n",
    "tau_hs <- crop(tau_hs, tau_bty)\n",
    "tau_rug <- crop(tau_rug, tau_bty)\n",
    "tau_slope <- crop(tau_slope, tau_bty)\n",
    "tau_aspect <- crop(tau_aspect, tau_bty)"
   ]
  },
  {
   "cell_type": "markdown",
   "metadata": {},
   "source": [
    "## Tutuila"
   ]
  },
  {
   "cell_type": "code",
   "execution_count": 13,
   "metadata": {},
   "outputs": [
    {
     "name": "stdout",
     "output_type": "stream",
     "text": [
      "Reading layer `tut_toad_all' from data source `C:\\Users\\linds\\OneDrive\\Documents\\samoa_corals_data\\Tut\\Tut_TOAD\\tut_toad_all.shp' using driver `ESRI Shapefile'\n",
      "Simple feature collection with 5602 features and 107 fields\n",
      "geometry type:  POINT\n",
      "dimension:      XY\n",
      "bbox:           xmin: -170.9227 ymin: -14.3715 xmax: -170.4948 ymax: -14.20533\n",
      "epsg (SRID):    4267\n",
      "proj4string:    +proj=longlat +ellps=clrk66 +no_defs\n"
     ]
    }
   ],
   "source": [
    "tut_bty <-raster('Tut/Tut_bty/tut_dbmb.asc')\n",
    "tut_hs <- raster('Tut/Tut_hs/tut-re8101-unspv-5m.tif')\n",
    "tut_rug <- raster('Tut/Tut_rugosity/Tutuila_5m_Rugosity.asc')\n",
    "tut_slope <- raster('Tut/Tut_slope/Tutuila_5m_Slope.asc')\n",
    "tut_TOAD <- st_read('Tut/Tut_TOAD/tut_toad_all.shp')\n",
    "\n",
    "proj4string(tut_bty) <- CRS(\"+proj=utm +zone=2 +south +ellps=GRS80 +units=m +no_defs\")\n",
    "proj4string(tut_hs) <- CRS(\"+proj=utm +zone=2 +south +ellps=GRS80 +units=m +no_defs\")\n",
    "proj4string(tut_rug) <- CRS(\"+proj=utm +zone=2 +south +ellps=GRS80 +units=m +no_defs\")\n",
    "proj4string(tut_slope) <- CRS(\"+proj=utm +zone=2 +south +ellps=GRS80 +units=m +no_defs\")\n",
    "tut_TOAD <- st_transform(tut_TOAD, crs= st_crs(tut_bty))"
   ]
  },
  {
   "cell_type": "markdown",
   "metadata": {},
   "source": [
    "#### Create aspect raster"
   ]
  },
  {
   "cell_type": "code",
   "execution_count": 23,
   "metadata": {},
   "outputs": [],
   "source": [
    "tut_aspect <- terrain(tut_bty, opt = \"aspect\", unit = \"degrees\")"
   ]
  },
  {
   "cell_type": "markdown",
   "metadata": {},
   "source": [
    "#### Clip bathymetry raster < 30 m, > 200 m; crop others to same extent"
   ]
  },
  {
   "cell_type": "code",
   "execution_count": 40,
   "metadata": {},
   "outputs": [],
   "source": [
    "tut_bty[tut_bty > -30] <- NA\n",
    "tut_bty[tut_bty < -200] <- NA\n",
    "\n",
    "tut_hs <- crop(tut_hs, tut_bty)\n",
    "tut_rug <- crop(tut_rug, tut_bty)\n",
    "tut_slope <- crop(tut_slope, tut_bty)\n",
    "tut_aspect <- crop(tut_aspect, tut_bty)"
   ]
  },
  {
   "cell_type": "markdown",
   "metadata": {},
   "source": [
    "## Rose Atoll"
   ]
  },
  {
   "cell_type": "code",
   "execution_count": 14,
   "metadata": {},
   "outputs": [],
   "source": [
    "rose_bty <-raster('Rose/Rose_bty/rose_5m_dbmb.asc')\n",
    "rose_hs <- raster('Rose/Rose_hs/ros_5m_hs_int.asc')\n",
    "rose_rug <- raster('Rose/Rose_rugosity/ros_5m_rug.asc')\n",
    "rose_slope <- raster('Rose/Rose_slope/ros_5m_slp.asc')\n",
    "\n",
    "proj4string(rose_bty) <- CRS(\"+proj=utm +zone=2 +south +ellps=GRS80 +units=m +no_defs\")\n",
    "proj4string(rose_hs) <- CRS(\"+proj=utm +zone=2 +south +ellps=GRS80 +units=m +no_defs\")\n",
    "proj4string(rose_rug) <- CRS(\"+proj=utm +zone=2 +south +ellps=GRS80 +units=m +no_defs\")\n",
    "proj4string(rose_slope) <- CRS(\"+proj=utm +zone=2 +south +ellps=GRS80 +units=m +no_defs\")"
   ]
  },
  {
   "cell_type": "markdown",
   "metadata": {},
   "source": [
    "#### Create aspect raster"
   ]
  },
  {
   "cell_type": "code",
   "execution_count": 24,
   "metadata": {},
   "outputs": [],
   "source": [
    "rose_aspect <- terrain(rose_bty, opt = \"aspect\", unit = \"degrees\")"
   ]
  },
  {
   "cell_type": "markdown",
   "metadata": {},
   "source": [
    "#### Clip bathymetry raster < 30 m, > 200 m; crop others to same extent"
   ]
  },
  {
   "cell_type": "code",
   "execution_count": 41,
   "metadata": {},
   "outputs": [],
   "source": [
    "rose_bty[rose_bty > -30] <- NA\n",
    "rose_bty[rose_bty < -200] <- NA\n",
    "\n",
    "rose_hs <- crop(rose_hs, rose_bty)\n",
    "rose_rug <- crop(rose_rug, rose_bty)\n",
    "rose_slope <- crop(rose_slope, rose_bty)\n",
    "rose_aspect <- crop(rose_aspect, rose_bty)"
   ]
  },
  {
   "cell_type": "markdown",
   "metadata": {},
   "source": [
    "## Swains Island"
   ]
  },
  {
   "cell_type": "code",
   "execution_count": 15,
   "metadata": {},
   "outputs": [],
   "source": [
    "swains_bty <-raster('Swains/Swains_bty/swa_dbmb_5m.asc')\n",
    "swains_hs <- raster('Swains/Swains_hs/swains_40m_hardsoft.asc')\n",
    "swains_rug <- raster('Swains/Swains_rugosity/swa_40m_rug.asc')\n",
    "swains_slope <- raster('Swains/Swains_slope/swa_40m_slp.asc')\n",
    "\n",
    "proj4string(swains_bty) <- CRS(\"+proj=utm +zone=2 +south +ellps=GRS80 +units=m +no_defs\")\n",
    "proj4string(swains_hs) <- CRS(\"+proj=utm +zone=2 +south +ellps=GRS80 +units=m +no_defs\")\n",
    "proj4string(swains_rug) <- CRS(\"+proj=utm +zone=2 +south +ellps=GRS80 +units=m +no_defs\")\n",
    "proj4string(swains_slope) <- CRS(\"+proj=utm +zone=2 +south +ellps=GRS80 +units=m +no_defs\")"
   ]
  },
  {
   "cell_type": "markdown",
   "metadata": {},
   "source": [
    "#### Create aspect raster"
   ]
  },
  {
   "cell_type": "code",
   "execution_count": 25,
   "metadata": {},
   "outputs": [],
   "source": [
    "swains_aspect <- terrain(swains_bty, opt = \"aspect\", unit = \"degrees\")"
   ]
  },
  {
   "cell_type": "markdown",
   "metadata": {},
   "source": [
    "#### Clip bathymetry raster < 30 m, > 200 m; crop others to same extent"
   ]
  },
  {
   "cell_type": "code",
   "execution_count": 42,
   "metadata": {},
   "outputs": [],
   "source": [
    "swains_bty[swains_bty > -30] <- NA\n",
    "swains_bty[swains_bty < -200] <- NA\n",
    "\n",
    "swains_hs <- crop(swains_hs, swains_bty)\n",
    "swains_rug <- crop(swains_rug, swains_bty)\n",
    "swains_slope <- crop(swains_slope, swains_bty)\n",
    "swains_aspect <- crop(swains_aspect, swains_bty)"
   ]
  },
  {
   "cell_type": "markdown",
   "metadata": {},
   "source": [
    "## American Samoa (all)"
   ]
  },
  {
   "cell_type": "code",
   "execution_count": 17,
   "metadata": {},
   "outputs": [
    {
     "name": "stdout",
     "output_type": "stream",
     "text": [
      "Reading layer `esi' from data source `C:\\Users\\linds\\OneDrive\\Documents\\samoa_corals_data\\AS_all\\Env_sens_index\\esi.shp' using driver `ESRI Shapefile'\n",
      "Simple feature collection with 61 features and 5 fields\n",
      "geometry type:  POLYGON\n",
      "dimension:      XY\n",
      "bbox:           xmin: -170.7905 ymin: -14.33965 xmax: -169.6217 ymax: -14.17286\n",
      "epsg (SRID):    4326\n",
      "proj4string:    +proj=longlat +datum=WGS84 +no_defs\n",
      "Reading layer `pop' from data source `C:\\Users\\linds\\OneDrive\\Documents\\samoa_corals_data\\AS_all\\Population\\pop.shp' using driver `ESRI Shapefile'\n",
      "Simple feature collection with 64 features and 12 fields\n",
      "geometry type:  MULTIPOLYGON\n",
      "dimension:      XY\n",
      "bbox:           xmin: -170.847 ymin: -14.37421 xmax: -170.5456 ymax: -14.22956\n",
      "epsg (SRID):    4326\n",
      "proj4string:    +proj=longlat +datum=WGS84 +no_defs\n",
      "Reading layer `shore' from data source `C:\\Users\\linds\\OneDrive\\Documents\\samoa_corals_data\\AS_all\\Shorelines\\shore.shp' using driver `ESRI Shapefile'\n",
      "Simple feature collection with 220 features and 2 fields\n",
      "geometry type:  POLYGON\n",
      "dimension:      XY\n",
      "bbox:           xmin: -171.09 ymin: -14.5487 xmax: -168.1433 ymax: -11.04786\n",
      "epsg (SRID):    4326\n",
      "proj4string:    +proj=longlat +datum=WGS84 +no_defs\n",
      "Reading layer `villages' from data source `C:\\Users\\linds\\OneDrive\\Documents\\samoa_corals_data\\AS_all\\Villages\\villages.shp' using driver `ESRI Shapefile'\n",
      "Simple feature collection with 8 features and 5 fields\n",
      "geometry type:  MULTIPOLYGON\n",
      "dimension:      XY\n",
      "bbox:           xmin: -169.6876 ymin: -14.27287 xmax: -169.4185 ymax: -14.15528\n",
      "epsg (SRID):    4326\n",
      "proj4string:    +proj=longlat +datum=WGS84 +no_defs\n",
      "Reading layer `wl' from data source `C:\\Users\\linds\\OneDrive\\Documents\\samoa_corals_data\\AS_all\\Wetlands\\wl.shp' using driver `ESRI Shapefile'\n",
      "Simple feature collection with 22 features and 9 fields\n",
      "geometry type:  POLYGON\n",
      "dimension:      XY\n",
      "bbox:           xmin: -170.7868 ymin: -14.33965 xmax: -169.4237 ymax: -14.1747\n",
      "epsg (SRID):    4326\n",
      "proj4string:    +proj=longlat +datum=WGS84 +no_defs\n"
     ]
    }
   ],
   "source": [
    "# currents <- 'AS_all/Currents/currents.nc'\n",
    "esi <- st_read('AS_all/Env_sens_index/esi.shp')\n",
    "pop <- st_read('AS_all/Population/pop.shp')\n",
    "shore <- st_read('AS_all/Shorelines/shore.shp')\n",
    "villages <- st_read('AS_all/Villages/villages.shp')\n",
    "wetlands <- st_read('AS_all/Wetlands/wl.shp')\n",
    "\n",
    "esi <- st_transform(esi, crs= st_crs(tut_bty))\n",
    "pop <- st_transform(pop, crs= st_crs(tut_bty))\n",
    "shore <- st_transform(shore, crs= st_crs(tut_bty))\n",
    "villages <- st_transform(villages, crs= st_crs(tut_bty))\n",
    "wetlands <- st_transform(wetlands, crs= st_crs(tut_bty))"
   ]
  },
  {
   "cell_type": "markdown",
   "metadata": {},
   "source": [
    "#### Notes etc.\n",
    "\n",
    "- Literature review focusing on priority, then secondary, locations; environmental characteristics of the mesophotic in these areas; mesophotic ecology\n",
    "- [GeoViews walkthrough for visualization](https://towardsdatascience.com/the-5-classification-evaluation-metrics-you-must-know-aa97784ff226)\n",
    "- Models: standard GLM classifier, random forest classifier, possibly XGBoost or neural network\n",
    "- [Metrics for evaluation](https://towardsdatascience.com/the-5-classification-evaluation-metrics-you-must-know-aa97784ff226)"
   ]
  },
  {
   "cell_type": "code",
   "execution_count": null,
   "metadata": {},
   "outputs": [],
   "source": [
    "# possible extraction method of interest\n",
    "#locs$tmin1 <- extract(tmin1, locs)\n",
    "\n",
    "\n",
    "\n",
    "#p1 <- SpatialPoints(xy)\n",
    "\n",
    "\n",
    "### Plot rasters\n",
    "\n",
    "#histogram(tmin1.c)\n",
    "\n",
    "#pairs(tmin.all.c)\n",
    "\n",
    "### Autocorrelation\n",
    "# Moran(tmin1.c)  # global Moran's I\n",
    "#tmin1.Moran <- MoranLocal(tmin1.c)\n",
    "#plot(tmin1.Moran)\n",
    "\n",
    "\n",
    "#### Now let’s compute the Euclidean distance to these points using the distanceFromPoints function.\n",
    "\n",
    "# r2.d <- distanceFromPoints(r2, p1) \n",
    "\n",
    "# Write edited rasters \n",
    "#writeRaster(tmin1.c, filename = \"tmin1.c.grd\")"
   ]
  }
 ],
 "metadata": {
  "kernelspec": {
   "display_name": "R",
   "language": "R",
   "name": "ir"
  },
  "language_info": {
   "codemirror_mode": "r",
   "file_extension": ".r",
   "mimetype": "text/x-r-source",
   "name": "R",
   "pygments_lexer": "r",
   "version": "3.6.2"
  }
 },
 "nbformat": 4,
 "nbformat_minor": 2
}
