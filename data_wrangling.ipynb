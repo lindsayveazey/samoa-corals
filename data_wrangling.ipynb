{
 "cells": [
  {
   "cell_type": "markdown",
   "metadata": {},
   "source": [
    "#### [Raw data](http://www.soest.hawaii.edu/pibhmc/cms/data-by-location/american-samoa/)\n",
    "\n",
    "- *Observational*: ~6 coral groups TBD; \"*_TOAD\". \n",
    "\n",
    "Note that [Rose](http://www.soest.hawaii.edu/pibhmc/cms/data-by-location/american-samoa/rose-atoll/rose-atoll-habitat/) does not have optical validation data, but does have biological characterizations from prior surveys. This may be useful for predictive comparison only.\n",
    "\n",
    "Note that Swains does not have any biological layers available.\n",
    "\n",
    "- *Environmental*: (in progress- TBD based on ongoing literature review); 1-6 from PIBHMC site\n",
    "    1. Depth (from bty: \"*_bty\")\n",
    "    2. Hard vs. soft bottom (from Arc ASCII file: \"*_hs\")\n",
    "    3. Rugosity (from Arc ASCII file: \"*_rugosity\")\n",
    "    4. Slope (from Arc ASCII file: \"*_slope\")\n",
    "    5. PASS 3/20: this attribute is rarely identified as influential...I'm going to exclude it for now..Curvature (from bty)\n",
    "    6. Aspect (from bty)\n",
    "    7. PASS 3/19: Buildings (from PacIOOS: \"*_bldngs*\"; not available for Rose, Swains). Not loading properly...ignore for now\n",
    "    8. Environmental sensitivity index (from PacIOOS: \"AS_all/Env_sens_index\")\n",
    "    9. Village boundaries (from PacIOOS: \"AS_all/Villages/\")\n",
    "    10. Distance from shore (from PacIOOS: \"AS_all/Shorelines/\")\n",
    "    11. Wetland proximity (from PacIOOS: \"AS_all/Wetlands/\")\n",
    "    12. Population 1960-2000 (from PacIOOS: \"AS_all/Population/\")\n",
    "    13. ROMS u velocity (to E) (3 km resolution; from PacIOOS: \"AS_all/Currents\")\n",
    "    14. ROMS v velocity (to N) (3 km resolution; from PacIOOS: \"AS_all/Currents\")\n",
    "\n",
    "Priority locations:  Ofu-Olosega, Ta‘u, Tutuila\n",
    "Secondary locations: Rose Atoll, Swains Island\n",
    "\n",
    "All PIBHMC data is available at 5 m resolution for all locations except for Swains Island (5 m for bty, 40 m for hs, rugosity, slope). Using integrated data when available for completeness of coverage.\n",
    "\n",
    "#### Load libraries"
   ]
  },
  {
   "cell_type": "code",
   "execution_count": 109,
   "metadata": {},
   "outputs": [],
   "source": [
    "library(geojsonio)\n",
    "library(raster)\n",
    "library(rgdal)\n",
    "library(sf)\n",
    "library(spatial.tools)\n",
    "library(tidyverse)"
   ]
  },
  {
   "cell_type": "markdown",
   "metadata": {},
   "source": [
    "#### Load raw data\n",
    "\n",
    "I need to...\n",
    "- [done] load the observational and predictor data for each region (OfuOlo, Rose, Swains, Tau, Tut) and all regions (AS_all)\n",
    "- [done] choose prj, ensure projections align\n",
    "- [done] exclude depths < 30 m and > 200 m**\n",
    "- [done] crop rasters\n",
    "- [done] resample rasters to 50 m resolution\n",
    "- convert TOAD shapefile to 50 m resolution raster, with all 1s prioritized, OR extract raster data to shapefile- still have the issue of overlapping 0s/1s\n",
    "- impute missing data as needed"
   ]
  },
  {
   "cell_type": "markdown",
   "metadata": {},
   "source": [
    "## Ofu-Olo"
   ]
  },
  {
   "cell_type": "code",
   "execution_count": 10,
   "metadata": {},
   "outputs": [
    {
     "name": "stdout",
     "output_type": "stream",
     "text": [
      "Reading layer `OFU_TOAD_ALL2' from data source `C:\\Users\\linds\\OneDrive\\Documents\\samoa_corals_data\\OfuOlo\\OfuOlo_TOAD\\OFU_TOAD_ALL2.shp' using driver `ESRI Shapefile'\n",
      "Simple feature collection with 3042 features and 97 fields\n",
      "geometry type:  POINT\n",
      "dimension:      XY\n",
      "bbox:           xmin: -169.6982 ymin: -14.19928 xmax: -169.5957 ymax: -14.13887\n",
      "epsg (SRID):    4326\n",
      "proj4string:    +proj=longlat +datum=WGS84 +no_defs\n"
     ]
    }
   ],
   "source": [
    "setwd(\"C:/Users/linds/OneDrive/Documents/samoa_corals_data/\")\n",
    "\n",
    "# Ofu-Olosega\n",
    "oo_bty <-raster('OfuOlo/OfuOlo_bty/oo_dbmb_mos4.asc')\n",
    "oo_hs <- raster('OfuOlo/OfuOlo_hs/ofu_5m_hs_int.asc')\n",
    "oo_rug <- raster('OfuOlo/OfuOlo_rugosity/OfuOlo_5m_Rugosity.asc')\n",
    "oo_slope <- raster('OfuOlo/OfuOlo_slope/OfuOlo_5m_Slope.asc')\n",
    "oo_TOAD <- st_read('OfuOlo/OfuOlo_TOAD/OFU_TOAD_ALL2.shp') # for reading the attribute table\n",
    "\n",
    "# Assign projection\n",
    "proj4string(oo_bty) <- CRS(\"+proj=utm +zone=2 +south +ellps=GRS80 +units=m +no_defs\")\n",
    "proj4string(oo_hs) <- CRS(\"+proj=utm +zone=2 +south +ellps=GRS80 +units=m +no_defs\")\n",
    "proj4string(oo_rug) <- CRS(\"+proj=utm +zone=2 +south +ellps=GRS80 +units=m +no_defs\")\n",
    "proj4string(oo_slope) <- CRS(\"+proj=utm +zone=2 +south +ellps=GRS80 +units=m +no_defs\")\n",
    "oo_TOAD <- st_transform(oo_TOAD, crs= st_crs(oo_bty))\n",
    "\n",
    "# Create aspect raster\n",
    "oo_aspect <- terrain(oo_bty, opt = \"aspect\", unit = \"degrees\")\n",
    "\n",
    "# plot(oo_TOAD, max.plot=97)\n",
    "# plot(oo_bty)"
   ]
  },
  {
   "cell_type": "markdown",
   "metadata": {},
   "source": [
    "#### Clip bathymetry raster < 30 m, > 200 m; crop others to same extent; resample rasters"
   ]
  },
  {
   "cell_type": "code",
   "execution_count": 37,
   "metadata": {},
   "outputs": [],
   "source": [
    "oo_bty[oo_bty > -30] <- NA\n",
    "oo_bty[oo_bty < -200] <- NA\n",
    "\n",
    "oo_hs <- crop(oo_hs, oo_bty)\n",
    "oo_rug <- crop(oo_rug, oo_bty)\n",
    "oo_slope <- crop(oo_slope, oo_bty)\n",
    "oo_aspect <- crop(oo_aspect, oo_bty)\n",
    "\n",
    "# Resample rasters to a resolution of 50 m (factor of 10)\n",
    "oo_bty <- aggregate(oo_bty, fact=10)\n",
    "oo_hs <- aggregate(oo_hs, fact=10)\n",
    "oo_rug <- aggregate(oo_rug, fact=10)\n",
    "oo_slope <- aggregate(oo_slope, fact=10)\n",
    "oo_aspect <- aggregate(oo_aspect, fact=10)"
   ]
  },
  {
   "cell_type": "markdown",
   "metadata": {},
   "source": [
    "#### Isolate points (testing)"
   ]
  },
  {
   "cell_type": "code",
   "execution_count": 91,
   "metadata": {},
   "outputs": [
    {
     "data": {
      "text/html": [
       "<style>\n",
       ".list-inline {list-style: none; margin:0; padding: 0}\n",
       ".list-inline>li {display: inline-block}\n",
       ".list-inline>li:not(:last-child)::after {content: \"\\00b7\"; padding: 0 .5ex}\n",
       "</style>\n",
       "<ol class=list-inline><li>'ID'</li><li>'Type'</li><li>'P_V'</li><li>'VidScheme'</li><li>'Island'</li><li>'Cruise'</li><li>'Record'</li><li>'Tow_ID'</li><li>'Date_UTC'</li><li>'Time_UTC'</li><li>'Lat'</li><li>'Long'</li><li>'Distance'</li><li>'Adj_Depth'</li><li>'DepthBin'</li><li>'Image'</li><li>'Image_Time'</li><li>'S1'</li><li>'S2'</li><li>'S3'</li><li>'S4'</li><li>'S5'</li><li>'T1_1'</li><li>'T1_2'</li><li>'T1_3'</li><li>'T1_4'</li><li>'T1_5'</li><li>'T2_1'</li><li>'T2_2'</li><li>'T2_3'</li><li>'T2_4'</li><li>'T2_5'</li><li>'T3_1'</li><li>'T3_2'</li><li>'T3_3'</li><li>'T3_4'</li><li>'T3_5'</li><li>'Cavities'</li><li>'Comments'</li><li>'Bleaching'</li><li>'Unconsolid'</li><li>'Mud'</li><li>'Sand'</li><li>'Hard_Botto'</li><li>'Rubble'</li><li>'Boulder'</li><li>'Rock'</li><li>'Manmade'</li><li>'Unclass_S'</li><li>'Hard_Coral'</li><li>'Soft_Coral'</li><li>'Crustose_C'</li><li>'Turf_Algae'</li><li>'Seagrass'</li><li>'Macroalgae'</li><li>'Sessile_In'</li><li>'Uncolonize'</li><li>'Unclass_T1'</li><li>'Branching'</li><li>'Columnar'</li><li>'Encrusting'</li><li>'Free_Livin'</li><li>'Foliose'</li><li>'Massive'</li><li>'Tabulate'</li><li>'Unclass_mo'</li><li>'NonSclerac'</li><li>'Black_Cora'</li><li>'Octocoral'</li><li>'Unclass_So'</li><li>'Invisible_'</li><li>'Visible_Tu'</li><li>'Unclass_Tu'</li><li>'Cyanobacte'</li><li>'Encrusti_1'</li><li>'Halimeda'</li><li>'Upright_Ma'</li><li>'Unclass_Ma'</li><li>'Anemone'</li><li>'Bivalve'</li><li>'Bryzoan'</li><li>'Corallimor'</li><li>'Giant_Clam'</li><li>'Sponge'</li><li>'Tunicate'</li><li>'Zoanthid'</li><li>'Unclass_In'</li><li>'Null_T2'</li><li>'Acropora'</li><li>'Euphyllia'</li><li>'Leptoseris'</li><li>'Montipora'</li><li>'Other_Cora'</li><li>'Porites'</li><li>'Pocillopor'</li><li>'Unclassifi'</li><li>'Null_T3'</li><li>'geometry'</li></ol>\n"
      ],
      "text/latex": [
       "\\begin{enumerate*}\n",
       "\\item 'ID'\n",
       "\\item 'Type'\n",
       "\\item 'P\\_V'\n",
       "\\item 'VidScheme'\n",
       "\\item 'Island'\n",
       "\\item 'Cruise'\n",
       "\\item 'Record'\n",
       "\\item 'Tow\\_ID'\n",
       "\\item 'Date\\_UTC'\n",
       "\\item 'Time\\_UTC'\n",
       "\\item 'Lat'\n",
       "\\item 'Long'\n",
       "\\item 'Distance'\n",
       "\\item 'Adj\\_Depth'\n",
       "\\item 'DepthBin'\n",
       "\\item 'Image'\n",
       "\\item 'Image\\_Time'\n",
       "\\item 'S1'\n",
       "\\item 'S2'\n",
       "\\item 'S3'\n",
       "\\item 'S4'\n",
       "\\item 'S5'\n",
       "\\item 'T1\\_1'\n",
       "\\item 'T1\\_2'\n",
       "\\item 'T1\\_3'\n",
       "\\item 'T1\\_4'\n",
       "\\item 'T1\\_5'\n",
       "\\item 'T2\\_1'\n",
       "\\item 'T2\\_2'\n",
       "\\item 'T2\\_3'\n",
       "\\item 'T2\\_4'\n",
       "\\item 'T2\\_5'\n",
       "\\item 'T3\\_1'\n",
       "\\item 'T3\\_2'\n",
       "\\item 'T3\\_3'\n",
       "\\item 'T3\\_4'\n",
       "\\item 'T3\\_5'\n",
       "\\item 'Cavities'\n",
       "\\item 'Comments'\n",
       "\\item 'Bleaching'\n",
       "\\item 'Unconsolid'\n",
       "\\item 'Mud'\n",
       "\\item 'Sand'\n",
       "\\item 'Hard\\_Botto'\n",
       "\\item 'Rubble'\n",
       "\\item 'Boulder'\n",
       "\\item 'Rock'\n",
       "\\item 'Manmade'\n",
       "\\item 'Unclass\\_S'\n",
       "\\item 'Hard\\_Coral'\n",
       "\\item 'Soft\\_Coral'\n",
       "\\item 'Crustose\\_C'\n",
       "\\item 'Turf\\_Algae'\n",
       "\\item 'Seagrass'\n",
       "\\item 'Macroalgae'\n",
       "\\item 'Sessile\\_In'\n",
       "\\item 'Uncolonize'\n",
       "\\item 'Unclass\\_T1'\n",
       "\\item 'Branching'\n",
       "\\item 'Columnar'\n",
       "\\item 'Encrusting'\n",
       "\\item 'Free\\_Livin'\n",
       "\\item 'Foliose'\n",
       "\\item 'Massive'\n",
       "\\item 'Tabulate'\n",
       "\\item 'Unclass\\_mo'\n",
       "\\item 'NonSclerac'\n",
       "\\item 'Black\\_Cora'\n",
       "\\item 'Octocoral'\n",
       "\\item 'Unclass\\_So'\n",
       "\\item 'Invisible\\_'\n",
       "\\item 'Visible\\_Tu'\n",
       "\\item 'Unclass\\_Tu'\n",
       "\\item 'Cyanobacte'\n",
       "\\item 'Encrusti\\_1'\n",
       "\\item 'Halimeda'\n",
       "\\item 'Upright\\_Ma'\n",
       "\\item 'Unclass\\_Ma'\n",
       "\\item 'Anemone'\n",
       "\\item 'Bivalve'\n",
       "\\item 'Bryzoan'\n",
       "\\item 'Corallimor'\n",
       "\\item 'Giant\\_Clam'\n",
       "\\item 'Sponge'\n",
       "\\item 'Tunicate'\n",
       "\\item 'Zoanthid'\n",
       "\\item 'Unclass\\_In'\n",
       "\\item 'Null\\_T2'\n",
       "\\item 'Acropora'\n",
       "\\item 'Euphyllia'\n",
       "\\item 'Leptoseris'\n",
       "\\item 'Montipora'\n",
       "\\item 'Other\\_Cora'\n",
       "\\item 'Porites'\n",
       "\\item 'Pocillopor'\n",
       "\\item 'Unclassifi'\n",
       "\\item 'Null\\_T3'\n",
       "\\item 'geometry'\n",
       "\\end{enumerate*}\n"
      ],
      "text/markdown": [
       "1. 'ID'\n",
       "2. 'Type'\n",
       "3. 'P_V'\n",
       "4. 'VidScheme'\n",
       "5. 'Island'\n",
       "6. 'Cruise'\n",
       "7. 'Record'\n",
       "8. 'Tow_ID'\n",
       "9. 'Date_UTC'\n",
       "10. 'Time_UTC'\n",
       "11. 'Lat'\n",
       "12. 'Long'\n",
       "13. 'Distance'\n",
       "14. 'Adj_Depth'\n",
       "15. 'DepthBin'\n",
       "16. 'Image'\n",
       "17. 'Image_Time'\n",
       "18. 'S1'\n",
       "19. 'S2'\n",
       "20. 'S3'\n",
       "21. 'S4'\n",
       "22. 'S5'\n",
       "23. 'T1_1'\n",
       "24. 'T1_2'\n",
       "25. 'T1_3'\n",
       "26. 'T1_4'\n",
       "27. 'T1_5'\n",
       "28. 'T2_1'\n",
       "29. 'T2_2'\n",
       "30. 'T2_3'\n",
       "31. 'T2_4'\n",
       "32. 'T2_5'\n",
       "33. 'T3_1'\n",
       "34. 'T3_2'\n",
       "35. 'T3_3'\n",
       "36. 'T3_4'\n",
       "37. 'T3_5'\n",
       "38. 'Cavities'\n",
       "39. 'Comments'\n",
       "40. 'Bleaching'\n",
       "41. 'Unconsolid'\n",
       "42. 'Mud'\n",
       "43. 'Sand'\n",
       "44. 'Hard_Botto'\n",
       "45. 'Rubble'\n",
       "46. 'Boulder'\n",
       "47. 'Rock'\n",
       "48. 'Manmade'\n",
       "49. 'Unclass_S'\n",
       "50. 'Hard_Coral'\n",
       "51. 'Soft_Coral'\n",
       "52. 'Crustose_C'\n",
       "53. 'Turf_Algae'\n",
       "54. 'Seagrass'\n",
       "55. 'Macroalgae'\n",
       "56. 'Sessile_In'\n",
       "57. 'Uncolonize'\n",
       "58. 'Unclass_T1'\n",
       "59. 'Branching'\n",
       "60. 'Columnar'\n",
       "61. 'Encrusting'\n",
       "62. 'Free_Livin'\n",
       "63. 'Foliose'\n",
       "64. 'Massive'\n",
       "65. 'Tabulate'\n",
       "66. 'Unclass_mo'\n",
       "67. 'NonSclerac'\n",
       "68. 'Black_Cora'\n",
       "69. 'Octocoral'\n",
       "70. 'Unclass_So'\n",
       "71. 'Invisible_'\n",
       "72. 'Visible_Tu'\n",
       "73. 'Unclass_Tu'\n",
       "74. 'Cyanobacte'\n",
       "75. 'Encrusti_1'\n",
       "76. 'Halimeda'\n",
       "77. 'Upright_Ma'\n",
       "78. 'Unclass_Ma'\n",
       "79. 'Anemone'\n",
       "80. 'Bivalve'\n",
       "81. 'Bryzoan'\n",
       "82. 'Corallimor'\n",
       "83. 'Giant_Clam'\n",
       "84. 'Sponge'\n",
       "85. 'Tunicate'\n",
       "86. 'Zoanthid'\n",
       "87. 'Unclass_In'\n",
       "88. 'Null_T2'\n",
       "89. 'Acropora'\n",
       "90. 'Euphyllia'\n",
       "91. 'Leptoseris'\n",
       "92. 'Montipora'\n",
       "93. 'Other_Cora'\n",
       "94. 'Porites'\n",
       "95. 'Pocillopor'\n",
       "96. 'Unclassifi'\n",
       "97. 'Null_T3'\n",
       "98. 'geometry'\n",
       "\n",
       "\n"
      ],
      "text/plain": [
       " [1] \"ID\"         \"Type\"       \"P_V\"        \"VidScheme\"  \"Island\"    \n",
       " [6] \"Cruise\"     \"Record\"     \"Tow_ID\"     \"Date_UTC\"   \"Time_UTC\"  \n",
       "[11] \"Lat\"        \"Long\"       \"Distance\"   \"Adj_Depth\"  \"DepthBin\"  \n",
       "[16] \"Image\"      \"Image_Time\" \"S1\"         \"S2\"         \"S3\"        \n",
       "[21] \"S4\"         \"S5\"         \"T1_1\"       \"T1_2\"       \"T1_3\"      \n",
       "[26] \"T1_4\"       \"T1_5\"       \"T2_1\"       \"T2_2\"       \"T2_3\"      \n",
       "[31] \"T2_4\"       \"T2_5\"       \"T3_1\"       \"T3_2\"       \"T3_3\"      \n",
       "[36] \"T3_4\"       \"T3_5\"       \"Cavities\"   \"Comments\"   \"Bleaching\" \n",
       "[41] \"Unconsolid\" \"Mud\"        \"Sand\"       \"Hard_Botto\" \"Rubble\"    \n",
       "[46] \"Boulder\"    \"Rock\"       \"Manmade\"    \"Unclass_S\"  \"Hard_Coral\"\n",
       "[51] \"Soft_Coral\" \"Crustose_C\" \"Turf_Algae\" \"Seagrass\"   \"Macroalgae\"\n",
       "[56] \"Sessile_In\" \"Uncolonize\" \"Unclass_T1\" \"Branching\"  \"Columnar\"  \n",
       "[61] \"Encrusting\" \"Free_Livin\" \"Foliose\"    \"Massive\"    \"Tabulate\"  \n",
       "[66] \"Unclass_mo\" \"NonSclerac\" \"Black_Cora\" \"Octocoral\"  \"Unclass_So\"\n",
       "[71] \"Invisible_\" \"Visible_Tu\" \"Unclass_Tu\" \"Cyanobacte\" \"Encrusti_1\"\n",
       "[76] \"Halimeda\"   \"Upright_Ma\" \"Unclass_Ma\" \"Anemone\"    \"Bivalve\"   \n",
       "[81] \"Bryzoan\"    \"Corallimor\" \"Giant_Clam\" \"Sponge\"     \"Tunicate\"  \n",
       "[86] \"Zoanthid\"   \"Unclass_In\" \"Null_T2\"    \"Acropora\"   \"Euphyllia\" \n",
       "[91] \"Leptoseris\" \"Montipora\"  \"Other_Cora\" \"Porites\"    \"Pocillopor\"\n",
       "[96] \"Unclassifi\" \"Null_T3\"    \"geometry\"  "
      ]
     },
     "metadata": {},
     "output_type": "display_data"
    }
   ],
   "source": [
    "colnames(oo_black_coral)"
   ]
  },
  {
   "cell_type": "code",
   "execution_count": 118,
   "metadata": {},
   "outputs": [],
   "source": [
    "# Isolating black coral points\n",
    "oo_TOAD_black_coral <- oo_TOAD[,c(68)]\n",
    "oo_TOAD_black_coral <- as.data.frame(oo_TOAD_black_coral)\n",
    "\n",
    "# Separate UTM coordinates from geometry column\n",
    "oo_TOAD_black_coral <- oo_TOAD_black_coral %>%\n",
    "    mutate(lat = unlist(map(oo_TOAD_black_coral$geometry,1)),\n",
    "           long = unlist(map(oo_TOAD_black_coral$geometry,2)))\n",
    "\n",
    "# Drop geometry column\n",
    "oo_TOAD_black_coral$geometry <- NULL"
   ]
  },
  {
   "cell_type": "markdown",
   "metadata": {},
   "source": [
    "## Tau"
   ]
  },
  {
   "cell_type": "code",
   "execution_count": 12,
   "metadata": {},
   "outputs": [
    {
     "name": "stdout",
     "output_type": "stream",
     "text": [
      "Reading layer `Toad_Tau_all2' from data source `C:\\Users\\linds\\OneDrive\\Documents\\samoa_corals_data\\Tau\\Tau_TOAD\\Toad_Tau_all2.shp' using driver `ESRI Shapefile'\n",
      "Simple feature collection with 1276 features and 97 fields\n",
      "geometry type:  POINT\n",
      "dimension:      XY\n",
      "bbox:           xmin: -169.553 ymin: -14.28124 xmax: -169.4154 ymax: -14.20876\n",
      "epsg (SRID):    4326\n",
      "proj4string:    +proj=longlat +datum=WGS84 +no_defs\n"
     ]
    }
   ],
   "source": [
    "# Tau\n",
    "tau_bty <-raster('Tau/Tau_bty/tau_dbmb_mos.asc')\n",
    "tau_hs <- raster('Tau/Tau_hs/tau_5m_hs_int.asc')\n",
    "tau_rug <- raster('Tau/Tau_rugosity/Tau_5m_Rugosity.asc')\n",
    "tau_slope <- raster('Tau/Tau_slope/Tau_5m_Slope.asc')\n",
    "tau_TOAD <- st_read('Tau/Tau_TOAD/Toad_Tau_all2.shp')\n",
    "                    \n",
    "proj4string(tau_bty) <- CRS(\"+proj=utm +zone=2 +south +ellps=GRS80 +units=m +no_defs\")\n",
    "proj4string(tau_hs) <- CRS(\"+proj=utm +zone=2 +south +ellps=GRS80 +units=m +no_defs\")\n",
    "proj4string(tau_rug) <- CRS(\"+proj=utm +zone=2 +south +ellps=GRS80 +units=m +no_defs\")\n",
    "proj4string(tau_slope) <- CRS(\"+proj=utm +zone=2 +south +ellps=GRS80 +units=m +no_defs\")\n",
    "tau_TOAD <- st_transform(tau_TOAD, crs= st_crs(tau_bty))\n",
    "\n",
    "tau_aspect <- terrain(tau_bty, opt = \"aspect\", unit = \"degrees\")\n",
    "\n",
    "# tau_bty # view raster attributes                   "
   ]
  },
  {
   "cell_type": "markdown",
   "metadata": {},
   "source": [
    "#### Clip bathymetry raster < 30 m, > 200 m; crop others to same extent; resample rasters"
   ]
  },
  {
   "cell_type": "code",
   "execution_count": 39,
   "metadata": {},
   "outputs": [],
   "source": [
    "tau_bty[tau_bty > -30] <- NA\n",
    "tau_bty[tau_bty < -200] <- NA\n",
    "\n",
    "tau_hs <- crop(tau_hs, tau_bty)\n",
    "tau_rug <- crop(tau_rug, tau_bty)\n",
    "tau_slope <- crop(tau_slope, tau_bty)\n",
    "tau_aspect <- crop(tau_aspect, tau_bty)\n",
    "\n",
    "# Resample rasters to a resolution of 50 m (factor of 10)\n",
    "tau_bty <- aggregate(tau_bty, fact=10)\n",
    "tau_hs <- aggregate(tau_hs, fact=10)\n",
    "tau_rug <- aggregate(tau_rug, fact=10)\n",
    "tau_slope <- aggregate(tau_slope, fact=10)\n",
    "tau_aspect <- aggregate(tau_aspect, fact=10)"
   ]
  },
  {
   "cell_type": "markdown",
   "metadata": {},
   "source": [
    "## Tutuila"
   ]
  },
  {
   "cell_type": "code",
   "execution_count": 13,
   "metadata": {},
   "outputs": [
    {
     "name": "stdout",
     "output_type": "stream",
     "text": [
      "Reading layer `tut_toad_all' from data source `C:\\Users\\linds\\OneDrive\\Documents\\samoa_corals_data\\Tut\\Tut_TOAD\\tut_toad_all.shp' using driver `ESRI Shapefile'\n",
      "Simple feature collection with 5602 features and 107 fields\n",
      "geometry type:  POINT\n",
      "dimension:      XY\n",
      "bbox:           xmin: -170.9227 ymin: -14.3715 xmax: -170.4948 ymax: -14.20533\n",
      "epsg (SRID):    4267\n",
      "proj4string:    +proj=longlat +ellps=clrk66 +no_defs\n"
     ]
    }
   ],
   "source": [
    "tut_bty <-raster('Tut/Tut_bty/tut_dbmb.asc')\n",
    "tut_hs <- raster('Tut/Tut_hs/tut-re8101-unspv-5m.tif')\n",
    "tut_rug <- raster('Tut/Tut_rugosity/Tutuila_5m_Rugosity.asc')\n",
    "tut_slope <- raster('Tut/Tut_slope/Tutuila_5m_Slope.asc')\n",
    "tut_TOAD <- st_read('Tut/Tut_TOAD/tut_toad_all.shp')\n",
    "\n",
    "proj4string(tut_bty) <- CRS(\"+proj=utm +zone=2 +south +ellps=GRS80 +units=m +no_defs\")\n",
    "proj4string(tut_hs) <- CRS(\"+proj=utm +zone=2 +south +ellps=GRS80 +units=m +no_defs\")\n",
    "proj4string(tut_rug) <- CRS(\"+proj=utm +zone=2 +south +ellps=GRS80 +units=m +no_defs\")\n",
    "proj4string(tut_slope) <- CRS(\"+proj=utm +zone=2 +south +ellps=GRS80 +units=m +no_defs\")\n",
    "tut_TOAD <- st_transform(tut_TOAD, crs= st_crs(tut_bty))\n",
    "\n",
    "tut_aspect <- terrain(tut_bty, opt = \"aspect\", unit = \"degrees\")"
   ]
  },
  {
   "cell_type": "markdown",
   "metadata": {},
   "source": [
    "#### Clip bathymetry raster < 30 m, > 200 m; crop others to same extent; resample rasters"
   ]
  },
  {
   "cell_type": "code",
   "execution_count": 40,
   "metadata": {},
   "outputs": [],
   "source": [
    "tut_bty[tut_bty > -30] <- NA\n",
    "tut_bty[tut_bty < -200] <- NA\n",
    "\n",
    "tut_hs <- crop(tut_hs, tut_bty)\n",
    "tut_rug <- crop(tut_rug, tut_bty)\n",
    "tut_slope <- crop(tut_slope, tut_bty)\n",
    "tut_aspect <- crop(tut_aspect, tut_bty)\n",
    "\n",
    "tut_bty <- aggregate(tut_bty, fact=10)\n",
    "tut_hs <- aggregate(tut_hs, fact=10)\n",
    "tut_rug <- aggregate(tut_rug, fact=10)\n",
    "tut_slope <- aggregate(tut_slope, fact=10)\n",
    "tut_aspect <- aggregate(tut_aspect, fact=10)"
   ]
  },
  {
   "cell_type": "code",
   "execution_count": 52,
   "metadata": {},
   "outputs": [],
   "source": [
    "tut_bty <- aggregate(tut_bty, fact=10)\n",
    "tut_hs <- aggregate(tut_hs, fact=10)\n",
    "tut_rug <- aggregate(tut_rug, fact=10)\n",
    "tut_slope <- aggregate(tut_slope, fact=10)\n",
    "tut_aspect <- aggregate(tut_aspect, fact=10)"
   ]
  },
  {
   "cell_type": "markdown",
   "metadata": {},
   "source": [
    "## Rose Atoll"
   ]
  },
  {
   "cell_type": "code",
   "execution_count": 14,
   "metadata": {},
   "outputs": [],
   "source": [
    "rose_bty <-raster('Rose/Rose_bty/rose_5m_dbmb.asc')\n",
    "rose_hs <- raster('Rose/Rose_hs/ros_5m_hs_int.asc')\n",
    "rose_rug <- raster('Rose/Rose_rugosity/ros_5m_rug.asc')\n",
    "rose_slope <- raster('Rose/Rose_slope/ros_5m_slp.asc')\n",
    "\n",
    "proj4string(rose_bty) <- CRS(\"+proj=utm +zone=2 +south +ellps=GRS80 +units=m +no_defs\")\n",
    "proj4string(rose_hs) <- CRS(\"+proj=utm +zone=2 +south +ellps=GRS80 +units=m +no_defs\")\n",
    "proj4string(rose_rug) <- CRS(\"+proj=utm +zone=2 +south +ellps=GRS80 +units=m +no_defs\")\n",
    "proj4string(rose_slope) <- CRS(\"+proj=utm +zone=2 +south +ellps=GRS80 +units=m +no_defs\")\n",
    "\n",
    "rose_aspect <- terrain(rose_bty, opt = \"aspect\", unit = \"degrees\")"
   ]
  },
  {
   "cell_type": "markdown",
   "metadata": {},
   "source": [
    "#### Clip bathymetry raster < 30 m, > 200 m; crop others to same extent; resample rasters"
   ]
  },
  {
   "cell_type": "code",
   "execution_count": 41,
   "metadata": {},
   "outputs": [],
   "source": [
    "rose_bty[rose_bty > -30] <- NA\n",
    "rose_bty[rose_bty < -200] <- NA\n",
    "\n",
    "rose_hs <- crop(rose_hs, rose_bty)\n",
    "rose_rug <- crop(rose_rug, rose_bty)\n",
    "rose_slope <- crop(rose_slope, rose_bty)\n",
    "rose_aspect <- crop(rose_aspect, rose_bty)\n",
    "\n",
    "rose_bty <- aggregate(rose_bty, fact=10)\n",
    "rose_hs <- aggregate(rose_hs, fact=10)\n",
    "rose_rug <- aggregate(rose_rug, fact=10)\n",
    "rose_slope <- aggregate(rose_slope, fact=10)\n",
    "rose_aspect <- aggregate(rose_aspect, fact=10)"
   ]
  },
  {
   "cell_type": "markdown",
   "metadata": {},
   "source": [
    "## Swains Island"
   ]
  },
  {
   "cell_type": "code",
   "execution_count": 15,
   "metadata": {},
   "outputs": [],
   "source": [
    "swains_bty <-raster('Swains/Swains_bty/swa_dbmb_5m.asc')\n",
    "swains_hs <- raster('Swains/Swains_hs/swains_40m_hardsoft.asc')\n",
    "swains_rug <- raster('Swains/Swains_rugosity/swa_40m_rug.asc')\n",
    "swains_slope <- raster('Swains/Swains_slope/swa_40m_slp.asc')\n",
    "\n",
    "proj4string(swains_bty) <- CRS(\"+proj=utm +zone=2 +south +ellps=GRS80 +units=m +no_defs\")\n",
    "proj4string(swains_hs) <- CRS(\"+proj=utm +zone=2 +south +ellps=GRS80 +units=m +no_defs\")\n",
    "proj4string(swains_rug) <- CRS(\"+proj=utm +zone=2 +south +ellps=GRS80 +units=m +no_defs\")\n",
    "proj4string(swains_slope) <- CRS(\"+proj=utm +zone=2 +south +ellps=GRS80 +units=m +no_defs\")\n",
    "\n",
    "swains_aspect <- terrain(swains_bty, opt = \"aspect\", unit = \"degrees\")"
   ]
  },
  {
   "cell_type": "markdown",
   "metadata": {},
   "source": [
    "#### Clip bathymetry raster < 30 m, > 200 m; crop others to same extent; resample rasters"
   ]
  },
  {
   "cell_type": "code",
   "execution_count": 42,
   "metadata": {},
   "outputs": [],
   "source": [
    "swains_bty[swains_bty > -30] <- NA\n",
    "swains_bty[swains_bty < -200] <- NA\n",
    "\n",
    "swains_hs <- crop(swains_hs, swains_bty)\n",
    "swains_rug <- crop(swains_rug, swains_bty)\n",
    "swains_slope <- crop(swains_slope, swains_bty)\n",
    "swains_aspect <- crop(swains_aspect, swains_bty)\n",
    "\n",
    "swains_bty <- aggregate(swains_bty, fact=10)\n",
    "\n",
    "swains_hs <- disaggregate(swains_hs, fact=4)\n",
    "swains_hs <- aggregate(swains_hs, fact=5)\n",
    "\n",
    "swains_rug <- disaggregate(swains_rug, fact=4)\n",
    "swains_rug <- aggregate(swains_rug, fact=5)\n",
    "\n",
    "swains_slope <- disaggregate(swains_slope, fact=4)\n",
    "swains_slope <- aggregate(swains_slope, fact=5)\n",
    "\n",
    "swains_aspect <- aggregate(swains_aspect, fact=10)"
   ]
  },
  {
   "cell_type": "markdown",
   "metadata": {},
   "source": [
    "## American Samoa (all)"
   ]
  },
  {
   "cell_type": "code",
   "execution_count": 17,
   "metadata": {},
   "outputs": [
    {
     "name": "stdout",
     "output_type": "stream",
     "text": [
      "Reading layer `esi' from data source `C:\\Users\\linds\\OneDrive\\Documents\\samoa_corals_data\\AS_all\\Env_sens_index\\esi.shp' using driver `ESRI Shapefile'\n",
      "Simple feature collection with 61 features and 5 fields\n",
      "geometry type:  POLYGON\n",
      "dimension:      XY\n",
      "bbox:           xmin: -170.7905 ymin: -14.33965 xmax: -169.6217 ymax: -14.17286\n",
      "epsg (SRID):    4326\n",
      "proj4string:    +proj=longlat +datum=WGS84 +no_defs\n",
      "Reading layer `pop' from data source `C:\\Users\\linds\\OneDrive\\Documents\\samoa_corals_data\\AS_all\\Population\\pop.shp' using driver `ESRI Shapefile'\n",
      "Simple feature collection with 64 features and 12 fields\n",
      "geometry type:  MULTIPOLYGON\n",
      "dimension:      XY\n",
      "bbox:           xmin: -170.847 ymin: -14.37421 xmax: -170.5456 ymax: -14.22956\n",
      "epsg (SRID):    4326\n",
      "proj4string:    +proj=longlat +datum=WGS84 +no_defs\n",
      "Reading layer `shore' from data source `C:\\Users\\linds\\OneDrive\\Documents\\samoa_corals_data\\AS_all\\Shorelines\\shore.shp' using driver `ESRI Shapefile'\n",
      "Simple feature collection with 220 features and 2 fields\n",
      "geometry type:  POLYGON\n",
      "dimension:      XY\n",
      "bbox:           xmin: -171.09 ymin: -14.5487 xmax: -168.1433 ymax: -11.04786\n",
      "epsg (SRID):    4326\n",
      "proj4string:    +proj=longlat +datum=WGS84 +no_defs\n",
      "Reading layer `villages' from data source `C:\\Users\\linds\\OneDrive\\Documents\\samoa_corals_data\\AS_all\\Villages\\villages.shp' using driver `ESRI Shapefile'\n",
      "Simple feature collection with 8 features and 5 fields\n",
      "geometry type:  MULTIPOLYGON\n",
      "dimension:      XY\n",
      "bbox:           xmin: -169.6876 ymin: -14.27287 xmax: -169.4185 ymax: -14.15528\n",
      "epsg (SRID):    4326\n",
      "proj4string:    +proj=longlat +datum=WGS84 +no_defs\n",
      "Reading layer `wl' from data source `C:\\Users\\linds\\OneDrive\\Documents\\samoa_corals_data\\AS_all\\Wetlands\\wl.shp' using driver `ESRI Shapefile'\n",
      "Simple feature collection with 22 features and 9 fields\n",
      "geometry type:  POLYGON\n",
      "dimension:      XY\n",
      "bbox:           xmin: -170.7868 ymin: -14.33965 xmax: -169.4237 ymax: -14.1747\n",
      "epsg (SRID):    4326\n",
      "proj4string:    +proj=longlat +datum=WGS84 +no_defs\n"
     ]
    }
   ],
   "source": [
    "# currents <- 'AS_all/Currents/currents.nc'\n",
    "esi <- st_read('AS_all/Env_sens_index/esi.shp')\n",
    "pop <- st_read('AS_all/Population/pop.shp')\n",
    "shore <- st_read('AS_all/Shorelines/shore.shp')\n",
    "villages <- st_read('AS_all/Villages/villages.shp')\n",
    "wetlands <- st_read('AS_all/Wetlands/wl.shp')\n",
    "\n",
    "esi <- st_transform(esi, crs= st_crs(tut_bty))\n",
    "pop <- st_transform(pop, crs= st_crs(tut_bty))\n",
    "shore <- st_transform(shore, crs= st_crs(tut_bty))\n",
    "villages <- st_transform(villages, crs= st_crs(tut_bty))\n",
    "wetlands <- st_transform(wetlands, crs= st_crs(tut_bty))"
   ]
  },
  {
   "cell_type": "code",
   "execution_count": 82,
   "metadata": {},
   "outputs": [
    {
     "data": {
      "application/geo+json": {
       "features": [
        {
         "geometry": {
          "coordinates": [
           [
            [
             648733.1919,
             8431997.0189
            ],
            [
             648724.9628,
             8431998.0169
            ],
            [
             648720.0686,
             8432005.9585
            ],
            [
             648710.2578,
             8432018.0438
            ],
            [
             648698.8168,
             8432032.9872
            ],
            [
             648687.3591,
             8432045.0822
            ],
            [
             648679.1591,
             8432051.0387
            ],
            [
             648662.7655,
             8432064.0068
            ],
            [
             648647.9722,
             8432069.0526
            ],
            [
             648639.8312,
             8432085.0316
            ],
            [
             648626.8731,
             8432122.0343
            ],
            [
             648615.5973,
             8432165.0408
            ],
            [
             648607.5091,
             8432189.9873
            ],
            [
             648591.2041,
             8432218.0418
            ],
            [
             648583.1867,
             8432255.0153
            ],
            [
             648578.3396,
             8432270.975
            ],
            [
             648568.5814,
             8432292.0277
            ],
            [
             648555.5578,
             8432317.9527
            ],
            [
             648544.1172,
             8432333.0016
            ],
            [
             648540.8525,
             8432337.9795
            ],
            [
             648532.7412,
             8432359.0225
            ],
            [
             648527.853,
             8432368.0191
            ],
            [
             648524.6646,
             8432385.9735
            ],
            [
             648521.506,
             8432408.9919
            ],
            [
             648521.6059,
             8432425.9774
            ],
            [
             648521.6587,
             8432434.9449
            ],
            [
             648520.0353,
             8432438.9636
            ],
            [
             648516.7941,
             8432447.9505
            ],
            [
             648508.6238,
             8432458.971
            ],
            [
             648503.7356,
             8432467.9676
            ],
            [
             648497.2067,
             8432478.0288
            ],
            [
             648495.5833,
             8432482.0475
            ],
            [
             648489.0482,
             8432491.0538
            ],
            [
             648489.1363,
             8432506.0348
            ],
            [
             648489.1654,
             8432510.9933
            ],
            [
             648499.0771,
             8432515.9992
            ],
            [
             648507.3064,
             8432515.0012
            ],
            [
             648520.4475,
             8432509.0157
            ],
            [
             648528.6296,
             8432499.9998
            ],
            [
             648535.1883,
             8432495.0025
            ],
            [
             648546.6824,
             8432489.0266
            ],
            [
             648548.2822,
             8432480.9989
            ],
            [
             648553.1703,
             8432472.0024
            ],
            [
             648559.711,
             8432463.9456
            ],
            [
             648567.9347,
             8432461.9981
            ],
            [
             648576.1696,
             8432461.9496
            ],
            [
             648581.1111,
             8432462.0261
            ],
            [
             648589.3106,
             8432455.9641
            ],
            [
             648590.911,
             8432448.0419
            ],
            [
             648576.046,
             8432440.9551
            ],
            [
             648569.4408,
             8432438.0399
            ],
            [
             648570.917,
             8432409.0176
            ],
            [
             648577.3521,
             8432383.0258
            ],
            [
             648582.2166,
             8432370.0202
            ],
            [
             648595.2104,
             8432339.0311
            ],
            [
             648608.2687,
             8432319.014
            ],
            [
             648614.7392,
             8432299.0357
            ],
            [
             648622.8386,
             8432275.9882
            ],
            [
             648627.6739,
             8432258.024
            ],
            [
             648637.4264,
             8432236.0218
            ],
            [
             648645.5376,
             8432214.9788
            ],
            [
             648671.5484,
             8432157.0095
            ],
            [
             648682.9652,
             8432137.9515
            ],
            [
             648692.7238,
             8432117.0042
            ],
            [
             648702.5235,
             8432103.02
            ],
            [
             648710.6818,
             8432089.9949
            ],
            [
             648712.2815,
             8432081.9672
            ],
            [
             648736.6979,
             8432032.975
            ],
            [
             648743.2154,
             8432021.0147
            ],
            [
             648744.8151,
             8432012.9869
            ],
            [
             648744.7678,
             8432004.9689
            ],
            [
             648739.7915,
             8431998.9845
            ],
            [
             648733.1919,
             8431997.0189
            ]
           ]
          ],
          "type": "Polygon"
         },
         "properties": {
          "AREA": 0,
          "ENVIR": "Estuarine",
          "ESI": "Freshwater Marshes",
          "PERIMETER": 0.011,
          "WATER_CODE": "Land"
         },
         "type": "Feature"
        },
        {
         "geometry": {
          "coordinates": [
           [
            [
             643550.6389,
             8431507.0118
            ],
            [
             643539.1162,
             8431508.0269
            ],
            [
             643525.9465,
             8431509.0513
            ],
            [
             643517.7175,
             8431510.0476
            ],
            [
             643509.5053,
             8431513.9979
            ],
            [
             643502.9292,
             8431516.0399
            ],
            [
             643478.2194,
             8431515.0199
            ],
            [
             643469.9729,
             8431512.9568
            ],
            [
             643458.4388,
             8431511.9673
            ],
            [
             643437.0575,
             8431517.0475
            ],
            [
             643420.6505,
             8431528.0074
            ],
            [
             643405.8567,
             8431533.0501
            ],
            [
             643397.6499,
             8431537.9499
            ],
            [
             643384.5654,
             8431553.955
            ],
            [
             643406.1973,
             8431592.9732
            ],
            [
             643411.1782,
             8431600.0135
            ],
            [
             643424.3934,
             8431607.007
            ],
            [
             643439.273,
             8431617.0506
            ],
            [
             643444.2305,
             8431619.9765
            ],
            [
             643465.6466,
             8431621.0152
            ],
            [
             643483.757,
             8431619.9627
            ],
            [
             643498.54,
             8431613.021
            ],
            [
             643511.6815,
             8431607.0382
            ],
            [
             643516.5993,
             8431603.0011
            ],
            [
             643524.7828,
             8431593.9869
            ],
            [
             643532.9836,
             8431588.0322
            ],
            [
             643537.8846,
             8431581.0412
            ],
            [
             643541.11,
             8431568.9956
            ],
            [
             643544.3353,
             8431556.95
            ],
            [
             643547.5613,
             8431545.01
            ],
            [
             643550.8154,
             8431538.0283
            ],
            [
             643554.075,
             8431531.9962
            ],
            [
             643557.3345,
             8431525.964
            ],
            [
             643560.6115,
             8431522.9913
            ],
            [
             643563.877,
             8431518.0141
            ],
            [
             643562.1845,
             8431510.0056
            ],
            [
             643550.6389,
             8431507.0118
            ]
           ]
          ],
          "type": "Polygon"
         },
         "properties": {
          "AREA": 0,
          "ENVIR": "Estuarine",
          "ESI": "Freshwater Marshes",
          "PERIMETER": 0.004,
          "WATER_CODE": "Land"
         },
         "type": "Feature"
        },
        {
         "geometry": {
          "coordinates": [
           [
            [
             534852.7935,
             8424586.9586
            ],
            [
             534824.8261,
             8424597.9668
            ],
            [
             534791.9234,
             8424610.9859
            ],
            [
             534777.1243,
             8424621.9759
            ],
            [
             534770.5485,
             8424627.9971
            ],
            [
             534765.6298,
             8424642.0322
            ],
            [
             534767.2882,
             8424650.9953
            ],
            [
             534777.1852,
             8424665.9591
            ],
            [
             534790.3827,
             8424687.0359
            ],
            [
             534798.6378,
             8424704.9553
            ],
            [
             534815.126,
             8424724.9728
            ],
            [
             534834.9078,
             8424746.0405
            ],
            [
             534854.695,
             8424771.0107
            ],
            [
             534872.8224,
             8424786.0685
            ],
            [
             534887.6744,
             8424813.0496
            ],
            [
             534902.518,
             8424834.0186
            ],
            [
             534915.7198,
             8424858.0487
            ],
            [
             534919.0439,
             8424881.0377
            ],
            [
             534917.4256,
             8424900.9749
            ],
            [
             534917.4618,
             8424927.0273
            ],
            [
             534919.1134,
             8424931.033
            ],
            [
             534909.2912,
             8424969.9671
            ],
            [
             534907.6771,
             8424992.963
            ],
            [
             534904.4544,
             8425042.9629
            ],
            [
             534914.3865,
             8425083.0298
            ],
            [
             534914.4101,
             8425100.0113
            ],
            [
             534907.8314,
             8425104.0285
            ],
            [
             534891.3818,
             8425111.962
            ],
            [
             534873.2806,
             8425115.9952
            ],
            [
             534871.6443,
             8425123.0644
            ],
            [
             534893.039,
             8425119.9759
            ],
            [
             534942.4003,
             8425105.0352
            ],
            [
             534967.0846,
             8425100.149
            ],
            [
             535083.9373,
             8425087.0126
            ],
            [
             535123.4429,
             8425086.9573
            ],
            [
             535144.8432,
             8425087.9822
            ],
            [
             535161.3054,
             8425089.0139
            ],
            [
             535172.8292,
             8425089.947
            ],
            [
             535181.0569,
             8425088.0369
            ],
            [
             535189.2718,
             8425077.056
            ],
            [
             535192.5443,
             8425063.0231
            ],
            [
             535184.2943,
             8425049.0065
            ],
            [
             535174.4011,
             8425036.9961
            ],
            [
             535146.3774,
             8425008.0296
            ],
            [
             535113.4155,
             8424978.9644
            ],
            [
             535095.2754,
             8424955.0468
            ],
            [
             535091.979,
             8424951.9927
            ],
            [
             535085.3975,
             8424954.0059
            ],
            [
             535082.111,
             8424958.0186
            ],
            [
             535088.7162,
             8424972.9868
            ],
            [
             535103.5587,
             8424993.0065
            ],
            [
             535134.8969,
             8425038.0007
            ],
            [
             535139.856,
             8425052.9713
            ],
            [
             535139.8715,
             8425064.0462
            ],
            [
             535136.5905,
             8425071.9614
            ],
            [
             535131.6523,
             8425071.9683
            ],
            [
             535126.7071,
             8425067.0179
            ],
            [
             535123.4079,
             8425061.9597
            ],
            [
             535115.1455,
             8425038.9776
            ],
            [
             535098.6624,
             8425022.9683
            ],
            [
             535073.9478,
             8425006.0213
            ],
            [
             535057.4523,
             8424981.0466
            ],
            [
             535044.2515,
             8424957.9659
            ],
            [
             535031.0691,
             8424947.9642
            ],
            [
             535016.2365,
             8424935.0113
            ],
            [
             534989.8424,
             8424894.0182
            ],
            [
             534986.5239,
             8424875.0372
            ],
            [
             534976.6113,
             8424848.9986
            ],
            [
             534968.3518,
             8424828.0204
            ],
            [
             534950.2132,
             8424805.052
            ],
            [
             534941.9536,
             8424783.9684
            ],
            [
             534936.9947,
             8424768.9978
            ],
            [
             534930.3673,
             8424737.9972
            ],
            [
             534920.4563,
             8424713.0133
            ],
            [
             534905.6113,
             8424690.9895
            ],
            [
             534898.9965,
             8424668.9544
            ],
            [
             534900.6232,
             8424655.0293
            ],
            [
             534907.1865,
             8424640.0427
            ],
            [
             534908.8006,
             8424617.0468
            ],
            [
             534900.5494,
             8424601.9752
            ],
            [
             534889.0147,
             8424593.0259
            ],
            [
             534874.1962,
             8424589.9876
            ],
            [
             534852.7935,
             8424586.9586
            ]
           ]
          ],
          "type": "Polygon"
         },
         "properties": {
          "AREA": 0,
          "ENVIR": "Estuarine",
          "ESI": "Freshwater Marshes",
          "PERIMETER": 0.017,
          "WATER_CODE": "Land"
         },
         "type": "Feature"
        },
        {
         "geometry": {
          "coordinates": [
           [
            [
             546666.0436,
             8424353.9802
            ],
            [
             546651.233,
             8424356.0118
            ],
            [
             546634.8022,
             8424371.9693
            ],
            [
             546626.598,
             8424386.013
            ],
            [
             546618.4105,
             8424409.0222
            ],
            [
             546608.5713,
             8424428.9755
            ],
            [
             546592.1518,
             8424451.0507
            ],
            [
             546564.2062,
             8424471.1431
            ],
            [
             546526.4171,
             8424508.9739
            ],
            [
             546518.2146,
             8424523.9668
            ],
            [
             546513.3247,
             8424550.0287
            ],
            [
             546518.2814,
             8424560.0398
            ],
            [
             546524.8825,
             8424569.0985
            ],
            [
             546547.9381,
             8424574.9625
            ],
            [
             546554.5169,
             8424571.997
            ],
            [
             546570.9682,
             8424567.0091
            ],
            [
             546602.2079,
             8424547.9653
            ],
            [
             546623.5845,
             8424536.0067
            ],
            [
             546681.1407,
             8424506.0498
            ],
            [
             546765.0224,
             8424470.0316
            ],
            [
             546779.8219,
             8424461.9877
            ],
            [
             546779.7977,
             8424449.0141
            ],
            [
             546769.8971,
             8424435.9534
            ],
            [
             546753.3993,
             8424415.9436
            ],
            [
             546702.3012,
             8424377.9615
            ],
            [
             546689.1068,
             8424363.9576
            ],
            [
             546666.0436,
             8424353.9802
            ]
           ]
          ],
          "type": "Polygon"
         },
         "properties": {
          "AREA": 0,
          "ENVIR": "Estuarine",
          "ESI": "Freshwater Marshes",
          "PERIMETER": 0.007,
          "WATER_CODE": "Land"
         },
         "type": "Feature"
        },
        {
         "geometry": {
          "coordinates": [
           [
            [
             535262.3366,
             8424358.9814
            ],
            [
             535273.8475,
             8424350.9491
            ],
            [
             535293.5871,
             8424341.9559
            ],
            [
             535311.6878,
             8424338.0279
            ],
            [
             535351.1824,
             8424331.0109
            ],
            [
             535369.2886,
             8424330.9854
            ],
            [
             535385.7516,
             8424332.9663
            ],
            [
             535400.5884,
             8424348.9776
            ],
            [
             535403.9016,
             8424363.9505
            ],
            [
             535402.2881,
             8424387.0519
            ],
            [
             535397.3668,
             8424398.9776
            ],
            [
             535394.0918,
             8424411.0064
            ],
            [
             535394.1087,
             8424423.0306
            ],
            [
             535394.1213,
             8424431.996
            ],
            [
             535399.0735,
             8424442.0092
            ],
            [
             535412.2489,
             8424447.0535
            ],
            [
             535443.5262,
             8424449.0134
            ],
            [
             535476.4482,
             8424450.0216
            ],
            [
             535501.1458,
             8424455.0496
            ],
            [
             535507.7369,
             8424459.9976
            ],
            [
             535514.3253,
             8424463.0471
            ],
            [
             535520.9094,
             8424463.0377
            ],
            [
             535527.4863,
             8424457.9656
            ],
            [
             535530.7672,
             8424450.0503
            ],
            [
             535530.7544,
             8424440.9794
            ],
            [
             535527.4425,
             8424426.9558
            ],
            [
             535520.8343,
             8424409.9836
            ],
            [
             535515.8496,
             8424376.9768
            ],
            [
             535517.4744,
             8424361.997
            ],
            [
             535520.7452,
             8424347.0148
            ],
            [
             535528.957,
             8424334.0297
            ],
            [
             535535.5227,
             8424321.0469
            ],
            [
             535540.4409,
             8424307.0117
            ],
            [
             535542.0714,
             8424296.0399
            ],
            [
             535542.05,
             8424280.9569
            ],
            [
             535540.3928,
             8424273.0486
            ],
            [
             535532.1471,
             8424261.9853
            ],
            [
             535523.9085,
             8424255.9849
            ],
            [
             535515.6699,
             8424249.9844
            ],
            [
             535505.7868,
             8424245.0411
            ],
            [
             535487.6509,
             8424223.9716
            ],
            [
             535479.4038,
             8424211.959
            ],
            [
             535471.1596,
             8424201.9505
            ],
            [
             535461.2681,
             8424190.995
            ],
            [
             535451.3708,
             8424176.0314
            ],
            [
             535444.767,
             8424162.0125
            ],
            [
             535438.1547,
             8424141.9815
            ],
            [
             535438.1462,
             8424135.9694
            ],
            [
             535436.4917,
             8424129.9596
            ],
            [
             535433.194,
             8424125.9562
            ],
            [
             535428.256,
             8424125.9632
            ],
            [
             535420.0317,
             8424129.9828
            ],
            [
             535410.1613,
             8424134.0048
            ],
            [
             535397.0031,
             8424140.9848
            ],
            [
             535387.1299,
             8424143.0028
            ],
            [
             535383.828,
             8424136.046
            ],
            [
             535380.5289,
             8424130.9878
            ],
            [
             535375.5895,
             8424130.0455
            ],
            [
             535372.2919,
             8424126.0421
            ],
            [
             535365.7079,
             8424126.0514
            ],
            [
             535360.7768,
             8424131.0157
            ],
            [
             535345.9754,
             8424140.0019
            ],
            [
             535332.8341,
             8424159.0061
            ],
            [
             535316.4077,
             8424182.9721
            ],
            [
             535295.0786,
             8424232.0483
            ],
            [
             535288.524,
             8424253.0471
            ],
            [
             535278.6872,
             8424281.012
            ],
            [
             535263.9278,
             8424319.9532
            ],
            [
             535254.0714,
             8424333.9953
            ],
            [
             535254.0967,
             8424352.0316
            ],
            [
             535255.7525,
             8424358.9907
            ],
            [
             535262.3366,
             8424358.9814
            ]
           ]
          ],
          "type": "Polygon"
         },
         "properties": {
          "AREA": 0,
          "ENVIR": "Estuarine",
          "ESI": "Freshwater Marshes",
          "PERIMETER": 0.01,
          "WATER_CODE": "Land"
         },
         "type": "Feature"
        },
        {
         "geometry": {
          "coordinates": [
           [
            [
             535262.3366,
             8424358.9814
            ],
            [
             535255.7525,
             8424358.9907
            ],
            [
             535249.1769,
             8424365.012
            ],
            [
             535247.5365,
             8424369.0224
            ],
            [
             535247.5449,
             8424375.0345
            ],
            [
             535249.1979,
             8424379.9895
            ],
            [
             535249.205,
             8424385.0523
            ],
            [
             535252.5053,
             8424390.9543
            ],
            [
             535259.0937,
             8424394.0039
            ],
            [
             535264.0402,
             8424400.009
            ],
            [
             535267.3351,
             8424402.0084
            ],
            [
             535268.9881,
             8424406.9635
            ],
            [
             535280.5202,
             8424414.0141
            ],
            [
             535285.4652,
             8424418.9645
            ],
            [
             535292.0521,
             8424420.9593
            ],
            [
             535296.993,
             8424422.9564
            ],
            [
             535300.2908,
             8424427.0653
            ],
            [
             535303.5899,
             8424432.018
            ],
            [
             535305.2472,
             8424440.0318
            ],
            [
             535310.1866,
             8424440.9742
            ],
            [
             535318.4105,
             8424436.5326
            ],
            [
             535324.9897,
             8424433.0427
            ],
            [
             535320.0445,
             8424427.9868
            ],
            [
             535320.0388,
             8424423.9787
            ],
            [
             535316.7428,
             8424421.1355
            ],
            [
             535315.0895,
             8424415.9696
            ],
            [
             535316.73,
             8424412.0647
            ],
            [
             535311.7862,
             8424407.9581
            ],
            [
             535306.8481,
             8424407.965
            ],
            [
             535305.1936,
             8424401.9552
            ],
            [
             535303.5406,
             8424397.0002
            ],
            [
             535301.8861,
             8424390.9904
            ],
            [
             535300.2331,
             8424386.0354
            ],
            [
             535296.9383,
             8424384.036
            ],
            [
             535291.9931,
             8424378.9801
            ],
            [
             535287.0509,
             8424376.0337
            ],
            [
             535283.7532,
             8424372.0303
            ],
            [
             535280.4569,
             8424368.9761
            ],
            [
             535278.8039,
             8424364.0211
            ],
            [
             535270.571,
             8424362.0287
            ],
            [
             535262.3366,
             8424358.9814
            ]
           ]
          ],
          "type": "Polygon"
         },
         "properties": {
          "AREA": 0,
          "ENVIR": "Estuarine",
          "ESI": "Mangroves",
          "PERIMETER": 0.002,
          "WATER_CODE": "Land"
         },
         "type": "Feature"
        }
       ],
       "type": "FeatureCollection"
      },
      "text/html": [
       "<table>\n",
       "<caption>A sf: 6 × 6</caption>\n",
       "<thead>\n",
       "\t<tr><th></th><th scope=col>AREA</th><th scope=col>PERIMETER</th><th scope=col>ESI</th><th scope=col>WATER_CODE</th><th scope=col>ENVIR</th><th scope=col>geometry</th></tr>\n",
       "\t<tr><th></th><th scope=col>&lt;dbl&gt;</th><th scope=col>&lt;dbl&gt;</th><th scope=col>&lt;fct&gt;</th><th scope=col>&lt;fct&gt;</th><th scope=col>&lt;fct&gt;</th><th scope=col>&lt;POLYGON [m]&gt;</th></tr>\n",
       "</thead>\n",
       "<tbody>\n",
       "\t<tr><th scope=row>1</th><td>0</td><td>0.011</td><td>Freshwater Marshes</td><td>Land</td><td>Estuarine</td><td>POLYGON ((648733.2 8431997,...</td></tr>\n",
       "\t<tr><th scope=row>2</th><td>0</td><td>0.004</td><td>Freshwater Marshes</td><td>Land</td><td>Estuarine</td><td>POLYGON ((643550.6 8431507,...</td></tr>\n",
       "\t<tr><th scope=row>3</th><td>0</td><td>0.017</td><td>Freshwater Marshes</td><td>Land</td><td>Estuarine</td><td>POLYGON ((534852.8 8424587,...</td></tr>\n",
       "\t<tr><th scope=row>4</th><td>0</td><td>0.007</td><td>Freshwater Marshes</td><td>Land</td><td>Estuarine</td><td>POLYGON ((546666 8424354, 5...</td></tr>\n",
       "\t<tr><th scope=row>5</th><td>0</td><td>0.010</td><td>Freshwater Marshes</td><td>Land</td><td>Estuarine</td><td>POLYGON ((535262.3 8424359,...</td></tr>\n",
       "\t<tr><th scope=row>6</th><td>0</td><td>0.002</td><td>Mangroves         </td><td>Land</td><td>Estuarine</td><td>POLYGON ((535262.3 8424359,...</td></tr>\n",
       "</tbody>\n",
       "</table>\n"
      ],
      "text/latex": [
       "A sf: 6 × 6\n",
       "\\begin{tabular}{r|llllll}\n",
       "  & AREA & PERIMETER & ESI & WATER\\_CODE & ENVIR & geometry\\\\\n",
       "  & <dbl> & <dbl> & <fct> & <fct> & <fct> & <POLYGON {[}m{]}>\\\\\n",
       "\\hline\n",
       "\t1 & 0 & 0.011 & Freshwater Marshes & Land & Estuarine & POLYGON ((648733.2 8431997,...\\\\\n",
       "\t2 & 0 & 0.004 & Freshwater Marshes & Land & Estuarine & POLYGON ((643550.6 8431507,...\\\\\n",
       "\t3 & 0 & 0.017 & Freshwater Marshes & Land & Estuarine & POLYGON ((534852.8 8424587,...\\\\\n",
       "\t4 & 0 & 0.007 & Freshwater Marshes & Land & Estuarine & POLYGON ((546666 8424354, 5...\\\\\n",
       "\t5 & 0 & 0.010 & Freshwater Marshes & Land & Estuarine & POLYGON ((535262.3 8424359,...\\\\\n",
       "\t6 & 0 & 0.002 & Mangroves          & Land & Estuarine & POLYGON ((535262.3 8424359,...\\\\\n",
       "\\end{tabular}\n"
      ],
      "text/markdown": [
       "\n",
       "A sf: 6 × 6\n",
       "\n",
       "| <!--/--> | AREA &lt;dbl&gt; | PERIMETER &lt;dbl&gt; | ESI &lt;fct&gt; | WATER_CODE &lt;fct&gt; | ENVIR &lt;fct&gt; | geometry &lt;POLYGON [m]&gt; |\n",
       "|---|---|---|---|---|---|---|\n",
       "| 1 | 0 | 0.011 | Freshwater Marshes | Land | Estuarine | POLYGON ((648733.2 8431997,... |\n",
       "| 2 | 0 | 0.004 | Freshwater Marshes | Land | Estuarine | POLYGON ((643550.6 8431507,... |\n",
       "| 3 | 0 | 0.017 | Freshwater Marshes | Land | Estuarine | POLYGON ((534852.8 8424587,... |\n",
       "| 4 | 0 | 0.007 | Freshwater Marshes | Land | Estuarine | POLYGON ((546666 8424354, 5... |\n",
       "| 5 | 0 | 0.010 | Freshwater Marshes | Land | Estuarine | POLYGON ((535262.3 8424359,... |\n",
       "| 6 | 0 | 0.002 | Mangroves          | Land | Estuarine | POLYGON ((535262.3 8424359,... |\n",
       "\n"
      ],
      "text/plain": [
       "  AREA PERIMETER ESI                WATER_CODE ENVIR    \n",
       "1 0    0.011     Freshwater Marshes Land       Estuarine\n",
       "2 0    0.004     Freshwater Marshes Land       Estuarine\n",
       "3 0    0.017     Freshwater Marshes Land       Estuarine\n",
       "4 0    0.007     Freshwater Marshes Land       Estuarine\n",
       "5 0    0.010     Freshwater Marshes Land       Estuarine\n",
       "6 0    0.002     Mangroves          Land       Estuarine\n",
       "  geometry                      \n",
       "1 POLYGON ((648733.2 8431997,...\n",
       "2 POLYGON ((643550.6 8431507,...\n",
       "3 POLYGON ((534852.8 8424587,...\n",
       "4 POLYGON ((546666 8424354, 5...\n",
       "5 POLYGON ((535262.3 8424359,...\n",
       "6 POLYGON ((535262.3 8424359,..."
      ]
     },
     "metadata": {},
     "output_type": "display_data"
    }
   ],
   "source": [
    "head(esi)"
   ]
  },
  {
   "cell_type": "markdown",
   "metadata": {},
   "source": [
    "#### Notes etc.\n",
    "\n",
    "- Literature review focusing on priority, then secondary, locations; environmental characteristics of the mesophotic in these areas; mesophotic ecology\n",
    "- [GeoViews walkthrough for visualization](https://towardsdatascience.com/the-5-classification-evaluation-metrics-you-must-know-aa97784ff226)\n",
    "- Models: standard GLM classifier, random forest classifier, possibly XGBoost or neural network\n",
    "- [Metrics for evaluation](https://towardsdatascience.com/the-5-classification-evaluation-metrics-you-must-know-aa97784ff226)\n",
    "- [Make nice maps](https://www.benjaminbell.co.uk/2019/08/creating-simple-location-maps-in-r.html)"
   ]
  },
  {
   "cell_type": "code",
   "execution_count": null,
   "metadata": {},
   "outputs": [],
   "source": [
    "# possible extraction method of interest\n",
    "#locs$tmin1 <- extract(tmin1, locs)\n",
    "\n",
    "\n",
    "\n",
    "#p1 <- SpatialPoints(xy)\n",
    "\n",
    "\n",
    "### Plot rasters\n",
    "\n",
    "#histogram(tmin1.c)\n",
    "\n",
    "#pairs(tmin.all.c)\n",
    "\n",
    "### Autocorrelation\n",
    "# Moran(tmin1.c)  # global Moran's I\n",
    "#tmin1.Moran <- MoranLocal(tmin1.c)\n",
    "#plot(tmin1.Moran)\n",
    "\n",
    "\n",
    "#### Now let’s compute the Euclidean distance to these points using the distanceFromPoints function.\n",
    "\n",
    "# r2.d <- distanceFromPoints(r2, p1) \n",
    "\n",
    "# Write edited rasters \n",
    "#writeRaster(tmin1.c, filename = \"tmin1.c.grd\")"
   ]
  }
 ],
 "metadata": {
  "kernelspec": {
   "display_name": "R",
   "language": "R",
   "name": "ir"
  },
  "language_info": {
   "codemirror_mode": "r",
   "file_extension": ".r",
   "mimetype": "text/x-r-source",
   "name": "R",
   "pygments_lexer": "r",
   "version": "3.6.2"
  }
 },
 "nbformat": 4,
 "nbformat_minor": 2
}
