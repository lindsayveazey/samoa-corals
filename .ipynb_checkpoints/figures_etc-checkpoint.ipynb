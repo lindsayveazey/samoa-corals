{
 "cells": [
  {
   "cell_type": "markdown",
   "metadata": {},
   "source": [
    "*Some light data manipulation to make Tableau work easier.*"
   ]
  },
  {
   "cell_type": "code",
   "execution_count": 1,
   "metadata": {},
   "outputs": [
    {
     "name": "stderr",
     "output_type": "stream",
     "text": [
      "Warning message:\n",
      "\"package 'data.table' was built under R version 3.6.3\"\n",
      "Warning message:\n",
      "\"package 'geojsonio' was built under R version 3.6.3\"\n",
      "\n",
      "Attaching package: 'geojsonio'\n",
      "\n",
      "\n",
      "The following object is masked from 'package:base':\n",
      "\n",
      "    pretty\n",
      "\n",
      "\n",
      "Warning message:\n",
      "\"package 'GISTools' was built under R version 3.6.3\"\n",
      "Loading required package: maptools\n",
      "\n",
      "Warning message:\n",
      "\"package 'maptools' was built under R version 3.6.3\"\n",
      "Loading required package: sp\n",
      "\n",
      "Checking rgeos availability: TRUE\n",
      "\n",
      "Loading required package: RColorBrewer\n",
      "\n",
      "Loading required package: MASS\n",
      "\n",
      "Loading required package: rgeos\n",
      "\n",
      "Warning message:\n",
      "\"package 'rgeos' was built under R version 3.6.3\"\n",
      "rgeos version: 0.5-2, (SVN revision 621)\n",
      " GEOS runtime version: 3.6.1-CAPI-1.10.1 \n",
      " Linking to sp version: 1.4-1 \n",
      " Polygon checking: TRUE \n",
      "\n",
      "\n",
      "Warning message:\n",
      "\"package 'raster' was built under R version 3.6.3\"\n",
      "\n",
      "Attaching package: 'raster'\n",
      "\n",
      "\n",
      "The following objects are masked from 'package:MASS':\n",
      "\n",
      "    area, select\n",
      "\n",
      "\n",
      "The following object is masked from 'package:data.table':\n",
      "\n",
      "    shift\n",
      "\n",
      "\n",
      "Warning message:\n",
      "\"package 'rgdal' was built under R version 3.6.3\"\n",
      "rgdal: version: 1.4-8, (SVN revision 845)\n",
      " Geospatial Data Abstraction Library extensions to R successfully loaded\n",
      " Loaded GDAL runtime: GDAL 2.2.3, released 2017/11/20\n",
      " Path to GDAL shared files: C:/Users/linds/OneDrive/Documents/R/win-library/3.6/rgdal/gdal\n",
      " GDAL binary built with GEOS: TRUE \n",
      " Loaded PROJ.4 runtime: Rel. 4.9.3, 15 August 2016, [PJ_VERSION: 493]\n",
      " Path to PROJ.4 shared files: C:/Users/linds/OneDrive/Documents/R/win-library/3.6/rgdal/proj\n",
      " Linking to sp version: 1.4-1 \n",
      "\n",
      "Warning message:\n",
      "\"package 'sf' was built under R version 3.6.3\"\n",
      "Linking to GEOS 3.6.1, GDAL 2.2.3, PROJ 4.9.3\n",
      "\n",
      "Warning message:\n",
      "\"package 'spatial.tools' was built under R version 3.6.3\"\n",
      "Warning message:\n",
      "\"package 'tidyverse' was built under R version 3.6.3\"\n",
      "-- \u001b[1mAttaching packages\u001b[22m --------------------------------------- tidyverse 1.3.0 --\n",
      "\n",
      "\u001b[32mv\u001b[39m \u001b[34mggplot2\u001b[39m 3.3.0     \u001b[32mv\u001b[39m \u001b[34mpurrr  \u001b[39m 0.3.3\n",
      "\u001b[32mv\u001b[39m \u001b[34mtibble \u001b[39m 2.1.3     \u001b[32mv\u001b[39m \u001b[34mdplyr  \u001b[39m 0.8.5\n",
      "\u001b[32mv\u001b[39m \u001b[34mtidyr  \u001b[39m 1.0.2     \u001b[32mv\u001b[39m \u001b[34mstringr\u001b[39m 1.4.0\n",
      "\u001b[32mv\u001b[39m \u001b[34mreadr  \u001b[39m 1.3.1     \u001b[32mv\u001b[39m \u001b[34mforcats\u001b[39m 0.5.0\n",
      "\n",
      "Warning message:\n",
      "\"package 'ggplot2' was built under R version 3.6.3\"\n",
      "Warning message:\n",
      "\"package 'tidyr' was built under R version 3.6.3\"\n",
      "Warning message:\n",
      "\"package 'readr' was built under R version 3.6.3\"\n",
      "Warning message:\n",
      "\"package 'dplyr' was built under R version 3.6.3\"\n",
      "Warning message:\n",
      "\"package 'forcats' was built under R version 3.6.3\"\n",
      "-- \u001b[1mConflicts\u001b[22m ------------------------------------------ tidyverse_conflicts() --\n",
      "\u001b[31mx\u001b[39m \u001b[34mdplyr\u001b[39m::\u001b[32mbetween()\u001b[39m   masks \u001b[34mdata.table\u001b[39m::between()\n",
      "\u001b[31mx\u001b[39m \u001b[34mtidyr\u001b[39m::\u001b[32mextract()\u001b[39m   masks \u001b[34mraster\u001b[39m::extract()\n",
      "\u001b[31mx\u001b[39m \u001b[34mdplyr\u001b[39m::\u001b[32mfilter()\u001b[39m    masks \u001b[34mstats\u001b[39m::filter()\n",
      "\u001b[31mx\u001b[39m \u001b[34mdplyr\u001b[39m::\u001b[32mfirst()\u001b[39m     masks \u001b[34mdata.table\u001b[39m::first()\n",
      "\u001b[31mx\u001b[39m \u001b[34mdplyr\u001b[39m::\u001b[32mlag()\u001b[39m       masks \u001b[34mstats\u001b[39m::lag()\n",
      "\u001b[31mx\u001b[39m \u001b[34mdplyr\u001b[39m::\u001b[32mlast()\u001b[39m      masks \u001b[34mdata.table\u001b[39m::last()\n",
      "\u001b[31mx\u001b[39m \u001b[34mdplyr\u001b[39m::\u001b[32mselect()\u001b[39m    masks \u001b[34mraster\u001b[39m::select(), \u001b[34mMASS\u001b[39m::select()\n",
      "\u001b[31mx\u001b[39m \u001b[34mpurrr\u001b[39m::\u001b[32mtranspose()\u001b[39m masks \u001b[34mdata.table\u001b[39m::transpose()\n",
      "\n"
     ]
    }
   ],
   "source": [
    "setwd(\"C:/Users/linds/OneDrive/Documents/samoa_corals_data/\")\n",
    "\n",
    "library(data.table)\n",
    "library(geojsonio)\n",
    "library(GISTools)\n",
    "library(ncdf4)\n",
    "library(raster)\n",
    "library(rgdal)\n",
    "library(rgeos)\n",
    "library(sf)\n",
    "library(spatial.tools)\n",
    "library(tidyverse)"
   ]
  },
  {
   "cell_type": "code",
   "execution_count": 16,
   "metadata": {},
   "outputs": [
    {
     "data": {
      "text/html": [
       "<table>\n",
       "<caption>A data.frame: 6 × 21</caption>\n",
       "<thead>\n",
       "\t<tr><th></th><th scope=col>bty</th><th scope=col>hs</th><th scope=col>rug</th><th scope=col>slope</th><th scope=col>asp</th><th scope=col>shore_ed</th><th scope=col>wl_ed</th><th scope=col>vill_third_q</th><th scope=col>vill_ed</th><th scope=col>esi</th><th scope=col>...</th><th scope=col>ucur</th><th scope=col>vcur</th><th scope=col>x</th><th scope=col>y</th><th scope=col>ID</th><th scope=col>scler_preds</th><th scope=col>plate_preds</th><th scope=col>massive_preds</th><th scope=col>free_living_preds</th><th scope=col>encrusting_preds</th></tr>\n",
       "\t<tr><th></th><th scope=col>&lt;dbl&gt;</th><th scope=col>&lt;dbl&gt;</th><th scope=col>&lt;dbl&gt;</th><th scope=col>&lt;dbl&gt;</th><th scope=col>&lt;dbl&gt;</th><th scope=col>&lt;dbl&gt;</th><th scope=col>&lt;dbl&gt;</th><th scope=col>&lt;dbl&gt;</th><th scope=col>&lt;dbl&gt;</th><th scope=col>&lt;fct&gt;</th><th scope=col>...</th><th scope=col>&lt;dbl&gt;</th><th scope=col>&lt;dbl&gt;</th><th scope=col>&lt;dbl&gt;</th><th scope=col>&lt;dbl&gt;</th><th scope=col>&lt;fct&gt;</th><th scope=col>&lt;dbl&gt;</th><th scope=col>&lt;dbl&gt;</th><th scope=col>&lt;dbl&gt;</th><th scope=col>&lt;dbl&gt;</th><th scope=col>&lt;dbl&gt;</th></tr>\n",
       "</thead>\n",
       "<tbody>\n",
       "\t<tr><th scope=row>1</th><td>197.6100</td><td>1.959184</td><td>1.843792</td><td>40.82961</td><td>259.34564</td><td>784.5772</td><td>6325.765</td><td>287.994</td><td>2487.227</td><td>Freshwater Marshes</td><td>...</td><td>-0.004890001</td><td>-0.01047005</td><td>666925</td><td>8429050</td><td>Tau</td><td>13.15837</td><td>22.6050</td><td>17.46794</td><td>0</td><td> 4.0</td></tr>\n",
       "\t<tr><th scope=row>2</th><td>198.0498</td><td>1.979381</td><td>1.600071</td><td>40.40025</td><td>144.98395</td><td>790.9166</td><td>6303.516</td><td>287.994</td><td>2460.638</td><td>Freshwater Marshes</td><td>...</td><td>-0.004890001</td><td>-0.01047005</td><td>666975</td><td>8429050</td><td>Tau</td><td>13.37088</td><td>22.4800</td><td>17.34806</td><td>0</td><td> 7.0</td></tr>\n",
       "\t<tr><th scope=row>3</th><td>198.5994</td><td>1.989796</td><td>1.541323</td><td>43.99948</td><td>198.82486</td><td>799.5071</td><td>6281.586</td><td>287.994</td><td>2434.784</td><td>Freshwater Marshes</td><td>...</td><td>-0.004890001</td><td>-0.01047005</td><td>667025</td><td>8429050</td><td>Tau</td><td>12.75837</td><td>22.2217</td><td>17.37513</td><td>0</td><td> 4.8</td></tr>\n",
       "\t<tr><th scope=row>4</th><td>169.5831</td><td>1.876289</td><td>3.116254</td><td>58.30967</td><td>302.40808</td><td>734.8886</td><td>6281.107</td><td>287.994</td><td>2445.261</td><td>Freshwater Marshes</td><td>...</td><td>-0.004890001</td><td>-0.01047005</td><td>666925</td><td>8429000</td><td>Tau</td><td>13.52500</td><td>22.2450</td><td>17.52938</td><td>0</td><td> 2.6</td></tr>\n",
       "\t<tr><th scope=row>5</th><td>168.4799</td><td>1.770000</td><td>1.761940</td><td>48.98439</td><td> 49.57696</td><td>741.4507</td><td>6258.699</td><td>287.994</td><td>2418.210</td><td>Freshwater Marshes</td><td>...</td><td>-0.004890001</td><td>-0.01047005</td><td>666975</td><td>8429000</td><td>Tau</td><td>14.76238</td><td>24.6549</td><td>18.20950</td><td>0</td><td>14.0</td></tr>\n",
       "\t<tr><th scope=row>6</th><td>172.1165</td><td>1.727273</td><td>1.773451</td><td>46.73452</td><td>139.44661</td><td>750.6075</td><td>6236.612</td><td>287.994</td><td>2391.898</td><td>Freshwater Marshes</td><td>...</td><td>-0.004890001</td><td>-0.01047005</td><td>667025</td><td>8429000</td><td>Tau</td><td>13.42075</td><td>22.5550</td><td>17.59388</td><td>0</td><td> 7.8</td></tr>\n",
       "</tbody>\n",
       "</table>\n"
      ],
      "text/latex": [
       "A data.frame: 6 × 21\n",
       "\\begin{tabular}{r|lllllllllllllllllllll}\n",
       "  & bty & hs & rug & slope & asp & shore\\_ed & wl\\_ed & vill\\_third\\_q & vill\\_ed & esi & ... & ucur & vcur & x & y & ID & scler\\_preds & plate\\_preds & massive\\_preds & free\\_living\\_preds & encrusting\\_preds\\\\\n",
       "  & <dbl> & <dbl> & <dbl> & <dbl> & <dbl> & <dbl> & <dbl> & <dbl> & <dbl> & <fct> & ... & <dbl> & <dbl> & <dbl> & <dbl> & <fct> & <dbl> & <dbl> & <dbl> & <dbl> & <dbl>\\\\\n",
       "\\hline\n",
       "\t1 & 197.6100 & 1.959184 & 1.843792 & 40.82961 & 259.34564 & 784.5772 & 6325.765 & 287.994 & 2487.227 & Freshwater Marshes & ... & -0.004890001 & -0.01047005 & 666925 & 8429050 & Tau & 13.15837 & 22.6050 & 17.46794 & 0 &  4.0\\\\\n",
       "\t2 & 198.0498 & 1.979381 & 1.600071 & 40.40025 & 144.98395 & 790.9166 & 6303.516 & 287.994 & 2460.638 & Freshwater Marshes & ... & -0.004890001 & -0.01047005 & 666975 & 8429050 & Tau & 13.37088 & 22.4800 & 17.34806 & 0 &  7.0\\\\\n",
       "\t3 & 198.5994 & 1.989796 & 1.541323 & 43.99948 & 198.82486 & 799.5071 & 6281.586 & 287.994 & 2434.784 & Freshwater Marshes & ... & -0.004890001 & -0.01047005 & 667025 & 8429050 & Tau & 12.75837 & 22.2217 & 17.37513 & 0 &  4.8\\\\\n",
       "\t4 & 169.5831 & 1.876289 & 3.116254 & 58.30967 & 302.40808 & 734.8886 & 6281.107 & 287.994 & 2445.261 & Freshwater Marshes & ... & -0.004890001 & -0.01047005 & 666925 & 8429000 & Tau & 13.52500 & 22.2450 & 17.52938 & 0 &  2.6\\\\\n",
       "\t5 & 168.4799 & 1.770000 & 1.761940 & 48.98439 &  49.57696 & 741.4507 & 6258.699 & 287.994 & 2418.210 & Freshwater Marshes & ... & -0.004890001 & -0.01047005 & 666975 & 8429000 & Tau & 14.76238 & 24.6549 & 18.20950 & 0 & 14.0\\\\\n",
       "\t6 & 172.1165 & 1.727273 & 1.773451 & 46.73452 & 139.44661 & 750.6075 & 6236.612 & 287.994 & 2391.898 & Freshwater Marshes & ... & -0.004890001 & -0.01047005 & 667025 & 8429000 & Tau & 13.42075 & 22.5550 & 17.59388 & 0 &  7.8\\\\\n",
       "\\end{tabular}\n"
      ],
      "text/markdown": [
       "\n",
       "A data.frame: 6 × 21\n",
       "\n",
       "| <!--/--> | bty &lt;dbl&gt; | hs &lt;dbl&gt; | rug &lt;dbl&gt; | slope &lt;dbl&gt; | asp &lt;dbl&gt; | shore_ed &lt;dbl&gt; | wl_ed &lt;dbl&gt; | vill_third_q &lt;dbl&gt; | vill_ed &lt;dbl&gt; | esi &lt;fct&gt; | ... ... | ucur &lt;dbl&gt; | vcur &lt;dbl&gt; | x &lt;dbl&gt; | y &lt;dbl&gt; | ID &lt;fct&gt; | scler_preds &lt;dbl&gt; | plate_preds &lt;dbl&gt; | massive_preds &lt;dbl&gt; | free_living_preds &lt;dbl&gt; | encrusting_preds &lt;dbl&gt; |\n",
       "|---|---|---|---|---|---|---|---|---|---|---|---|---|---|---|---|---|---|---|---|---|---|\n",
       "| 1 | 197.6100 | 1.959184 | 1.843792 | 40.82961 | 259.34564 | 784.5772 | 6325.765 | 287.994 | 2487.227 | Freshwater Marshes | ... | -0.004890001 | -0.01047005 | 666925 | 8429050 | Tau | 13.15837 | 22.6050 | 17.46794 | 0 |  4.0 |\n",
       "| 2 | 198.0498 | 1.979381 | 1.600071 | 40.40025 | 144.98395 | 790.9166 | 6303.516 | 287.994 | 2460.638 | Freshwater Marshes | ... | -0.004890001 | -0.01047005 | 666975 | 8429050 | Tau | 13.37088 | 22.4800 | 17.34806 | 0 |  7.0 |\n",
       "| 3 | 198.5994 | 1.989796 | 1.541323 | 43.99948 | 198.82486 | 799.5071 | 6281.586 | 287.994 | 2434.784 | Freshwater Marshes | ... | -0.004890001 | -0.01047005 | 667025 | 8429050 | Tau | 12.75837 | 22.2217 | 17.37513 | 0 |  4.8 |\n",
       "| 4 | 169.5831 | 1.876289 | 3.116254 | 58.30967 | 302.40808 | 734.8886 | 6281.107 | 287.994 | 2445.261 | Freshwater Marshes | ... | -0.004890001 | -0.01047005 | 666925 | 8429000 | Tau | 13.52500 | 22.2450 | 17.52938 | 0 |  2.6 |\n",
       "| 5 | 168.4799 | 1.770000 | 1.761940 | 48.98439 |  49.57696 | 741.4507 | 6258.699 | 287.994 | 2418.210 | Freshwater Marshes | ... | -0.004890001 | -0.01047005 | 666975 | 8429000 | Tau | 14.76238 | 24.6549 | 18.20950 | 0 | 14.0 |\n",
       "| 6 | 172.1165 | 1.727273 | 1.773451 | 46.73452 | 139.44661 | 750.6075 | 6236.612 | 287.994 | 2391.898 | Freshwater Marshes | ... | -0.004890001 | -0.01047005 | 667025 | 8429000 | Tau | 13.42075 | 22.5550 | 17.59388 | 0 |  7.8 |\n",
       "\n"
      ],
      "text/plain": [
       "  bty      hs       rug      slope    asp       shore_ed wl_ed    vill_third_q\n",
       "1 197.6100 1.959184 1.843792 40.82961 259.34564 784.5772 6325.765 287.994     \n",
       "2 198.0498 1.979381 1.600071 40.40025 144.98395 790.9166 6303.516 287.994     \n",
       "3 198.5994 1.989796 1.541323 43.99948 198.82486 799.5071 6281.586 287.994     \n",
       "4 169.5831 1.876289 3.116254 58.30967 302.40808 734.8886 6281.107 287.994     \n",
       "5 168.4799 1.770000 1.761940 48.98439  49.57696 741.4507 6258.699 287.994     \n",
       "6 172.1165 1.727273 1.773451 46.73452 139.44661 750.6075 6236.612 287.994     \n",
       "  vill_ed  esi                ... ucur         vcur        x      y       ID \n",
       "1 2487.227 Freshwater Marshes ... -0.004890001 -0.01047005 666925 8429050 Tau\n",
       "2 2460.638 Freshwater Marshes ... -0.004890001 -0.01047005 666975 8429050 Tau\n",
       "3 2434.784 Freshwater Marshes ... -0.004890001 -0.01047005 667025 8429050 Tau\n",
       "4 2445.261 Freshwater Marshes ... -0.004890001 -0.01047005 666925 8429000 Tau\n",
       "5 2418.210 Freshwater Marshes ... -0.004890001 -0.01047005 666975 8429000 Tau\n",
       "6 2391.898 Freshwater Marshes ... -0.004890001 -0.01047005 667025 8429000 Tau\n",
       "  scler_preds plate_preds massive_preds free_living_preds encrusting_preds\n",
       "1 13.15837    22.6050     17.46794      0                  4.0            \n",
       "2 13.37088    22.4800     17.34806      0                  7.0            \n",
       "3 12.75837    22.2217     17.37513      0                  4.8            \n",
       "4 13.52500    22.2450     17.52938      0                  2.6            \n",
       "5 14.76238    24.6549     18.20950      0                 14.0            \n",
       "6 13.42075    22.5550     17.59388      0                  7.8            "
      ]
     },
     "metadata": {},
     "output_type": "display_data"
    }
   ],
   "source": [
    "AS_all = read.csv('AS_all.csv')\n",
    "head(AS_all)"
   ]
  },
  {
   "cell_type": "code",
   "execution_count": 34,
   "metadata": {},
   "outputs": [
    {
     "data": {
      "text/html": [
       "146074"
      ],
      "text/latex": [
       "146074"
      ],
      "text/markdown": [
       "146074"
      ],
      "text/plain": [
       "[1] 146074"
      ]
     },
     "metadata": {},
     "output_type": "display_data"
    },
    {
     "data": {
      "text/html": [
       "<table>\n",
       "<caption>A data.frame: 6 × 5</caption>\n",
       "<thead>\n",
       "\t<tr><th></th><th scope=col>long</th><th scope=col>lat</th><th scope=col>bty</th><th scope=col>x</th><th scope=col>y</th></tr>\n",
       "\t<tr><th></th><th scope=col>&lt;dbl&gt;</th><th scope=col>&lt;dbl&gt;</th><th scope=col>&lt;dbl&gt;</th><th scope=col>&lt;dbl&gt;</th><th scope=col>&lt;dbl&gt;</th></tr>\n",
       "</thead>\n",
       "<tbody>\n",
       "\t<tr><th scope=row>1</th><td>-169.6059</td><td>-14.13474</td><td>198.3372</td><td>650470</td><td>8436925</td></tr>\n",
       "\t<tr><th scope=row>2</th><td>-169.6055</td><td>-14.13474</td><td>196.5662</td><td>650520</td><td>8436925</td></tr>\n",
       "\t<tr><th scope=row>3</th><td>-169.6050</td><td>-14.13473</td><td>198.5762</td><td>650570</td><td>8436925</td></tr>\n",
       "\t<tr><th scope=row>4</th><td>-169.6069</td><td>-14.13520</td><td>194.6120</td><td>650370</td><td>8436875</td></tr>\n",
       "\t<tr><th scope=row>5</th><td>-169.6064</td><td>-14.13519</td><td>182.2847</td><td>650420</td><td>8436875</td></tr>\n",
       "\t<tr><th scope=row>6</th><td>-169.6059</td><td>-14.13519</td><td>171.5497</td><td>650470</td><td>8436875</td></tr>\n",
       "</tbody>\n",
       "</table>\n"
      ],
      "text/latex": [
       "A data.frame: 6 × 5\n",
       "\\begin{tabular}{r|lllll}\n",
       "  & long & lat & bty & x & y\\\\\n",
       "  & <dbl> & <dbl> & <dbl> & <dbl> & <dbl>\\\\\n",
       "\\hline\n",
       "\t1 & -169.6059 & -14.13474 & 198.3372 & 650470 & 8436925\\\\\n",
       "\t2 & -169.6055 & -14.13474 & 196.5662 & 650520 & 8436925\\\\\n",
       "\t3 & -169.6050 & -14.13473 & 198.5762 & 650570 & 8436925\\\\\n",
       "\t4 & -169.6069 & -14.13520 & 194.6120 & 650370 & 8436875\\\\\n",
       "\t5 & -169.6064 & -14.13519 & 182.2847 & 650420 & 8436875\\\\\n",
       "\t6 & -169.6059 & -14.13519 & 171.5497 & 650470 & 8436875\\\\\n",
       "\\end{tabular}\n"
      ],
      "text/markdown": [
       "\n",
       "A data.frame: 6 × 5\n",
       "\n",
       "| <!--/--> | long &lt;dbl&gt; | lat &lt;dbl&gt; | bty &lt;dbl&gt; | x &lt;dbl&gt; | y &lt;dbl&gt; |\n",
       "|---|---|---|---|---|---|\n",
       "| 1 | -169.6059 | -14.13474 | 198.3372 | 650470 | 8436925 |\n",
       "| 2 | -169.6055 | -14.13474 | 196.5662 | 650520 | 8436925 |\n",
       "| 3 | -169.6050 | -14.13473 | 198.5762 | 650570 | 8436925 |\n",
       "| 4 | -169.6069 | -14.13520 | 194.6120 | 650370 | 8436875 |\n",
       "| 5 | -169.6064 | -14.13519 | 182.2847 | 650420 | 8436875 |\n",
       "| 6 | -169.6059 | -14.13519 | 171.5497 | 650470 | 8436875 |\n",
       "\n"
      ],
      "text/plain": [
       "  long      lat       bty      x      y      \n",
       "1 -169.6059 -14.13474 198.3372 650470 8436925\n",
       "2 -169.6055 -14.13474 196.5662 650520 8436925\n",
       "3 -169.6050 -14.13473 198.5762 650570 8436925\n",
       "4 -169.6069 -14.13520 194.6120 650370 8436875\n",
       "5 -169.6064 -14.13519 182.2847 650420 8436875\n",
       "6 -169.6059 -14.13519 171.5497 650470 8436875"
      ]
     },
     "metadata": {},
     "output_type": "display_data"
    }
   ],
   "source": [
    "latlong = read.csv('latlongmerge.csv') # merge in the lat long- UTM coords cause mapping issues\n",
    "latlong$X <- NULL\n",
    "nrow(latlong)\n",
    "head(latlong)"
   ]
  },
  {
   "cell_type": "code",
   "execution_count": 50,
   "metadata": {},
   "outputs": [
    {
     "data": {
      "text/html": [
       "21"
      ],
      "text/latex": [
       "21"
      ],
      "text/markdown": [
       "21"
      ],
      "text/plain": [
       "[1] 21"
      ]
     },
     "metadata": {},
     "output_type": "display_data"
    },
    {
     "data": {
      "text/html": [
       "144990"
      ],
      "text/latex": [
       "144990"
      ],
      "text/markdown": [
       "144990"
      ],
      "text/plain": [
       "[1] 144990"
      ]
     },
     "metadata": {},
     "output_type": "display_data"
    },
    {
     "data": {
      "text/html": [
       "146074"
      ],
      "text/latex": [
       "146074"
      ],
      "text/markdown": [
       "146074"
      ],
      "text/plain": [
       "[1] 146074"
      ]
     },
     "metadata": {},
     "output_type": "display_data"
    },
    {
     "data": {
      "text/html": [
       "144990"
      ],
      "text/latex": [
       "144990"
      ],
      "text/markdown": [
       "144990"
      ],
      "text/plain": [
       "[1] 144990"
      ]
     },
     "metadata": {},
     "output_type": "display_data"
    }
   ],
   "source": [
    "ncol(AS_all)\n",
    "nrow(AS_all)\n",
    "nrow(latlong)\n",
    "full <- merge(AS_all, latlong, by=c('x','y','bty'))\n",
    "nrow(full)"
   ]
  },
  {
   "cell_type": "code",
   "execution_count": 40,
   "metadata": {
    "scrolled": true
   },
   "outputs": [
    {
     "data": {
      "text/html": [
       "<table>\n",
       "<caption>A data.frame: 6 × 23</caption>\n",
       "<thead>\n",
       "\t<tr><th></th><th scope=col>x</th><th scope=col>y</th><th scope=col>bty</th><th scope=col>hs</th><th scope=col>rug</th><th scope=col>slope</th><th scope=col>asp</th><th scope=col>shore_ed</th><th scope=col>wl_ed</th><th scope=col>vill_third_q</th><th scope=col>...</th><th scope=col>ucur</th><th scope=col>vcur</th><th scope=col>ID</th><th scope=col>scler_preds</th><th scope=col>plate_preds</th><th scope=col>massive_preds</th><th scope=col>free_living_preds</th><th scope=col>encrusting_preds</th><th scope=col>long</th><th scope=col>lat</th></tr>\n",
       "\t<tr><th></th><th scope=col>&lt;dbl&gt;</th><th scope=col>&lt;dbl&gt;</th><th scope=col>&lt;dbl&gt;</th><th scope=col>&lt;dbl&gt;</th><th scope=col>&lt;dbl&gt;</th><th scope=col>&lt;dbl&gt;</th><th scope=col>&lt;dbl&gt;</th><th scope=col>&lt;dbl&gt;</th><th scope=col>&lt;dbl&gt;</th><th scope=col>&lt;dbl&gt;</th><th scope=col>...</th><th scope=col>&lt;dbl&gt;</th><th scope=col>&lt;dbl&gt;</th><th scope=col>&lt;fct&gt;</th><th scope=col>&lt;dbl&gt;</th><th scope=col>&lt;dbl&gt;</th><th scope=col>&lt;dbl&gt;</th><th scope=col>&lt;dbl&gt;</th><th scope=col>&lt;dbl&gt;</th><th scope=col>&lt;dbl&gt;</th><th scope=col>&lt;dbl&gt;</th></tr>\n",
       "</thead>\n",
       "<tbody>\n",
       "\t<tr><th scope=row>1</th><td>489835.1</td><td>8777890</td><td>179.3925</td><td>-179.3925</td><td>-179.3925</td><td>-179.3925</td><td>-179.3925</td><td>346.8430</td><td>355630.1</td><td>330.658</td><td>...</td><td>-0.1392937</td><td>-0.03117405</td><td>Swains</td><td>31.75075</td><td>34.2836</td><td>21.47381</td><td>0</td><td>40.334</td><td>-171.0931</td><td>-11.05543</td></tr>\n",
       "\t<tr><th scope=row>2</th><td>489835.1</td><td>8777940</td><td>150.6340</td><td>-150.6340</td><td>-150.6340</td><td>-150.6340</td><td>-150.6340</td><td>339.8059</td><td>355679.7</td><td>330.658</td><td>...</td><td>-0.1392937</td><td>-0.03117405</td><td>Swains</td><td>31.75075</td><td>34.2836</td><td>21.51131</td><td>0</td><td>40.334</td><td>-171.0931</td><td>-11.05498</td></tr>\n",
       "\t<tr><th scope=row>3</th><td>489835.1</td><td>8777990</td><td>137.0508</td><td>-137.0508</td><td>-137.0508</td><td>-137.0508</td><td>-137.0508</td><td>334.4672</td><td>355729.3</td><td>330.658</td><td>...</td><td>-0.1392937</td><td>-0.03117405</td><td>Swains</td><td>31.75075</td><td>34.2836</td><td>21.53944</td><td>0</td><td>40.334</td><td>-171.0931</td><td>-11.05453</td></tr>\n",
       "\t<tr><th scope=row>4</th><td>489835.1</td><td>8778040</td><td>126.2835</td><td>-126.2835</td><td>-126.2835</td><td>-126.2835</td><td>-126.2835</td><td>331.0604</td><td>355778.9</td><td>330.658</td><td>...</td><td>-0.1392937</td><td>-0.03117405</td><td>Swains</td><td>31.83413</td><td>34.2836</td><td>21.62694</td><td>0</td><td>40.334</td><td>-171.0931</td><td>-11.05408</td></tr>\n",
       "\t<tr><th scope=row>5</th><td>489835.1</td><td>8778090</td><td>121.5233</td><td>-121.5233</td><td>-121.5233</td><td>-121.5233</td><td>-121.5233</td><td>330.8983</td><td>355828.5</td><td>330.658</td><td>...</td><td>-0.1392937</td><td>-0.03117405</td><td>Swains</td><td>31.83413</td><td>34.2836</td><td>21.62694</td><td>0</td><td>40.334</td><td>-171.0931</td><td>-11.05362</td></tr>\n",
       "\t<tr><th scope=row>6</th><td>489835.1</td><td>8778140</td><td>114.6534</td><td>-114.6534</td><td>-114.6534</td><td>-114.6534</td><td>-114.6534</td><td>333.4906</td><td>355878.1</td><td>330.658</td><td>...</td><td>-0.1392937</td><td>-0.03117405</td><td>Swains</td><td>31.83413</td><td>34.2836</td><td>21.53944</td><td>0</td><td>40.334</td><td>-171.0931</td><td>-11.05317</td></tr>\n",
       "</tbody>\n",
       "</table>\n"
      ],
      "text/latex": [
       "A data.frame: 6 × 23\n",
       "\\begin{tabular}{r|lllllllllllllllllllll}\n",
       "  & x & y & bty & hs & rug & slope & asp & shore\\_ed & wl\\_ed & vill\\_third\\_q & ... & ucur & vcur & ID & scler\\_preds & plate\\_preds & massive\\_preds & free\\_living\\_preds & encrusting\\_preds & long & lat\\\\\n",
       "  & <dbl> & <dbl> & <dbl> & <dbl> & <dbl> & <dbl> & <dbl> & <dbl> & <dbl> & <dbl> & ... & <dbl> & <dbl> & <fct> & <dbl> & <dbl> & <dbl> & <dbl> & <dbl> & <dbl> & <dbl>\\\\\n",
       "\\hline\n",
       "\t1 & 489835.1 & 8777890 & 179.3925 & -179.3925 & -179.3925 & -179.3925 & -179.3925 & 346.8430 & 355630.1 & 330.658 & ... & -0.1392937 & -0.03117405 & Swains & 31.75075 & 34.2836 & 21.47381 & 0 & 40.334 & -171.0931 & -11.05543\\\\\n",
       "\t2 & 489835.1 & 8777940 & 150.6340 & -150.6340 & -150.6340 & -150.6340 & -150.6340 & 339.8059 & 355679.7 & 330.658 & ... & -0.1392937 & -0.03117405 & Swains & 31.75075 & 34.2836 & 21.51131 & 0 & 40.334 & -171.0931 & -11.05498\\\\\n",
       "\t3 & 489835.1 & 8777990 & 137.0508 & -137.0508 & -137.0508 & -137.0508 & -137.0508 & 334.4672 & 355729.3 & 330.658 & ... & -0.1392937 & -0.03117405 & Swains & 31.75075 & 34.2836 & 21.53944 & 0 & 40.334 & -171.0931 & -11.05453\\\\\n",
       "\t4 & 489835.1 & 8778040 & 126.2835 & -126.2835 & -126.2835 & -126.2835 & -126.2835 & 331.0604 & 355778.9 & 330.658 & ... & -0.1392937 & -0.03117405 & Swains & 31.83413 & 34.2836 & 21.62694 & 0 & 40.334 & -171.0931 & -11.05408\\\\\n",
       "\t5 & 489835.1 & 8778090 & 121.5233 & -121.5233 & -121.5233 & -121.5233 & -121.5233 & 330.8983 & 355828.5 & 330.658 & ... & -0.1392937 & -0.03117405 & Swains & 31.83413 & 34.2836 & 21.62694 & 0 & 40.334 & -171.0931 & -11.05362\\\\\n",
       "\t6 & 489835.1 & 8778140 & 114.6534 & -114.6534 & -114.6534 & -114.6534 & -114.6534 & 333.4906 & 355878.1 & 330.658 & ... & -0.1392937 & -0.03117405 & Swains & 31.83413 & 34.2836 & 21.53944 & 0 & 40.334 & -171.0931 & -11.05317\\\\\n",
       "\\end{tabular}\n"
      ],
      "text/markdown": [
       "\n",
       "A data.frame: 6 × 23\n",
       "\n",
       "| <!--/--> | x &lt;dbl&gt; | y &lt;dbl&gt; | bty &lt;dbl&gt; | hs &lt;dbl&gt; | rug &lt;dbl&gt; | slope &lt;dbl&gt; | asp &lt;dbl&gt; | shore_ed &lt;dbl&gt; | wl_ed &lt;dbl&gt; | vill_third_q &lt;dbl&gt; | ... ... | ucur &lt;dbl&gt; | vcur &lt;dbl&gt; | ID &lt;fct&gt; | scler_preds &lt;dbl&gt; | plate_preds &lt;dbl&gt; | massive_preds &lt;dbl&gt; | free_living_preds &lt;dbl&gt; | encrusting_preds &lt;dbl&gt; | long &lt;dbl&gt; | lat &lt;dbl&gt; |\n",
       "|---|---|---|---|---|---|---|---|---|---|---|---|---|---|---|---|---|---|---|---|---|---|\n",
       "| 1 | 489835.1 | 8777890 | 179.3925 | -179.3925 | -179.3925 | -179.3925 | -179.3925 | 346.8430 | 355630.1 | 330.658 | ... | -0.1392937 | -0.03117405 | Swains | 31.75075 | 34.2836 | 21.47381 | 0 | 40.334 | -171.0931 | -11.05543 |\n",
       "| 2 | 489835.1 | 8777940 | 150.6340 | -150.6340 | -150.6340 | -150.6340 | -150.6340 | 339.8059 | 355679.7 | 330.658 | ... | -0.1392937 | -0.03117405 | Swains | 31.75075 | 34.2836 | 21.51131 | 0 | 40.334 | -171.0931 | -11.05498 |\n",
       "| 3 | 489835.1 | 8777990 | 137.0508 | -137.0508 | -137.0508 | -137.0508 | -137.0508 | 334.4672 | 355729.3 | 330.658 | ... | -0.1392937 | -0.03117405 | Swains | 31.75075 | 34.2836 | 21.53944 | 0 | 40.334 | -171.0931 | -11.05453 |\n",
       "| 4 | 489835.1 | 8778040 | 126.2835 | -126.2835 | -126.2835 | -126.2835 | -126.2835 | 331.0604 | 355778.9 | 330.658 | ... | -0.1392937 | -0.03117405 | Swains | 31.83413 | 34.2836 | 21.62694 | 0 | 40.334 | -171.0931 | -11.05408 |\n",
       "| 5 | 489835.1 | 8778090 | 121.5233 | -121.5233 | -121.5233 | -121.5233 | -121.5233 | 330.8983 | 355828.5 | 330.658 | ... | -0.1392937 | -0.03117405 | Swains | 31.83413 | 34.2836 | 21.62694 | 0 | 40.334 | -171.0931 | -11.05362 |\n",
       "| 6 | 489835.1 | 8778140 | 114.6534 | -114.6534 | -114.6534 | -114.6534 | -114.6534 | 333.4906 | 355878.1 | 330.658 | ... | -0.1392937 | -0.03117405 | Swains | 31.83413 | 34.2836 | 21.53944 | 0 | 40.334 | -171.0931 | -11.05317 |\n",
       "\n"
      ],
      "text/plain": [
       "  x        y       bty      hs        rug       slope     asp       shore_ed\n",
       "1 489835.1 8777890 179.3925 -179.3925 -179.3925 -179.3925 -179.3925 346.8430\n",
       "2 489835.1 8777940 150.6340 -150.6340 -150.6340 -150.6340 -150.6340 339.8059\n",
       "3 489835.1 8777990 137.0508 -137.0508 -137.0508 -137.0508 -137.0508 334.4672\n",
       "4 489835.1 8778040 126.2835 -126.2835 -126.2835 -126.2835 -126.2835 331.0604\n",
       "5 489835.1 8778090 121.5233 -121.5233 -121.5233 -121.5233 -121.5233 330.8983\n",
       "6 489835.1 8778140 114.6534 -114.6534 -114.6534 -114.6534 -114.6534 333.4906\n",
       "  wl_ed    vill_third_q ... ucur       vcur        ID     scler_preds\n",
       "1 355630.1 330.658      ... -0.1392937 -0.03117405 Swains 31.75075   \n",
       "2 355679.7 330.658      ... -0.1392937 -0.03117405 Swains 31.75075   \n",
       "3 355729.3 330.658      ... -0.1392937 -0.03117405 Swains 31.75075   \n",
       "4 355778.9 330.658      ... -0.1392937 -0.03117405 Swains 31.83413   \n",
       "5 355828.5 330.658      ... -0.1392937 -0.03117405 Swains 31.83413   \n",
       "6 355878.1 330.658      ... -0.1392937 -0.03117405 Swains 31.83413   \n",
       "  plate_preds massive_preds free_living_preds encrusting_preds long     \n",
       "1 34.2836     21.47381      0                 40.334           -171.0931\n",
       "2 34.2836     21.51131      0                 40.334           -171.0931\n",
       "3 34.2836     21.53944      0                 40.334           -171.0931\n",
       "4 34.2836     21.62694      0                 40.334           -171.0931\n",
       "5 34.2836     21.62694      0                 40.334           -171.0931\n",
       "6 34.2836     21.53944      0                 40.334           -171.0931\n",
       "  lat      \n",
       "1 -11.05543\n",
       "2 -11.05498\n",
       "3 -11.05453\n",
       "4 -11.05408\n",
       "5 -11.05362\n",
       "6 -11.05317"
      ]
     },
     "metadata": {},
     "output_type": "display_data"
    }
   ],
   "source": [
    "head(full)\n",
    "write.csv(full, 'AS_all_full.csv')"
   ]
  },
  {
   "cell_type": "code",
   "execution_count": 65,
   "metadata": {},
   "outputs": [
    {
     "data": {
      "text/html": [
       "3163"
      ],
      "text/latex": [
       "3163"
      ],
      "text/markdown": [
       "3163"
      ],
      "text/plain": [
       "[1] 3163"
      ]
     },
     "metadata": {},
     "output_type": "display_data"
    },
    {
     "data": {
      "text/html": [
       "144990"
      ],
      "text/latex": [
       "144990"
      ],
      "text/markdown": [
       "144990"
      ],
      "text/plain": [
       "[1] 144990"
      ]
     },
     "metadata": {},
     "output_type": "display_data"
    },
    {
     "data": {
      "text/html": [
       "144990"
      ],
      "text/latex": [
       "144990"
      ],
      "text/markdown": [
       "144990"
      ],
      "text/plain": [
       "[1] 144990"
      ]
     },
     "metadata": {},
     "output_type": "display_data"
    }
   ],
   "source": [
    "surveyed = read.csv('mapped_merge.csv')\n",
    "surveyed$surveyed <- 1\n",
    "nrow(surveyed)\n",
    "nrow(full)\n",
    "full2 <- merge(full, surveyed, by=c('x','y','ID'), all.x=TRUE)\n",
    "nrow(full2)"
   ]
  },
  {
   "cell_type": "code",
   "execution_count": 69,
   "metadata": {
    "scrolled": true
   },
   "outputs": [
    {
     "data": {
      "text/html": [
       "2947"
      ],
      "text/latex": [
       "2947"
      ],
      "text/markdown": [
       "2947"
      ],
      "text/plain": [
       "[1] 2947"
      ]
     },
     "metadata": {},
     "output_type": "display_data"
    }
   ],
   "source": [
    "full2[is.na(full2)] <- 0\n",
    "sum(full2$surveyed)"
   ]
  },
  {
   "cell_type": "code",
   "execution_count": 73,
   "metadata": {},
   "outputs": [],
   "source": [
    "write.csv(full2, 'AS_all_full2.csv')"
   ]
  }
 ],
 "metadata": {
  "kernelspec": {
   "display_name": "R",
   "language": "R",
   "name": "ir"
  },
  "language_info": {
   "codemirror_mode": "r",
   "file_extension": ".r",
   "mimetype": "text/x-r-source",
   "name": "R",
   "pygments_lexer": "r",
   "version": "3.6.2"
  }
 },
 "nbformat": 4,
 "nbformat_minor": 2
}
