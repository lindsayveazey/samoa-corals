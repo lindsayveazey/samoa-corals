{
 "cells": [
  {
   "cell_type": "markdown",
   "metadata": {},
   "source": [
    "#### [Raw data](http://www.soest.hawaii.edu/pibhmc/cms/data-by-location/american-samoa/)\n",
    "\n",
    "- *Observational*: ~6 coral groups TBD; \"*_TOAD\". \n",
    "\n",
    "Note that [Rose](http://www.soest.hawaii.edu/pibhmc/cms/data-by-location/american-samoa/rose-atoll/rose-atoll-habitat/) does not have optical validation data, but does have biological characterizations from prior surveys. This may be useful for predictive comparison only.\n",
    "\n",
    "Note that Swains does not have any biological layers available.\n",
    "\n",
    "- *Environmental*: (in progress- TBD based on ongoing literature review); 1-6 from PIBHMC site\n",
    "    1. Depth (from bty: \"*_bty\")\n",
    "    2. Hard vs. soft bottom (from Arc ASCII file: \"*_hs\")\n",
    "    3. Rugosity (from Arc ASCII file: \"*_rugosity\")\n",
    "    4. Slope (from Arc ASCII file: \"*_slope\")\n",
    "    5. PASS 3/20: this attribute is rarely identified as influential...I'm going to exclude it for now..Curvature (from bty)\n",
    "    6. Aspect (from bty)\n",
    "    7. PASS 3/19: Buildings (from PacIOOS: \"*_bldngs*\"; not available for Rose, Swains). Not loading properly...ignore for now\n",
    "    8. Environmental sensitivity index (from PacIOOS: \"AS_all/Env_sens_index\")\n",
    "    9. Village boundaries (from PacIOOS: \"AS_all/Villages/\")\n",
    "    10. Distance from shore (from PacIOOS: \"AS_all/Shorelines/\")\n",
    "    11. Wetland proximity (from PacIOOS: \"AS_all/Wetlands/\")\n",
    "    12. Population 1960-2000 (from PacIOOS: \"AS_all/Population/\")\n",
    "    13. ROMS u velocity (to E) (3 km resolution; from PacIOOS: \"AS_all/Currents\")\n",
    "    14. ROMS v velocity (to N) (3 km resolution; from PacIOOS: \"AS_all/Currents\")\n",
    "\n",
    "Priority locations:  Ofu-Olosega, Ta‘u, Tutuila\n",
    "Secondary locations: Rose Atoll, Swains Island\n",
    "\n",
    "All PIBHMC data is available at 5 m resolution for all locations except for Swains Island (5 m for bty, 40 m for hs, rugosity, slope). Using integrated data when available for completeness of coverage.\n",
    "\n",
    "#### Load libraries"
   ]
  },
  {
   "cell_type": "code",
   "execution_count": 39,
   "metadata": {},
   "outputs": [],
   "source": [
    "library(data.table)\n",
    "library(geojsonio)\n",
    "library(GISTools)\n",
    "library(ncdf4)\n",
    "library(raster)\n",
    "library(rgdal)\n",
    "library(sf)\n",
    "library(spatial.tools)\n",
    "library(tidyverse)"
   ]
  },
  {
   "cell_type": "markdown",
   "metadata": {},
   "source": [
    "#### Load raw data\n",
    "\n",
    "I need to...\n",
    "- [done] load the observational and predictor data for each region (OfuOlo, Rose, Swains, Tau, Tut) and all regions (AS_all)\n",
    "- [done] choose prj, ensure projections align\n",
    "- [done] exclude depths < 30 m and > 200 m**\n",
    "- [done] crop rasters\n",
    "- [done] resample rasters to 50 m resolution\n",
    "- [done] load netcdfs, reproject, save as points shp\n",
    "- convert TOAD shapefile to 50 m resolution raster, with all 1s prioritized, and/or extract raster data to shapefile- still have the issue of overlapping 0s/1s\n",
    "- impute missing data as needed\n",
    "- calculate Euclidean distance (possibly a side effect bonus with the extract to points method)"
   ]
  },
  {
   "cell_type": "markdown",
   "metadata": {},
   "source": [
    "## Ofu-Olo"
   ]
  },
  {
   "cell_type": "code",
   "execution_count": 149,
   "metadata": {},
   "outputs": [
    {
     "name": "stdout",
     "output_type": "stream",
     "text": [
      "Reading layer `OFU_TOAD_ALL2' from data source `C:\\Users\\linds\\OneDrive\\Documents\\samoa_corals_data\\OfuOlo\\OfuOlo_TOAD\\OFU_TOAD_ALL2.shp' using driver `ESRI Shapefile'\n",
      "Simple feature collection with 3042 features and 97 fields\n",
      "geometry type:  POINT\n",
      "dimension:      XY\n",
      "bbox:           xmin: -169.6982 ymin: -14.19928 xmax: -169.5957 ymax: -14.13887\n",
      "epsg (SRID):    4326\n",
      "proj4string:    +proj=longlat +datum=WGS84 +no_defs\n"
     ]
    }
   ],
   "source": [
    "setwd(\"C:/Users/linds/OneDrive/Documents/samoa_corals_data/\")\n",
    "\n",
    "# Ofu-Olosega\n",
    "oo_bty <-raster('OfuOlo/OfuOlo_bty/oo_dbmb_mos4.asc')\n",
    "oo_hs <- raster('OfuOlo/OfuOlo_hs/ofu_5m_hs_int.asc')\n",
    "oo_rug <- raster('OfuOlo/OfuOlo_rugosity/OfuOlo_5m_Rugosity.asc')\n",
    "oo_slope <- raster('OfuOlo/OfuOlo_slope/OfuOlo_5m_Slope.asc')\n",
    "oo_TOAD <- st_read('OfuOlo/OfuOlo_TOAD/OFU_TOAD_ALL2.shp') # for reading the attribute table\n",
    "\n",
    "# Assign projection\n",
    "proj4string(oo_bty) <- CRS(\"+proj=utm +zone=2 +south +ellps=GRS80 +units=m +no_defs\")\n",
    "proj4string(oo_hs) <- CRS(\"+proj=utm +zone=2 +south +ellps=GRS80 +units=m +no_defs\")\n",
    "proj4string(oo_rug) <- CRS(\"+proj=utm +zone=2 +south +ellps=GRS80 +units=m +no_defs\")\n",
    "proj4string(oo_slope) <- CRS(\"+proj=utm +zone=2 +south +ellps=GRS80 +units=m +no_defs\")\n",
    "oo_TOAD <- st_transform(oo_TOAD, crs= st_crs(oo_bty))\n",
    "\n",
    "# Create aspect raster\n",
    "oo_aspect <- terrain(oo_bty, opt = \"aspect\", unit = \"degrees\")"
   ]
  },
  {
   "cell_type": "markdown",
   "metadata": {},
   "source": [
    "#### Clip bathymetry raster < 30 m, > 200 m; crop others to same extent; resample rasters"
   ]
  },
  {
   "cell_type": "code",
   "execution_count": 150,
   "metadata": {},
   "outputs": [],
   "source": [
    "oo_bty[oo_bty > -30] <- NA\n",
    "oo_bty[oo_bty < -200] <- NA\n",
    "\n",
    "oo_hs <- crop(oo_hs, oo_bty)\n",
    "oo_rug <- crop(oo_rug, oo_bty)\n",
    "oo_slope <- crop(oo_slope, oo_bty)\n",
    "oo_aspect <- crop(oo_aspect, oo_bty)\n",
    "\n",
    "# Resample rasters to a resolution of 50 m (factor of 10)\n",
    "oo_bty <- aggregate(oo_bty, fact=10)\n",
    "oo_hs <- aggregate(oo_hs, fact=10)\n",
    "oo_rug <- aggregate(oo_rug, fact=10)\n",
    "oo_slope <- aggregate(oo_slope, fact=10)\n",
    "oo_aspect <- aggregate(oo_aspect, fact=10)\n",
    "\n",
    "# Write tranformed rasters and shp to file\n",
    "writeRaster(oo_bty, filename=file.path('C:/Users/linds/OneDrive/Documents/samoa_corals_data/OfuOlo/OfuOlo_bty',\n",
    "                                       \"oo_bty.grd\"), format='raster', overwrite=TRUE)\n",
    "writeRaster(oo_bty, filename=file.path('C:/Users/linds/OneDrive/Documents/samoa_corals_data/OfuOlo/OfuOlo_hs',\n",
    "                                       \"oo_hs.grd\"), format='raster', overwrite=TRUE)\n",
    "writeRaster(oo_bty, filename=file.path('C:/Users/linds/OneDrive/Documents/samoa_corals_data/OfuOlo/OfuOlo_rugosity',\n",
    "                                       \"oo_rug.grd\"), format='raster', overwrite=TRUE)\n",
    "writeRaster(oo_bty, filename=file.path('C:/Users/linds/OneDrive/Documents/samoa_corals_data/OfuOlo/OfuOlo_slope',\n",
    "                                       \"oo_slope.grd\"), format='raster', overwrite=TRUE)\n",
    "writeRaster(oo_bty, filename=file.path('C:/Users/linds/OneDrive/Documents/samoa_corals_data/OfuOlo/OfuOlo_asp',\n",
    "                                       \"oo_aspect.grd\"), format='raster', overwrite=TRUE)\n",
    "st_write(obj=oo_TOAD, dsn='C:/Users/linds/OneDrive/Documents/samoa_corals_data/OfuOlo/OfuOlo_TOAD', \n",
    "         update=TRUE, driver=\"ESRI Shapefile\", 'oo_TOAD.shp')"
   ]
  },
  {
   "cell_type": "markdown",
   "metadata": {},
   "source": [
    "#### Isolate points (testing)"
   ]
  },
  {
   "cell_type": "code",
   "execution_count": 91,
   "metadata": {},
   "outputs": [
    {
     "data": {
      "text/html": [
       "<style>\n",
       ".list-inline {list-style: none; margin:0; padding: 0}\n",
       ".list-inline>li {display: inline-block}\n",
       ".list-inline>li:not(:last-child)::after {content: \"\\00b7\"; padding: 0 .5ex}\n",
       "</style>\n",
       "<ol class=list-inline><li>'ID'</li><li>'Type'</li><li>'P_V'</li><li>'VidScheme'</li><li>'Island'</li><li>'Cruise'</li><li>'Record'</li><li>'Tow_ID'</li><li>'Date_UTC'</li><li>'Time_UTC'</li><li>'Lat'</li><li>'Long'</li><li>'Distance'</li><li>'Adj_Depth'</li><li>'DepthBin'</li><li>'Image'</li><li>'Image_Time'</li><li>'S1'</li><li>'S2'</li><li>'S3'</li><li>'S4'</li><li>'S5'</li><li>'T1_1'</li><li>'T1_2'</li><li>'T1_3'</li><li>'T1_4'</li><li>'T1_5'</li><li>'T2_1'</li><li>'T2_2'</li><li>'T2_3'</li><li>'T2_4'</li><li>'T2_5'</li><li>'T3_1'</li><li>'T3_2'</li><li>'T3_3'</li><li>'T3_4'</li><li>'T3_5'</li><li>'Cavities'</li><li>'Comments'</li><li>'Bleaching'</li><li>'Unconsolid'</li><li>'Mud'</li><li>'Sand'</li><li>'Hard_Botto'</li><li>'Rubble'</li><li>'Boulder'</li><li>'Rock'</li><li>'Manmade'</li><li>'Unclass_S'</li><li>'Hard_Coral'</li><li>'Soft_Coral'</li><li>'Crustose_C'</li><li>'Turf_Algae'</li><li>'Seagrass'</li><li>'Macroalgae'</li><li>'Sessile_In'</li><li>'Uncolonize'</li><li>'Unclass_T1'</li><li>'Branching'</li><li>'Columnar'</li><li>'Encrusting'</li><li>'Free_Livin'</li><li>'Foliose'</li><li>'Massive'</li><li>'Tabulate'</li><li>'Unclass_mo'</li><li>'NonSclerac'</li><li>'Black_Cora'</li><li>'Octocoral'</li><li>'Unclass_So'</li><li>'Invisible_'</li><li>'Visible_Tu'</li><li>'Unclass_Tu'</li><li>'Cyanobacte'</li><li>'Encrusti_1'</li><li>'Halimeda'</li><li>'Upright_Ma'</li><li>'Unclass_Ma'</li><li>'Anemone'</li><li>'Bivalve'</li><li>'Bryzoan'</li><li>'Corallimor'</li><li>'Giant_Clam'</li><li>'Sponge'</li><li>'Tunicate'</li><li>'Zoanthid'</li><li>'Unclass_In'</li><li>'Null_T2'</li><li>'Acropora'</li><li>'Euphyllia'</li><li>'Leptoseris'</li><li>'Montipora'</li><li>'Other_Cora'</li><li>'Porites'</li><li>'Pocillopor'</li><li>'Unclassifi'</li><li>'Null_T3'</li><li>'geometry'</li></ol>\n"
      ],
      "text/latex": [
       "\\begin{enumerate*}\n",
       "\\item 'ID'\n",
       "\\item 'Type'\n",
       "\\item 'P\\_V'\n",
       "\\item 'VidScheme'\n",
       "\\item 'Island'\n",
       "\\item 'Cruise'\n",
       "\\item 'Record'\n",
       "\\item 'Tow\\_ID'\n",
       "\\item 'Date\\_UTC'\n",
       "\\item 'Time\\_UTC'\n",
       "\\item 'Lat'\n",
       "\\item 'Long'\n",
       "\\item 'Distance'\n",
       "\\item 'Adj\\_Depth'\n",
       "\\item 'DepthBin'\n",
       "\\item 'Image'\n",
       "\\item 'Image\\_Time'\n",
       "\\item 'S1'\n",
       "\\item 'S2'\n",
       "\\item 'S3'\n",
       "\\item 'S4'\n",
       "\\item 'S5'\n",
       "\\item 'T1\\_1'\n",
       "\\item 'T1\\_2'\n",
       "\\item 'T1\\_3'\n",
       "\\item 'T1\\_4'\n",
       "\\item 'T1\\_5'\n",
       "\\item 'T2\\_1'\n",
       "\\item 'T2\\_2'\n",
       "\\item 'T2\\_3'\n",
       "\\item 'T2\\_4'\n",
       "\\item 'T2\\_5'\n",
       "\\item 'T3\\_1'\n",
       "\\item 'T3\\_2'\n",
       "\\item 'T3\\_3'\n",
       "\\item 'T3\\_4'\n",
       "\\item 'T3\\_5'\n",
       "\\item 'Cavities'\n",
       "\\item 'Comments'\n",
       "\\item 'Bleaching'\n",
       "\\item 'Unconsolid'\n",
       "\\item 'Mud'\n",
       "\\item 'Sand'\n",
       "\\item 'Hard\\_Botto'\n",
       "\\item 'Rubble'\n",
       "\\item 'Boulder'\n",
       "\\item 'Rock'\n",
       "\\item 'Manmade'\n",
       "\\item 'Unclass\\_S'\n",
       "\\item 'Hard\\_Coral'\n",
       "\\item 'Soft\\_Coral'\n",
       "\\item 'Crustose\\_C'\n",
       "\\item 'Turf\\_Algae'\n",
       "\\item 'Seagrass'\n",
       "\\item 'Macroalgae'\n",
       "\\item 'Sessile\\_In'\n",
       "\\item 'Uncolonize'\n",
       "\\item 'Unclass\\_T1'\n",
       "\\item 'Branching'\n",
       "\\item 'Columnar'\n",
       "\\item 'Encrusting'\n",
       "\\item 'Free\\_Livin'\n",
       "\\item 'Foliose'\n",
       "\\item 'Massive'\n",
       "\\item 'Tabulate'\n",
       "\\item 'Unclass\\_mo'\n",
       "\\item 'NonSclerac'\n",
       "\\item 'Black\\_Cora'\n",
       "\\item 'Octocoral'\n",
       "\\item 'Unclass\\_So'\n",
       "\\item 'Invisible\\_'\n",
       "\\item 'Visible\\_Tu'\n",
       "\\item 'Unclass\\_Tu'\n",
       "\\item 'Cyanobacte'\n",
       "\\item 'Encrusti\\_1'\n",
       "\\item 'Halimeda'\n",
       "\\item 'Upright\\_Ma'\n",
       "\\item 'Unclass\\_Ma'\n",
       "\\item 'Anemone'\n",
       "\\item 'Bivalve'\n",
       "\\item 'Bryzoan'\n",
       "\\item 'Corallimor'\n",
       "\\item 'Giant\\_Clam'\n",
       "\\item 'Sponge'\n",
       "\\item 'Tunicate'\n",
       "\\item 'Zoanthid'\n",
       "\\item 'Unclass\\_In'\n",
       "\\item 'Null\\_T2'\n",
       "\\item 'Acropora'\n",
       "\\item 'Euphyllia'\n",
       "\\item 'Leptoseris'\n",
       "\\item 'Montipora'\n",
       "\\item 'Other\\_Cora'\n",
       "\\item 'Porites'\n",
       "\\item 'Pocillopor'\n",
       "\\item 'Unclassifi'\n",
       "\\item 'Null\\_T3'\n",
       "\\item 'geometry'\n",
       "\\end{enumerate*}\n"
      ],
      "text/markdown": [
       "1. 'ID'\n",
       "2. 'Type'\n",
       "3. 'P_V'\n",
       "4. 'VidScheme'\n",
       "5. 'Island'\n",
       "6. 'Cruise'\n",
       "7. 'Record'\n",
       "8. 'Tow_ID'\n",
       "9. 'Date_UTC'\n",
       "10. 'Time_UTC'\n",
       "11. 'Lat'\n",
       "12. 'Long'\n",
       "13. 'Distance'\n",
       "14. 'Adj_Depth'\n",
       "15. 'DepthBin'\n",
       "16. 'Image'\n",
       "17. 'Image_Time'\n",
       "18. 'S1'\n",
       "19. 'S2'\n",
       "20. 'S3'\n",
       "21. 'S4'\n",
       "22. 'S5'\n",
       "23. 'T1_1'\n",
       "24. 'T1_2'\n",
       "25. 'T1_3'\n",
       "26. 'T1_4'\n",
       "27. 'T1_5'\n",
       "28. 'T2_1'\n",
       "29. 'T2_2'\n",
       "30. 'T2_3'\n",
       "31. 'T2_4'\n",
       "32. 'T2_5'\n",
       "33. 'T3_1'\n",
       "34. 'T3_2'\n",
       "35. 'T3_3'\n",
       "36. 'T3_4'\n",
       "37. 'T3_5'\n",
       "38. 'Cavities'\n",
       "39. 'Comments'\n",
       "40. 'Bleaching'\n",
       "41. 'Unconsolid'\n",
       "42. 'Mud'\n",
       "43. 'Sand'\n",
       "44. 'Hard_Botto'\n",
       "45. 'Rubble'\n",
       "46. 'Boulder'\n",
       "47. 'Rock'\n",
       "48. 'Manmade'\n",
       "49. 'Unclass_S'\n",
       "50. 'Hard_Coral'\n",
       "51. 'Soft_Coral'\n",
       "52. 'Crustose_C'\n",
       "53. 'Turf_Algae'\n",
       "54. 'Seagrass'\n",
       "55. 'Macroalgae'\n",
       "56. 'Sessile_In'\n",
       "57. 'Uncolonize'\n",
       "58. 'Unclass_T1'\n",
       "59. 'Branching'\n",
       "60. 'Columnar'\n",
       "61. 'Encrusting'\n",
       "62. 'Free_Livin'\n",
       "63. 'Foliose'\n",
       "64. 'Massive'\n",
       "65. 'Tabulate'\n",
       "66. 'Unclass_mo'\n",
       "67. 'NonSclerac'\n",
       "68. 'Black_Cora'\n",
       "69. 'Octocoral'\n",
       "70. 'Unclass_So'\n",
       "71. 'Invisible_'\n",
       "72. 'Visible_Tu'\n",
       "73. 'Unclass_Tu'\n",
       "74. 'Cyanobacte'\n",
       "75. 'Encrusti_1'\n",
       "76. 'Halimeda'\n",
       "77. 'Upright_Ma'\n",
       "78. 'Unclass_Ma'\n",
       "79. 'Anemone'\n",
       "80. 'Bivalve'\n",
       "81. 'Bryzoan'\n",
       "82. 'Corallimor'\n",
       "83. 'Giant_Clam'\n",
       "84. 'Sponge'\n",
       "85. 'Tunicate'\n",
       "86. 'Zoanthid'\n",
       "87. 'Unclass_In'\n",
       "88. 'Null_T2'\n",
       "89. 'Acropora'\n",
       "90. 'Euphyllia'\n",
       "91. 'Leptoseris'\n",
       "92. 'Montipora'\n",
       "93. 'Other_Cora'\n",
       "94. 'Porites'\n",
       "95. 'Pocillopor'\n",
       "96. 'Unclassifi'\n",
       "97. 'Null_T3'\n",
       "98. 'geometry'\n",
       "\n",
       "\n"
      ],
      "text/plain": [
       " [1] \"ID\"         \"Type\"       \"P_V\"        \"VidScheme\"  \"Island\"    \n",
       " [6] \"Cruise\"     \"Record\"     \"Tow_ID\"     \"Date_UTC\"   \"Time_UTC\"  \n",
       "[11] \"Lat\"        \"Long\"       \"Distance\"   \"Adj_Depth\"  \"DepthBin\"  \n",
       "[16] \"Image\"      \"Image_Time\" \"S1\"         \"S2\"         \"S3\"        \n",
       "[21] \"S4\"         \"S5\"         \"T1_1\"       \"T1_2\"       \"T1_3\"      \n",
       "[26] \"T1_4\"       \"T1_5\"       \"T2_1\"       \"T2_2\"       \"T2_3\"      \n",
       "[31] \"T2_4\"       \"T2_5\"       \"T3_1\"       \"T3_2\"       \"T3_3\"      \n",
       "[36] \"T3_4\"       \"T3_5\"       \"Cavities\"   \"Comments\"   \"Bleaching\" \n",
       "[41] \"Unconsolid\" \"Mud\"        \"Sand\"       \"Hard_Botto\" \"Rubble\"    \n",
       "[46] \"Boulder\"    \"Rock\"       \"Manmade\"    \"Unclass_S\"  \"Hard_Coral\"\n",
       "[51] \"Soft_Coral\" \"Crustose_C\" \"Turf_Algae\" \"Seagrass\"   \"Macroalgae\"\n",
       "[56] \"Sessile_In\" \"Uncolonize\" \"Unclass_T1\" \"Branching\"  \"Columnar\"  \n",
       "[61] \"Encrusting\" \"Free_Livin\" \"Foliose\"    \"Massive\"    \"Tabulate\"  \n",
       "[66] \"Unclass_mo\" \"NonSclerac\" \"Black_Cora\" \"Octocoral\"  \"Unclass_So\"\n",
       "[71] \"Invisible_\" \"Visible_Tu\" \"Unclass_Tu\" \"Cyanobacte\" \"Encrusti_1\"\n",
       "[76] \"Halimeda\"   \"Upright_Ma\" \"Unclass_Ma\" \"Anemone\"    \"Bivalve\"   \n",
       "[81] \"Bryzoan\"    \"Corallimor\" \"Giant_Clam\" \"Sponge\"     \"Tunicate\"  \n",
       "[86] \"Zoanthid\"   \"Unclass_In\" \"Null_T2\"    \"Acropora\"   \"Euphyllia\" \n",
       "[91] \"Leptoseris\" \"Montipora\"  \"Other_Cora\" \"Porites\"    \"Pocillopor\"\n",
       "[96] \"Unclassifi\" \"Null_T3\"    \"geometry\"  "
      ]
     },
     "metadata": {},
     "output_type": "display_data"
    }
   ],
   "source": [
    "colnames(oo_black_coral)"
   ]
  },
  {
   "cell_type": "code",
   "execution_count": 118,
   "metadata": {},
   "outputs": [],
   "source": [
    "# Isolating black coral points\n",
    "oo_TOAD_black_coral <- oo_TOAD[,c(68)]\n",
    "oo_TOAD_black_coral <- as.data.frame(oo_TOAD_black_coral)\n",
    "\n",
    "# Separate UTM coordinates from geometry column\n",
    "oo_TOAD_black_coral <- oo_TOAD_black_coral %>%\n",
    "    mutate(lat = unlist(map(oo_TOAD_black_coral$geometry,1)),\n",
    "           long = unlist(map(oo_TOAD_black_coral$geometry,2)))\n",
    "\n",
    "# Drop geometry column\n",
    "oo_TOAD_black_coral$geometry <- NULL"
   ]
  },
  {
   "cell_type": "markdown",
   "metadata": {},
   "source": [
    "## Tau"
   ]
  },
  {
   "cell_type": "code",
   "execution_count": 164,
   "metadata": {},
   "outputs": [
    {
     "name": "stdout",
     "output_type": "stream",
     "text": [
      "Reading layer `Toad_Tau_all2' from data source `C:\\Users\\linds\\OneDrive\\Documents\\samoa_corals_data\\Tau\\Tau_TOAD\\Toad_Tau_all2.shp' using driver `ESRI Shapefile'\n",
      "Simple feature collection with 1276 features and 97 fields\n",
      "geometry type:  POINT\n",
      "dimension:      XY\n",
      "bbox:           xmin: -169.553 ymin: -14.28124 xmax: -169.4154 ymax: -14.20876\n",
      "epsg (SRID):    4326\n",
      "proj4string:    +proj=longlat +datum=WGS84 +no_defs\n"
     ]
    }
   ],
   "source": [
    "# Tau\n",
    "tau_bty <-raster('Tau/Tau_bty/tau_dbmb_mos.asc')\n",
    "tau_hs <- raster('Tau/Tau_hs/tau_5m_hs_int.asc')\n",
    "tau_rug <- raster('Tau/Tau_rugosity/Tau_5m_Rugosity.asc')\n",
    "tau_slope <- raster('Tau/Tau_slope/Tau_5m_Slope.asc')\n",
    "tau_TOAD <- st_read('Tau/Tau_TOAD/Toad_Tau_all2.shp')\n",
    "                    \n",
    "proj4string(tau_bty) <- CRS(\"+proj=utm +zone=2 +south +ellps=GRS80 +units=m +no_defs\")\n",
    "proj4string(tau_hs) <- CRS(\"+proj=utm +zone=2 +south +ellps=GRS80 +units=m +no_defs\")\n",
    "proj4string(tau_rug) <- CRS(\"+proj=utm +zone=2 +south +ellps=GRS80 +units=m +no_defs\")\n",
    "proj4string(tau_slope) <- CRS(\"+proj=utm +zone=2 +south +ellps=GRS80 +units=m +no_defs\")\n",
    "tau_TOAD <- st_transform(tau_TOAD, crs= st_crs(tau_bty))\n",
    "\n",
    "tau_aspect <- terrain(tau_bty, opt = \"aspect\", unit = \"degrees\")\n",
    "\n",
    "# tau_bty # view raster attributes                   "
   ]
  },
  {
   "cell_type": "markdown",
   "metadata": {},
   "source": [
    "#### Clip bathymetry raster < 30 m, > 200 m; crop others to same extent; resample rasters"
   ]
  },
  {
   "cell_type": "code",
   "execution_count": 165,
   "metadata": {},
   "outputs": [],
   "source": [
    "tau_bty[tau_bty > -30] <- NA\n",
    "tau_bty[tau_bty < -200] <- NA\n",
    "\n",
    "tau_hs <- crop(tau_hs, tau_bty)\n",
    "tau_rug <- crop(tau_rug, tau_bty)\n",
    "tau_slope <- crop(tau_slope, tau_bty)\n",
    "tau_aspect <- crop(tau_aspect, tau_bty)\n",
    "\n",
    "# Resample rasters to a resolution of 50 m (factor of 10)\n",
    "tau_bty <- aggregate(tau_bty, fact=10)\n",
    "tau_hs <- aggregate(tau_hs, fact=10)\n",
    "tau_rug <- aggregate(tau_rug, fact=10)\n",
    "tau_slope <- aggregate(tau_slope, fact=10)\n",
    "tau_aspect <- aggregate(tau_aspect, fact=10)\n",
    "\n",
    "# Write tranformed rasters and shp to file\n",
    "writeRaster(tau_bty, filename=file.path('C:/Users/linds/OneDrive/Documents/samoa_corals_data/Tau/Tau_bty',\n",
    "                                       \"tau_bty.grd\"), format='raster', overwrite=TRUE)\n",
    "writeRaster(tau_bty, filename=file.path('C:/Users/linds/OneDrive/Documents/samoa_corals_data/Tau/Tau_hs',\n",
    "                                       \"tau_hs.grd\"), format='raster', overwrite=TRUE)\n",
    "writeRaster(tau_bty, filename=file.path('C:/Users/linds/OneDrive/Documents/samoa_corals_data/Tau/Tau_rugosity',\n",
    "                                       \"tau_rug.grd\"), format='raster', overwrite=TRUE)\n",
    "writeRaster(tau_bty, filename=file.path('C:/Users/linds/OneDrive/Documents/samoa_corals_data/Tau/Tau_slope',\n",
    "                                       \"tau_slope.grd\"), format='raster', overwrite=TRUE)\n",
    "writeRaster(tau_bty, filename=file.path('C:/Users/linds/OneDrive/Documents/samoa_corals_data/Tau/Tau_asp',\n",
    "                                       \"tau_aspect.grd\"), format='raster', overwrite=TRUE)\n",
    "st_write(obj=tau_TOAD, dsn='C:/Users/linds/OneDrive/Documents/samoa_corals_data/Tau/Tau_TOAD', \n",
    "         update=TRUE, driver=\"ESRI Shapefile\", 'tau_TOAD.shp')"
   ]
  },
  {
   "cell_type": "markdown",
   "metadata": {},
   "source": [
    "## Tutuila"
   ]
  },
  {
   "cell_type": "code",
   "execution_count": 14,
   "metadata": {},
   "outputs": [
    {
     "name": "stdout",
     "output_type": "stream",
     "text": [
      "Reading layer `tut_toad_all' from data source `C:\\Users\\linds\\OneDrive\\Documents\\samoa_corals_data\\Tut\\Tut_TOAD\\tut_toad_all.shp' using driver `ESRI Shapefile'\n",
      "Simple feature collection with 5602 features and 107 fields\n",
      "geometry type:  POINT\n",
      "dimension:      XY\n",
      "bbox:           xmin: -170.9227 ymin: -14.3715 xmax: -170.4948 ymax: -14.20533\n",
      "epsg (SRID):    4267\n",
      "proj4string:    +proj=longlat +ellps=clrk66 +no_defs\n"
     ]
    }
   ],
   "source": [
    "tut_bty <-raster('Tut/Tut_bty/tut_dbmb.asc')\n",
    "tut_hs <- raster('Tut/Tut_hs/tut-re8101-unspv-5m.tif')\n",
    "tut_rug <- raster('Tut/Tut_rugosity/Tutuila_5m_Rugosity.asc')\n",
    "tut_slope <- raster('Tut/Tut_slope/Tutuila_5m_Slope.asc')\n",
    "tut_TOAD <- st_read('Tut/Tut_TOAD/tut_toad_all.shp')\n",
    "\n",
    "proj4string(tut_bty) <- CRS(\"+proj=utm +zone=2 +south +ellps=GRS80 +units=m +no_defs\")\n",
    "proj4string(tut_hs) <- CRS(\"+proj=utm +zone=2 +south +ellps=GRS80 +units=m +no_defs\")\n",
    "proj4string(tut_rug) <- CRS(\"+proj=utm +zone=2 +south +ellps=GRS80 +units=m +no_defs\")\n",
    "proj4string(tut_slope) <- CRS(\"+proj=utm +zone=2 +south +ellps=GRS80 +units=m +no_defs\")\n",
    "tut_TOAD <- st_transform(tut_TOAD, crs= st_crs(tut_bty))\n",
    "\n",
    "tut_aspect <- terrain(tut_bty, opt = \"aspect\", unit = \"degrees\")"
   ]
  },
  {
   "cell_type": "markdown",
   "metadata": {},
   "source": [
    "#### Clip bathymetry raster < 30 m, > 200 m; crop others to same extent; resample rasters"
   ]
  },
  {
   "cell_type": "code",
   "execution_count": 15,
   "metadata": {},
   "outputs": [],
   "source": [
    "tut_bty[tut_bty > -30] <- NA\n",
    "tut_bty[tut_bty < -200] <- NA\n",
    "\n",
    "tut_hs <- crop(tut_hs, tut_bty)\n",
    "tut_rug <- crop(tut_rug, tut_bty)\n",
    "tut_slope <- crop(tut_slope, tut_bty)\n",
    "tut_aspect <- crop(tut_aspect, tut_bty)\n",
    "\n",
    "tut_bty <- aggregate(tut_bty, fact=10)\n",
    "tut_hs <- aggregate(tut_hs, fact=10)\n",
    "tut_rug <- aggregate(tut_rug, fact=10)\n",
    "tut_slope <- aggregate(tut_slope, fact=10)\n",
    "tut_aspect <- aggregate(tut_aspect, fact=10)\n",
    "\n",
    "# Write tranformed rasters and shp to file\n",
    "writeRaster(tut_bty, filename=file.path('C:/Users/linds/OneDrive/Documents/samoa_corals_data/Tut/Tut_bty',\n",
    "                                       \"tut_bty.grd\"), format='raster', overwrite=TRUE)\n",
    "writeRaster(tut_bty, filename=file.path('C:/Users/linds/OneDrive/Documents/samoa_corals_data/Tut/Tut_hs',\n",
    "                                       \"tut_hs.grd\"), format='raster', overwrite=TRUE)\n",
    "writeRaster(tut_bty, filename=file.path('C:/Users/linds/OneDrive/Documents/samoa_corals_data/Tut/Tut_rugosity',\n",
    "                                       \"tut_rug.grd\"), format='raster', overwrite=TRUE)\n",
    "writeRaster(tut_bty, filename=file.path('C:/Users/linds/OneDrive/Documents/samoa_corals_data/Tut/Tut_slope',\n",
    "                                       \"tut_slope.grd\"), format='raster', overwrite=TRUE)\n",
    "writeRaster(tut_bty, filename=file.path('C:/Users/linds/OneDrive/Documents/samoa_corals_data/Tut/Tut_asp',\n",
    "                                       \"tut_aspect.grd\"), format='raster', overwrite=TRUE)\n",
    "st_write(obj=tut_TOAD, dsn='C:/Users/linds/OneDrive/Documents/samoa_corals_data/Tut/Tut_TOAD', \n",
    "         update=TRUE, driver=\"ESRI Shapefile\", 'tut_TOAD.shp')"
   ]
  },
  {
   "cell_type": "markdown",
   "metadata": {},
   "source": [
    "## Rose Atoll"
   ]
  },
  {
   "cell_type": "code",
   "execution_count": 170,
   "metadata": {},
   "outputs": [],
   "source": [
    "rose_bty <-raster('Rose/Rose_bty/rose_5m_dbmb.asc')\n",
    "rose_hs <- raster('Rose/Rose_hs/ros_5m_hs_int.asc')\n",
    "rose_rug <- raster('Rose/Rose_rugosity/ros_5m_rug.asc')\n",
    "rose_slope <- raster('Rose/Rose_slope/ros_5m_slp.asc')\n",
    "\n",
    "proj4string(rose_bty) <- CRS(\"+proj=utm +zone=2 +south +ellps=GRS80 +units=m +no_defs\")\n",
    "proj4string(rose_hs) <- CRS(\"+proj=utm +zone=2 +south +ellps=GRS80 +units=m +no_defs\")\n",
    "proj4string(rose_rug) <- CRS(\"+proj=utm +zone=2 +south +ellps=GRS80 +units=m +no_defs\")\n",
    "proj4string(rose_slope) <- CRS(\"+proj=utm +zone=2 +south +ellps=GRS80 +units=m +no_defs\")\n",
    "\n",
    "rose_aspect <- terrain(rose_bty, opt = \"aspect\", unit = \"degrees\")"
   ]
  },
  {
   "cell_type": "markdown",
   "metadata": {},
   "source": [
    "#### Clip bathymetry raster < 30 m, > 200 m; crop others to same extent; resample rasters"
   ]
  },
  {
   "cell_type": "code",
   "execution_count": 171,
   "metadata": {},
   "outputs": [],
   "source": [
    "rose_bty[rose_bty > -30] <- NA\n",
    "rose_bty[rose_bty < -200] <- NA\n",
    "\n",
    "rose_hs <- crop(rose_hs, rose_bty)\n",
    "rose_rug <- crop(rose_rug, rose_bty)\n",
    "rose_slope <- crop(rose_slope, rose_bty)\n",
    "rose_aspect <- crop(rose_aspect, rose_bty)\n",
    "\n",
    "rose_bty <- aggregate(rose_bty, fact=10)\n",
    "rose_hs <- aggregate(rose_hs, fact=10)\n",
    "rose_rug <- aggregate(rose_rug, fact=10)\n",
    "rose_slope <- aggregate(rose_slope, fact=10)\n",
    "rose_aspect <- aggregate(rose_aspect, fact=10)"
   ]
  },
  {
   "cell_type": "code",
   "execution_count": 172,
   "metadata": {},
   "outputs": [
    {
     "data": {
      "text/plain": [
       "class      : RasterLayer \n",
       "dimensions : 84, 92, 7728  (nrow, ncol, ncell)\n",
       "resolution : 50.0109, 50.0109  (x, y)\n",
       "extent     : 804400, 809001, 8388065, 8392266  (xmin, xmax, ymin, ymax)\n",
       "crs        : +proj=utm +zone=2 +south +ellps=GRS80 +units=m +no_defs \n",
       "source     : C:/Users/linds/OneDrive/Documents/samoa_corals_data/Rose/Rose_bty/rose_bty.grd \n",
       "names      : rose_5m_dbmb \n",
       "values     : -199.771, -30.1904  (min, max)\n"
      ]
     },
     "metadata": {},
     "output_type": "display_data"
    },
    {
     "data": {
      "text/plain": [
       "class      : RasterLayer \n",
       "dimensions : 84, 92, 7728  (nrow, ncol, ncell)\n",
       "resolution : 50.0109, 50.0109  (x, y)\n",
       "extent     : 804400, 809001, 8388065, 8392266  (xmin, xmax, ymin, ymax)\n",
       "crs        : +proj=utm +zone=2 +south +ellps=GRS80 +units=m +no_defs \n",
       "source     : C:/Users/linds/OneDrive/Documents/samoa_corals_data/Rose/Rose_hs/rose_hs.grd \n",
       "names      : rose_5m_dbmb \n",
       "values     : -199.771, -30.1904  (min, max)\n"
      ]
     },
     "metadata": {},
     "output_type": "display_data"
    },
    {
     "data": {
      "text/plain": [
       "class      : RasterLayer \n",
       "dimensions : 84, 92, 7728  (nrow, ncol, ncell)\n",
       "resolution : 50.0109, 50.0109  (x, y)\n",
       "extent     : 804400, 809001, 8388065, 8392266  (xmin, xmax, ymin, ymax)\n",
       "crs        : +proj=utm +zone=2 +south +ellps=GRS80 +units=m +no_defs \n",
       "source     : C:/Users/linds/OneDrive/Documents/samoa_corals_data/Rose/Rose_rugosity/rose_rug.grd \n",
       "names      : rose_5m_dbmb \n",
       "values     : -199.771, -30.1904  (min, max)\n"
      ]
     },
     "metadata": {},
     "output_type": "display_data"
    },
    {
     "data": {
      "text/plain": [
       "class      : RasterLayer \n",
       "dimensions : 84, 92, 7728  (nrow, ncol, ncell)\n",
       "resolution : 50.0109, 50.0109  (x, y)\n",
       "extent     : 804400, 809001, 8388065, 8392266  (xmin, xmax, ymin, ymax)\n",
       "crs        : +proj=utm +zone=2 +south +ellps=GRS80 +units=m +no_defs \n",
       "source     : C:/Users/linds/OneDrive/Documents/samoa_corals_data/Rose/Rose_slope/rose_slope.grd \n",
       "names      : rose_5m_dbmb \n",
       "values     : -199.771, -30.1904  (min, max)\n"
      ]
     },
     "metadata": {},
     "output_type": "display_data"
    },
    {
     "data": {
      "text/plain": [
       "class      : RasterLayer \n",
       "dimensions : 84, 92, 7728  (nrow, ncol, ncell)\n",
       "resolution : 50.0109, 50.0109  (x, y)\n",
       "extent     : 804400, 809001, 8388065, 8392266  (xmin, xmax, ymin, ymax)\n",
       "crs        : +proj=utm +zone=2 +south +ellps=GRS80 +units=m +no_defs \n",
       "source     : C:/Users/linds/OneDrive/Documents/samoa_corals_data/Rose/Rose_asp/rose_aspect.grd \n",
       "names      : rose_5m_dbmb \n",
       "values     : -199.771, -30.1904  (min, max)\n"
      ]
     },
     "metadata": {},
     "output_type": "display_data"
    }
   ],
   "source": [
    "# Write tranformed rasters\n",
    "writeRaster(rose_bty, filename=file.path('C:/Users/linds/OneDrive/Documents/samoa_corals_data/Rose/Rose_bty',\n",
    "                                       \"rose_bty.grd\"), format='raster', overwrite=TRUE)\n",
    "writeRaster(rose_bty, filename=file.path('C:/Users/linds/OneDrive/Documents/samoa_corals_data/Rose/Rose_hs',\n",
    "                                       \"rose_hs.grd\"), format='raster', overwrite=TRUE)\n",
    "writeRaster(rose_bty, filename=file.path('C:/Users/linds/OneDrive/Documents/samoa_corals_data/Rose/Rose_rugosity',\n",
    "                                       \"rose_rug.grd\"), format='raster', overwrite=TRUE)\n",
    "writeRaster(rose_bty, filename=file.path('C:/Users/linds/OneDrive/Documents/samoa_corals_data/Rose/Rose_slope',\n",
    "                                       \"rose_slope.grd\"), format='raster', overwrite=TRUE)\n",
    "writeRaster(rose_bty, filename=file.path('C:/Users/linds/OneDrive/Documents/samoa_corals_data/Rose/Rose_asp',\n",
    "                                       \"rose_aspect.grd\"), format='raster', overwrite=TRUE)"
   ]
  },
  {
   "cell_type": "markdown",
   "metadata": {},
   "source": [
    "## Swains Island"
   ]
  },
  {
   "cell_type": "code",
   "execution_count": 173,
   "metadata": {},
   "outputs": [],
   "source": [
    "swains_bty <-raster('Swains/Swains_bty/swa_dbmb_5m.asc')\n",
    "swains_hs <- raster('Swains/Swains_hs/swains_40m_hardsoft.asc')\n",
    "swains_rug <- raster('Swains/Swains_rugosity/swa_40m_rug.asc')\n",
    "swains_slope <- raster('Swains/Swains_slope/swa_40m_slp.asc')\n",
    "\n",
    "proj4string(swains_bty) <- CRS(\"+proj=utm +zone=2 +south +ellps=GRS80 +units=m +no_defs\")\n",
    "proj4string(swains_hs) <- CRS(\"+proj=utm +zone=2 +south +ellps=GRS80 +units=m +no_defs\")\n",
    "proj4string(swains_rug) <- CRS(\"+proj=utm +zone=2 +south +ellps=GRS80 +units=m +no_defs\")\n",
    "proj4string(swains_slope) <- CRS(\"+proj=utm +zone=2 +south +ellps=GRS80 +units=m +no_defs\")\n",
    "\n",
    "swains_aspect <- terrain(swains_bty, opt = \"aspect\", unit = \"degrees\")"
   ]
  },
  {
   "cell_type": "markdown",
   "metadata": {},
   "source": [
    "#### Clip bathymetry raster < 30 m, > 200 m; crop others to same extent; resample rasters"
   ]
  },
  {
   "cell_type": "code",
   "execution_count": 174,
   "metadata": {},
   "outputs": [],
   "source": [
    "swains_bty[swains_bty > -30] <- NA\n",
    "swains_bty[swains_bty < -200] <- NA\n",
    "\n",
    "swains_hs <- crop(swains_hs, swains_bty)\n",
    "swains_rug <- crop(swains_rug, swains_bty)\n",
    "swains_slope <- crop(swains_slope, swains_bty)\n",
    "swains_aspect <- crop(swains_aspect, swains_bty)\n",
    "\n",
    "swains_bty <- aggregate(swains_bty, fact=10)\n",
    "\n",
    "swains_hs <- disaggregate(swains_hs, fact=4)\n",
    "swains_hs <- aggregate(swains_hs, fact=5)\n",
    "\n",
    "swains_rug <- disaggregate(swains_rug, fact=4)\n",
    "swains_rug <- aggregate(swains_rug, fact=5)\n",
    "\n",
    "swains_slope <- disaggregate(swains_slope, fact=4)\n",
    "swains_slope <- aggregate(swains_slope, fact=5)\n",
    "\n",
    "swains_aspect <- aggregate(swains_aspect, fact=10)"
   ]
  },
  {
   "cell_type": "code",
   "execution_count": 176,
   "metadata": {},
   "outputs": [
    {
     "data": {
      "text/plain": [
       "class      : RasterLayer \n",
       "dimensions : 61, 73, 4453  (nrow, ncol, ncell)\n",
       "resolution : 50, 50  (x, y)\n",
       "extent     : 489660.1, 493310.1, 8776165, 8779215  (xmin, xmax, ymin, ymax)\n",
       "crs        : +proj=utm +zone=2 +south +ellps=GRS80 +units=m +no_defs \n",
       "source     : C:/Users/linds/OneDrive/Documents/samoa_corals_data/Swains/Swains_bty/swains_bty.grd \n",
       "names      : swa_dbmb_5m \n",
       "values     : -196.91, -30.3  (min, max)\n"
      ]
     },
     "metadata": {},
     "output_type": "display_data"
    },
    {
     "data": {
      "text/plain": [
       "class      : RasterLayer \n",
       "dimensions : 61, 73, 4453  (nrow, ncol, ncell)\n",
       "resolution : 50, 50  (x, y)\n",
       "extent     : 489660.1, 493310.1, 8776165, 8779215  (xmin, xmax, ymin, ymax)\n",
       "crs        : +proj=utm +zone=2 +south +ellps=GRS80 +units=m +no_defs \n",
       "source     : C:/Users/linds/OneDrive/Documents/samoa_corals_data/Swains/Swains_hs/swains_hs.grd \n",
       "names      : swa_dbmb_5m \n",
       "values     : -196.91, -30.3  (min, max)\n"
      ]
     },
     "metadata": {},
     "output_type": "display_data"
    },
    {
     "data": {
      "text/plain": [
       "class      : RasterLayer \n",
       "dimensions : 61, 73, 4453  (nrow, ncol, ncell)\n",
       "resolution : 50, 50  (x, y)\n",
       "extent     : 489660.1, 493310.1, 8776165, 8779215  (xmin, xmax, ymin, ymax)\n",
       "crs        : +proj=utm +zone=2 +south +ellps=GRS80 +units=m +no_defs \n",
       "source     : C:/Users/linds/OneDrive/Documents/samoa_corals_data/Swains/Swains_rugosity/swains_rug.grd \n",
       "names      : swa_dbmb_5m \n",
       "values     : -196.91, -30.3  (min, max)\n"
      ]
     },
     "metadata": {},
     "output_type": "display_data"
    },
    {
     "data": {
      "text/plain": [
       "class      : RasterLayer \n",
       "dimensions : 61, 73, 4453  (nrow, ncol, ncell)\n",
       "resolution : 50, 50  (x, y)\n",
       "extent     : 489660.1, 493310.1, 8776165, 8779215  (xmin, xmax, ymin, ymax)\n",
       "crs        : +proj=utm +zone=2 +south +ellps=GRS80 +units=m +no_defs \n",
       "source     : C:/Users/linds/OneDrive/Documents/samoa_corals_data/Swains/Swains_slope/swains_slope.grd \n",
       "names      : swa_dbmb_5m \n",
       "values     : -196.91, -30.3  (min, max)\n"
      ]
     },
     "metadata": {},
     "output_type": "display_data"
    },
    {
     "data": {
      "text/plain": [
       "class      : RasterLayer \n",
       "dimensions : 61, 73, 4453  (nrow, ncol, ncell)\n",
       "resolution : 50, 50  (x, y)\n",
       "extent     : 489660.1, 493310.1, 8776165, 8779215  (xmin, xmax, ymin, ymax)\n",
       "crs        : +proj=utm +zone=2 +south +ellps=GRS80 +units=m +no_defs \n",
       "source     : C:/Users/linds/OneDrive/Documents/samoa_corals_data/Swains/Swains_asp/swains_aspect.grd \n",
       "names      : swa_dbmb_5m \n",
       "values     : -196.91, -30.3  (min, max)\n"
      ]
     },
     "metadata": {},
     "output_type": "display_data"
    }
   ],
   "source": [
    "# Write tranformed rasters and shp to file\n",
    "writeRaster(swains_bty, filename=file.path('C:/Users/linds/OneDrive/Documents/samoa_corals_data/Swains/Swains_bty',\n",
    "                                       \"swains_bty.grd\"), format='raster', overwrite=TRUE)\n",
    "writeRaster(swains_bty, filename=file.path('C:/Users/linds/OneDrive/Documents/samoa_corals_data/Swains/Swains_hs',\n",
    "                                       \"swains_hs.grd\"), format='raster', overwrite=TRUE)\n",
    "writeRaster(swains_bty, filename=file.path('C:/Users/linds/OneDrive/Documents/samoa_corals_data/Swains/Swains_rugosity',\n",
    "                                       \"swains_rug.grd\"), format='raster', overwrite=TRUE)\n",
    "writeRaster(swains_bty, filename=file.path('C:/Users/linds/OneDrive/Documents/samoa_corals_data/Swains/Swains_slope',\n",
    "                                       \"swains_slope.grd\"), format='raster', overwrite=TRUE)\n",
    "writeRaster(swains_bty, filename=file.path('C:/Users/linds/OneDrive/Documents/samoa_corals_data/Swains/Swains_asp',\n",
    "                                       \"swains_aspect.grd\"), format='raster', overwrite=TRUE)"
   ]
  },
  {
   "cell_type": "markdown",
   "metadata": {},
   "source": [
    "## American Samoa (all)\n",
    "Load the u (eastward) currents nc file first:"
   ]
  },
  {
   "cell_type": "code",
   "execution_count": 139,
   "metadata": {},
   "outputs": [],
   "source": [
    "setwd('C:/Users/linds/OneDrive/Documents/samoa_corals_data/')\n",
    "currents <- nc_open('AS_all/Currents/currents.nc')\n",
    "#str(currents)"
   ]
  },
  {
   "cell_type": "code",
   "execution_count": 140,
   "metadata": {},
   "outputs": [],
   "source": [
    "v1 = currents$var[[1]] \n",
    "u = ncvar_get(currents, v1) # 2929\n",
    "lon = v1$dim[[1]]$vals # dim[[1]] is lon - 186\n",
    "lat = v1$dim[[2]]$vals # dim[[2]] is lat - 112\n",
    "\n",
    "# Using deconstruct function c() to turn matrices into numeric class output\n",
    "uvals <- c(u) # length = 61016928, which is u*lon*lat\n",
    "df <- as.data.frame(uvals)\n",
    "\n",
    "# Same lat applied to 186 uvals at a time (there are 186 lon values before they repeat)\n",
    "latlist <- rep(lat,each=186)\n",
    "# 1 column and 61016928 (112*186*2929) rows in uvel \n",
    "colnames(df) <- \"u\"\n",
    "lonlist <- rep(lon, times=112)\n",
    "df$lon <- lonlist\n",
    "df$lat <- latlist\n",
    "\n",
    "d <- split(df, rep(1:2929, each=20832))\n",
    "merged <- d %>% reduce(left_join, by=c(\"lat\", \"lon\"), all=FALSE)\n",
    "udf <- data.frame(lon=merged[,2], lat=merged[,3], umean=rowMeans(merged[,-c(2,3)]))"
   ]
  },
  {
   "cell_type": "markdown",
   "metadata": {},
   "source": [
    "Next, load the v (westward) currents:"
   ]
  },
  {
   "cell_type": "code",
   "execution_count": 141,
   "metadata": {},
   "outputs": [],
   "source": [
    "v3 = currents$var[[3]] \n",
    "v = ncvar_get(currents, v3)\n",
    "lon = v3$dim[[1]]$vals # dim[[1]] is lon - 186\n",
    "lat = v3$dim[[2]]$vals # dim[[2]] is lat - 112\n",
    "vvals <- c(v) # length = 61016928, which is v*lon*lat\n",
    "df2 <- as.data.frame(vvals)\n",
    "latlist <- rep(lat,each=186) \n",
    "colnames(df) <- \"v\"\n",
    "lonlist <- rep(lon, times=112)\n",
    "df2$lon <- lonlist\n",
    "df2$lat <- latlist\n",
    "\n",
    "\n",
    "d2 <- split(df2, rep(1:2929, each=20832))\n",
    "merged2 <- d2 %>% reduce(left_join, by=c(\"lat\", \"lon\"), all=FALSE)\n",
    "vdf <- data.frame(lon=merged2[,2], lat=merged2[,3], vmean=rowMeans(merged[,-c(2,3)]))\n",
    "\n",
    "# Write CSVs to file\n",
    "udf <- na.omit(udf)\n",
    "vdf <- na.omit(vdf)\n",
    "write.csv(udf, 'AS_all/Currents/udf.csv', row.names = FALSE)\n",
    "write.csv(vdf, 'AS_all/Currents/vdf.csv', row.names = FALSE)"
   ]
  },
  {
   "cell_type": "code",
   "execution_count": 147,
   "metadata": {},
   "outputs": [
    {
     "data": {
      "text/plain": [
       "CRS arguments:\n",
       " +proj=longlat +datum=WGS84 +no_defs +ellps=WGS84 +towgs84=0,0,0 "
      ]
     },
     "metadata": {},
     "output_type": "display_data"
    },
    {
     "name": "stdout",
     "output_type": "stream",
     "text": [
      "Reading layer `umean' from data source `C:\\Users\\linds\\OneDrive\\Documents\\samoa_corals_data\\AS_all\\Currents\\umean.shp' using driver `ESRI Shapefile'\n",
      "Simple feature collection with 20359 features and 3 fields\n",
      "geometry type:  POINT\n",
      "dimension:      XY\n",
      "bbox:           xmin: -174 ymin: -15.5 xmax: -168.8088 ymax: -12.49855\n",
      "epsg (SRID):    4326\n",
      "proj4string:    +proj=longlat +datum=WGS84 +no_defs\n",
      "Reading layer `vmean' from data source `C:\\Users\\linds\\OneDrive\\Documents\\samoa_corals_data\\AS_all\\Currents\\vmean.shp' using driver `ESRI Shapefile'\n",
      "Simple feature collection with 20359 features and 3 fields\n",
      "geometry type:  POINT\n",
      "dimension:      XY\n",
      "bbox:           xmin: -174 ymin: -15.5 xmax: -168.8088 ymax: -12.49855\n",
      "epsg (SRID):    4326\n",
      "proj4string:    +proj=longlat +datum=WGS84 +no_defs\n",
      "Updating layer `ucur' to data source `C:/Users/linds/OneDrive/Documents/samoa_corals_data/AS_all/Currents' using driver `ESRI Shapefile'\n",
      "Updating existing layer ucur\n",
      "Writing 20359 features with 3 fields and geometry type Point.\n",
      "Updating layer `vcur' to data source `C:/Users/linds/OneDrive/Documents/samoa_corals_data/AS_all/Currents' using driver `ESRI Shapefile'\n",
      "Updating existing layer vcur\n",
      "Writing 20359 features with 3 fields and geometry type Point.\n"
     ]
    }
   ],
   "source": [
    "# Reload a \"raw\", untransformed raster\n",
    "tut_slope_raw <- raster('Tut/Tut_slope/Tutuila_5m_Slope.asc')\n",
    "proj4string(tut_slope_raw) <- CRS(\"+proj=longlat +datum=WGS84 +no_defs\")\n",
    "crs(tut_slope_raw)\n",
    "\n",
    "# Create CRS objects\n",
    "utm_crs <- crs(tut_bty)\n",
    "wgs_crs <- crs(tut_slope_raw)\n",
    "\n",
    "# Assign the original CRS to a new SpatialPointsDataFrame object\n",
    "udf_sp <- SpatialPointsDataFrame(udf[,1:2], udf, proj4string = wgs_crs)\n",
    "vdf_sp <- SpatialPointsDataFrame(vdf[,1:2], vdf, proj4string = wgs_crs)\n",
    "\n",
    "# Check CRS\n",
    "#crs(udf_sp)\n",
    "#extent(udf_sp)\n",
    "\n",
    "# Write as a shapefile\n",
    "writeOGR(obj=udf_sp, layer=\"umean\", \n",
    "         dsn='C:/Users/linds/OneDrive/Documents/samoa_corals_data/AS_all/Currents', driver=\"ESRI Shapefile\",\n",
    "        overwrite_layer=TRUE)\n",
    "writeOGR(obj=vdf_sp, layer=\"vmean\", \n",
    "         dsn='C:/Users/linds/OneDrive/Documents/samoa_corals_data/AS_all/Currents', driver=\"ESRI Shapefile\",\n",
    "         overwrite_layer=TRUE)\n",
    "\n",
    "# Reload and transform\n",
    "ucur <- st_read('AS_all/Currents/umean.shp')\n",
    "ucur <- st_transform(ucur, crs= st_crs(tut_bty))\n",
    "vcur <- st_read('AS_all/Currents/vmean.shp')\n",
    "vcur <- st_transform(vcur, crs= st_crs(tut_bty))\n",
    "\n",
    "# Write as a tranformed shapefile\n",
    "st_write(obj=ucur, dsn='C:/Users/linds/OneDrive/Documents/samoa_corals_data/AS_all/Currents', \n",
    "         update=TRUE, driver=\"ESRI Shapefile\", 'ucur.shp')\n",
    "st_write(obj=vcur, dsn='C:/Users/linds/OneDrive/Documents/samoa_corals_data/AS_all/Currents', \n",
    "         update=TRUE, driver=\"ESRI Shapefile\", 'vcur.shp')"
   ]
  },
  {
   "cell_type": "markdown",
   "metadata": {},
   "source": [
    "Load the remainder of the data:"
   ]
  },
  {
   "cell_type": "code",
   "execution_count": 148,
   "metadata": {},
   "outputs": [
    {
     "name": "stdout",
     "output_type": "stream",
     "text": [
      "Reading layer `ucur' from data source `C:\\Users\\linds\\OneDrive\\Documents\\samoa_corals_data\\AS_all\\Currents\\ucur.shp' using driver `ESRI Shapefile'\n",
      "Simple feature collection with 40718 features and 3 fields\n",
      "geometry type:  POINT\n",
      "dimension:      XY\n",
      "bbox:           xmin: 173899.2 ymin: 8284117 xmax: 738140.2 ymax: 8618317\n",
      "epsg (SRID):    NA\n",
      "proj4string:    +proj=utm +zone=2 +south +ellps=GRS80 +units=m +no_defs\n",
      "Reading layer `vcur' from data source `C:\\Users\\linds\\OneDrive\\Documents\\samoa_corals_data\\AS_all\\Currents\\vcur.shp' using driver `ESRI Shapefile'\n",
      "Simple feature collection with 40718 features and 3 fields\n",
      "geometry type:  POINT\n",
      "dimension:      XY\n",
      "bbox:           xmin: 173899.2 ymin: 8284117 xmax: 738140.2 ymax: 8618317\n",
      "epsg (SRID):    NA\n",
      "proj4string:    +proj=utm +zone=2 +south +ellps=GRS80 +units=m +no_defs\n",
      "Reading layer `esi_raw' from data source `C:\\Users\\linds\\OneDrive\\Documents\\samoa_corals_data\\AS_all\\Env_sens_index\\esi_raw.shp' using driver `ESRI Shapefile'\n",
      "Simple feature collection with 61 features and 5 fields\n",
      "geometry type:  POLYGON\n",
      "dimension:      XY\n",
      "bbox:           xmin: -170.7905 ymin: -14.33965 xmax: -169.6217 ymax: -14.17286\n",
      "epsg (SRID):    4326\n",
      "proj4string:    +proj=longlat +datum=WGS84 +no_defs\n",
      "Reading layer `pop_raw' from data source `C:\\Users\\linds\\OneDrive\\Documents\\samoa_corals_data\\AS_all\\Population\\pop_raw.shp' using driver `ESRI Shapefile'\n",
      "Simple feature collection with 64 features and 12 fields\n",
      "geometry type:  MULTIPOLYGON\n",
      "dimension:      XY\n",
      "bbox:           xmin: -170.847 ymin: -14.37421 xmax: -170.5456 ymax: -14.22956\n",
      "epsg (SRID):    4326\n",
      "proj4string:    +proj=longlat +datum=WGS84 +no_defs\n",
      "Reading layer `shore_raw' from data source `C:\\Users\\linds\\OneDrive\\Documents\\samoa_corals_data\\AS_all\\Shorelines\\shore_raw.shp' using driver `ESRI Shapefile'\n",
      "Simple feature collection with 220 features and 2 fields\n",
      "geometry type:  POLYGON\n",
      "dimension:      XY\n",
      "bbox:           xmin: -171.09 ymin: -14.5487 xmax: -168.1433 ymax: -11.04786\n",
      "epsg (SRID):    4326\n",
      "proj4string:    +proj=longlat +datum=WGS84 +no_defs\n",
      "Reading layer `villages_raw' from data source `C:\\Users\\linds\\OneDrive\\Documents\\samoa_corals_data\\AS_all\\Villages\\villages_raw.shp' using driver `ESRI Shapefile'\n",
      "Simple feature collection with 8 features and 5 fields\n",
      "geometry type:  MULTIPOLYGON\n",
      "dimension:      XY\n",
      "bbox:           xmin: -169.6876 ymin: -14.27287 xmax: -169.4185 ymax: -14.15528\n",
      "epsg (SRID):    4326\n",
      "proj4string:    +proj=longlat +datum=WGS84 +no_defs\n",
      "Reading layer `wl_raw' from data source `C:\\Users\\linds\\OneDrive\\Documents\\samoa_corals_data\\AS_all\\Wetlands\\wl_raw.shp' using driver `ESRI Shapefile'\n",
      "Simple feature collection with 22 features and 9 fields\n",
      "geometry type:  POLYGON\n",
      "dimension:      XY\n",
      "bbox:           xmin: -170.7868 ymin: -14.33965 xmax: -169.4237 ymax: -14.1747\n",
      "epsg (SRID):    4326\n",
      "proj4string:    +proj=longlat +datum=WGS84 +no_defs\n",
      "Updating layer `esi' to data source `C:/Users/linds/OneDrive/Documents/samoa_corals_data/AS_all/Env_sens_index' using driver `ESRI Shapefile'\n",
      "Writing 61 features with 5 fields and geometry type Polygon.\n",
      "Updating layer `pop' to data source `C:/Users/linds/OneDrive/Documents/samoa_corals_data/AS_all/Population' using driver `ESRI Shapefile'\n",
      "Writing 64 features with 12 fields and geometry type Multi Polygon.\n",
      "Updating layer `ucur' to data source `C:/Users/linds/OneDrive/Documents/samoa_corals_data/AS_all/Currents' using driver `ESRI Shapefile'\n",
      "Updating existing layer ucur\n",
      "Writing 40718 features with 3 fields and geometry type Point.\n",
      "Updating layer `vcur' to data source `C:/Users/linds/OneDrive/Documents/samoa_corals_data/AS_all/Currents' using driver `ESRI Shapefile'\n",
      "Updating existing layer vcur\n",
      "Writing 40718 features with 3 fields and geometry type Point.\n",
      "Updating layer `ucur' to data source `C:/Users/linds/OneDrive/Documents/samoa_corals_data/AS_all/Currents' using driver `ESRI Shapefile'\n",
      "Updating existing layer ucur\n",
      "Writing 40718 features with 3 fields and geometry type Point.\n",
      "Updating layer `vcur' to data source `C:/Users/linds/OneDrive/Documents/samoa_corals_data/AS_all/Currents' using driver `ESRI Shapefile'\n",
      "Updating existing layer vcur\n",
      "Writing 40718 features with 3 fields and geometry type Point.\n"
     ]
    }
   ],
   "source": [
    "ucur <- st_read('AS_all/Currents/ucur.shp')\n",
    "vcur <- st_read('AS_all/Currents/vcur.shp')\n",
    "\n",
    "esi <- st_read('AS_all/Env_sens_index/esi_raw.shp')\n",
    "pop <- st_read('AS_all/Population/pop_raw.shp')\n",
    "shore <- st_read('AS_all/Shorelines/shore_raw.shp')\n",
    "villages <- st_read('AS_all/Villages/villages_raw.shp')\n",
    "wetlands <- st_read('AS_all/Wetlands/wl_raw.shp')\n",
    "\n",
    "esi <- st_transform(esi, crs= st_crs(tut_bty))\n",
    "pop <- st_transform(pop, crs= st_crs(tut_bty))\n",
    "shore <- st_transform(shore, crs= st_crs(tut_bty))\n",
    "villages <- st_transform(villages, crs= st_crs(tut_bty))\n",
    "wetlands <- st_transform(wetlands, crs= st_crs(tut_bty))\n",
    "\n",
    "# Write as a tranformed shapefile\n",
    "st_write(obj=esi, dsn='C:/Users/linds/OneDrive/Documents/samoa_corals_data/AS_all/Env_sens_index', \n",
    "         update=TRUE, driver=\"ESRI Shapefile\", 'esi.shp')\n",
    "st_write(obj=pop, dsn='C:/Users/linds/OneDrive/Documents/samoa_corals_data/AS_all/Population', \n",
    "         update=TRUE, driver=\"ESRI Shapefile\", 'pop.shp')\n",
    "st_write(obj=ucur, dsn='C:/Users/linds/OneDrive/Documents/samoa_corals_data/AS_all/Currents', \n",
    "         update=TRUE, driver=\"ESRI Shapefile\", 'ucur.shp')\n",
    "st_write(obj=vcur, dsn='C:/Users/linds/OneDrive/Documents/samoa_corals_data/AS_all/Currents', \n",
    "         update=TRUE, driver=\"ESRI Shapefile\", 'vcur.shp')\n",
    "st_write(obj=ucur, dsn='C:/Users/linds/OneDrive/Documents/samoa_corals_data/AS_all/Currents', \n",
    "         update=TRUE, driver=\"ESRI Shapefile\", 'ucur.shp')\n",
    "st_write(obj=vcur, dsn='C:/Users/linds/OneDrive/Documents/samoa_corals_data/AS_all/Currents', \n",
    "         update=TRUE, driver=\"ESRI Shapefile\", 'vcur.shp')"
   ]
  },
  {
   "cell_type": "markdown",
   "metadata": {},
   "source": [
    "### Clean up TOAD shapefiles\n",
    "\n",
    "An unknown number of 50 m cells have multiple, possibly conflicting, observations.\n",
    "\n",
    "I need to prioritize/document the 1s as I convert to a raster."
   ]
  },
  {
   "cell_type": "code",
   "execution_count": null,
   "metadata": {},
   "outputs": [],
   "source": [
    "# WIP"
   ]
  },
  {
   "cell_type": "markdown",
   "metadata": {},
   "source": [
    "#### Notes etc.\n",
    "\n",
    "- Literature review focusing on priority, then secondary, locations; environmental characteristics of the mesophotic in these areas; mesophotic ecology\n",
    "- [GeoViews walkthrough for visualization](https://towardsdatascience.com/the-5-classification-evaluation-metrics-you-must-know-aa97784ff226)\n",
    "- Models: standard GLM classifier, random forest classifier, possibly XGBoost or neural network\n",
    "- [Metrics for evaluation](https://towardsdatascience.com/the-5-classification-evaluation-metrics-you-must-know-aa97784ff226)\n",
    "- [Make nice maps](https://www.benjaminbell.co.uk/2019/08/creating-simple-location-maps-in-r.html)"
   ]
  },
  {
   "cell_type": "code",
   "execution_count": null,
   "metadata": {},
   "outputs": [],
   "source": [
    "# possible extraction method of interest\n",
    "#locs$tmin1 <- extract(tmin1, locs)\n",
    "\n",
    "\n",
    "\n",
    "#p1 <- SpatialPoints(xy)\n",
    "\n",
    "\n",
    "### Plot rasters\n",
    "\n",
    "#histogram(tmin1.c)\n",
    "\n",
    "#pairs(tmin.all.c)\n",
    "\n",
    "### Autocorrelation\n",
    "# Moran(tmin1.c)  # global Moran's I\n",
    "#tmin1.Moran <- MoranLocal(tmin1.c)\n",
    "#plot(tmin1.Moran)\n",
    "\n",
    "\n",
    "#### Now let’s compute the Euclidean distance to these points using the distanceFromPoints function.\n",
    "\n",
    "# r2.d <- distanceFromPoints(r2, p1) \n",
    "\n",
    "# Write edited rasters \n",
    "#writeRaster(tmin1.c, filename = \"tmin1.c.grd\")"
   ]
  }
 ],
 "metadata": {
  "kernelspec": {
   "display_name": "R",
   "language": "R",
   "name": "ir"
  },
  "language_info": {
   "codemirror_mode": "r",
   "file_extension": ".r",
   "mimetype": "text/x-r-source",
   "name": "R",
   "pygments_lexer": "r",
   "version": "3.6.2"
  }
 },
 "nbformat": 4,
 "nbformat_minor": 2
}
