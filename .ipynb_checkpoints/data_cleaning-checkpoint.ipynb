{
 "cells": [
  {
   "cell_type": "markdown",
   "metadata": {},
   "source": [
    "#### Import modules"
   ]
  },
  {
   "cell_type": "code",
   "execution_count": 1,
   "metadata": {},
   "outputs": [],
   "source": [
    "import pandas as pd\n",
    "import numpy as np\n",
    "import matplotlib.pyplot as plt\n",
    "import os"
   ]
  },
  {
   "cell_type": "markdown",
   "metadata": {},
   "source": [
    "#### [Raw data](http://www.soest.hawaii.edu/pibhmc/cms/data-by-location/american-samoa/)\n",
    "\n",
    "- *Observational*: ~6 coral groups TBD; \"*_TOAD\". \n",
    "\n",
    "Note that [Rose](http://www.soest.hawaii.edu/pibhmc/cms/data-by-location/american-samoa/rose-atoll/rose-atoll-habitat/) does not have optical validation data, but does have biological characterizations from prior surveys. This may be useful for predictive comparison only.\n",
    "\n",
    "Note that Swains does not have any biological layers available.\n",
    "\n",
    "- *Environmental*: (in progress- TBD based on ongoing literature review); 1-6 from PIBHMC site\n",
    "    1. Depth (from bty: \"*_bty\")\n",
    "    2. Hard vs. soft bottom (from Arc ASCII file: \"*_hs\")\n",
    "    3. Rugosity (from Arc ASCII file: \"*_rugosity\")\n",
    "    4. Slope (from Arc ASCII file: \"*_slope\")\n",
    "    5. Curvature (from bty)\n",
    "    6. Aspect (from bty)\n",
    "    7. ...\n",
    "    8. ...\n",
    "\n",
    "Priority locations:  Ofu-Olosega, Ta‘u, Tutuila\n",
    "Secondary locations: Rose Atoll, Swains Island\n",
    "\n",
    "All PIBHMC data is available at 5 m resolution for all locations except for Swains Island (5 m for bty, 40 m for hs, rugosity, slope). Using integrated data when available for completeness of coverage."
   ]
  },
  {
   "cell_type": "markdown",
   "metadata": {},
   "source": [
    "#### Notes etc.\n",
    "\n",
    "- Literature review focusing on priority, then secondary, locations; environmental characteristics of the mesophotic in these areas; mesophotic ecology\n",
    "- [GeoViews walkthrough for visualization](https://towardsdatascience.com/the-5-classification-evaluation-metrics-you-must-know-aa97784ff226)\n",
    "- Models: standard GLM classifier, random forest classifier, possibly XGBoost or neural network\n",
    "- [Metrics for evaluation](https://towardsdatascience.com/the-5-classification-evaluation-metrics-you-must-know-aa97784ff226)"
   ]
  }
 ],
 "metadata": {
  "kernelspec": {
   "display_name": "Python 3",
   "language": "python",
   "name": "python3"
  },
  "language_info": {
   "codemirror_mode": {
    "name": "ipython",
    "version": 3
   },
   "file_extension": ".py",
   "mimetype": "text/x-python",
   "name": "python",
   "nbconvert_exporter": "python",
   "pygments_lexer": "ipython3",
   "version": "3.7.4"
  }
 },
 "nbformat": 4,
 "nbformat_minor": 2
}
