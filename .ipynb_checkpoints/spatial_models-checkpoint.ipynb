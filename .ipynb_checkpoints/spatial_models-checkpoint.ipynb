{
 "cells": [
  {
   "cell_type": "markdown",
   "metadata": {},
   "source": [
    "I think it's most appropriate to build models for each coral group for *all* islands. I'm looking to predict out to grids that have not been sampled for some of the coral groups in some regions; I don't think conditions will vary so dramatically between islands that island-specific models will offer anything beyond what group-sprecific all-island models offer.\n",
    "\n",
    "For the models, I'm using group-level data from the following islands:\n",
    "\n",
    "1. SCLER_CORA: Tut\n",
    "2. MASSIVE: OfuOlo, Tau, Tut\n",
    "3. PLATE_LIKE: Tut\n",
    "4. ENCRUSTING: OfuOlo, Tau, Tut\n",
    "5. BRANCHING: OfuOlo, Tau, Tut\n",
    "6. COLUMNAR: OfuOlo, Tau, Tut\n",
    "7. FREE_LIVIN: OfuOlo, Tau, Tut\n",
    "\n",
    "I need to...\n",
    "    - [X] load all dfs\n",
    "    - [X] add island col as ID\n",
    "    - [X] rbind the dfs by group\n",
    "    - [X] check for duplicates, outliers, correlations > 0.7\n",
    "    - [X] impute any missing data\n",
    "    - run basic GLM (by 5/29)\n",
    "    - run random forest classifier on binary (by 5/29)\n",
    "    - run random forest regressor on abundance (by 5/29)\n",
    "    - choose, check the metrics of all models (by 6/5)\n",
    "    - load, add island col as ID, rbind all 5 regional dfs (by 6/5)\n",
    "    - using the best model, predict out for each group (by 6/5)\n",
    "\n",
    "Notes: \n",
    "    - https://rspatial.org/raster/analysis/5-global_regression.html\n",
    "    - https://www.r-bloggers.com/how-to-implement-random-forests-in-r/\n",
    "    - http://ugrad.stat.ubc.ca/R/library/randomForest/html/randomForest.html"
   ]
  },
  {
   "cell_type": "markdown",
   "metadata": {},
   "source": [
    "### Load libraries"
   ]
  },
  {
   "cell_type": "code",
   "execution_count": 1,
   "metadata": {},
   "outputs": [
    {
     "name": "stderr",
     "output_type": "stream",
     "text": [
      "Loading required package: raster\n",
      "\n",
      "Warning message:\n",
      "\"package 'raster' was built under R version 3.6.3\"\n",
      "Loading required package: sp\n",
      "\n",
      "Warning message:\n",
      "\"package 'mice' was built under R version 3.6.3\"\n",
      "\n",
      "Attaching package: 'mice'\n",
      "\n",
      "\n",
      "The following objects are masked from 'package:base':\n",
      "\n",
      "    cbind, rbind\n",
      "\n",
      "\n",
      "Warning message:\n",
      "\"package 'rgdal' was built under R version 3.6.3\"\n",
      "rgdal: version: 1.4-8, (SVN revision 845)\n",
      " Geospatial Data Abstraction Library extensions to R successfully loaded\n",
      " Loaded GDAL runtime: GDAL 2.2.3, released 2017/11/20\n",
      " Path to GDAL shared files: C:/Users/linds/OneDrive/Documents/R/win-library/3.6/rgdal/gdal\n",
      " GDAL binary built with GEOS: TRUE \n",
      " Loaded PROJ.4 runtime: Rel. 4.9.3, 15 August 2016, [PJ_VERSION: 493]\n",
      " Path to PROJ.4 shared files: C:/Users/linds/OneDrive/Documents/R/win-library/3.6/rgdal/proj\n",
      " Linking to sp version: 1.4-1 \n",
      "\n"
     ]
    }
   ],
   "source": [
    "library(dismo)\n",
    "library(lattice)\n",
    "library(mice)\n",
    "library(raster)\n",
    "library(rgdal)\n",
    "library(sp)"
   ]
  },
  {
   "cell_type": "markdown",
   "metadata": {},
   "source": [
    "### Reload dataframes, add island column as ID"
   ]
  },
  {
   "cell_type": "markdown",
   "metadata": {},
   "source": [
    "##### OfuOlo"
   ]
  },
  {
   "cell_type": "code",
   "execution_count": 2,
   "metadata": {},
   "outputs": [],
   "source": [
    "setwd('C:/Users/linds/OneDrive/Documents/samoa_corals_data/OfuOlo/')\n",
    "\n",
    "oo_branching<-read.csv('oo_branching_df.csv')\n",
    "oo_columnar<-read.csv('oo_columnar_df.csv')\n",
    "oo_encrusting<-read.csv('oo_encrusting_df.csv')\n",
    "oo_free_livin<-read.csv('oo_free_livin_df.csv')\n",
    "oo_massive<-read.csv('oo_massive_df.csv')\n",
    "\n",
    "oo_branching['ID']<-'OfuOlo'\n",
    "oo_columnar['ID']<-'OfuOlo'\n",
    "oo_encrusting['ID']<-'OfuOlo'\n",
    "oo_free_livin['ID']<-'OfuOlo'\n",
    "oo_massive['ID']<-'OfuOlo'"
   ]
  },
  {
   "cell_type": "markdown",
   "metadata": {},
   "source": [
    "##### Tau"
   ]
  },
  {
   "cell_type": "code",
   "execution_count": 3,
   "metadata": {},
   "outputs": [],
   "source": [
    "setwd('C:/Users/linds/OneDrive/Documents/samoa_corals_data/Tau/')\n",
    "\n",
    "tau_branching<-read.csv('tau_branching_df.csv')\n",
    "tau_columnar<-read.csv('tau_columnar_df.csv')\n",
    "tau_encrusting<-read.csv('tau_encrusting_df.csv')\n",
    "tau_free_livin<-read.csv('tau_free_livin_df.csv')\n",
    "tau_massive<-read.csv('tau_massive_df.csv')\n",
    "\n",
    "tau_branching['ID']<-'Tau'\n",
    "tau_columnar['ID']<-'Tau'\n",
    "tau_encrusting['ID']<-'Tau'\n",
    "tau_free_livin['ID']<-'Tau'\n",
    "tau_massive['ID']<-'Tau'"
   ]
  },
  {
   "cell_type": "markdown",
   "metadata": {},
   "source": [
    "##### Tutuila"
   ]
  },
  {
   "cell_type": "code",
   "execution_count": 4,
   "metadata": {},
   "outputs": [],
   "source": [
    "setwd('C:/Users/linds/OneDrive/Documents/samoa_corals_data/Tut/')\n",
    "\n",
    "tut_branching<-read.csv('tut_branching_df.csv')\n",
    "tut_columnar<-read.csv('tut_columnar_df.csv')\n",
    "tut_encrusting<-read.csv('tut_encrusting_df.csv')\n",
    "tut_free_livin<-read.csv('tut_free_livin_df.csv')\n",
    "tut_massive<-read.csv('tut_massive_df.csv')\n",
    "plate<-read.csv('tut_plate_df.csv')\n",
    "scler<-read.csv('tut_scler_df.csv')\n",
    "\n",
    "tut_branching['ID']<-'Tut'\n",
    "tut_columnar['ID']<-'Tut'\n",
    "tut_encrusting['ID']<-'Tut'\n",
    "tut_free_livin['ID']<-'Tut'\n",
    "tut_massive['ID']<-'Tut'\n",
    "plate['ID']<-'Tut'\n",
    "scler['ID']<-'Tut'"
   ]
  },
  {
   "cell_type": "markdown",
   "metadata": {},
   "source": [
    "### rbind() dataframes together by coral type"
   ]
  },
  {
   "cell_type": "code",
   "execution_count": 5,
   "metadata": {},
   "outputs": [],
   "source": [
    "# Branching\n",
    "branching<-rbind(oo_branching, tau_branching)\n",
    "branching<-rbind(branching, tut_branching)\n",
    "\n",
    "# Columnar\n",
    "columnar<-rbind(oo_columnar, tau_columnar)\n",
    "columnar<-rbind(columnar, tut_columnar)\n",
    "\n",
    "# Encrusting\n",
    "encrusting<-rbind(oo_encrusting, tau_encrusting)\n",
    "encrusting<-rbind(encrusting, tut_encrusting)\n",
    "\n",
    "# Free_livin\n",
    "free_livin<-rbind(oo_free_livin, tau_free_livin)\n",
    "free_livin<-rbind(free_livin, tut_free_livin)\n",
    "\n",
    "# Massive\n",
    "massive<-rbind(oo_massive, tau_massive)\n",
    "massive<-rbind(massive, tut_massive)"
   ]
  },
  {
   "cell_type": "markdown",
   "metadata": {},
   "source": [
    "### Impute data"
   ]
  },
  {
   "cell_type": "code",
   "execution_count": null,
   "metadata": {},
   "outputs": [
    {
     "name": "stdout",
     "output_type": "stream",
     "text": [
      "\n",
      " iter imp variable\n",
      "  1   1  bty  hs  rug  slope  asp\n",
      "  1   2  bty  hs  rug  slope  asp\n",
      "  1   3  bty  hs  rug  slope  asp\n",
      "  1   4  bty  hs  rug  slope  asp\n",
      "  1   5  bty  hs  rug  slope  asp\n",
      "  2   1  bty  hs  rug  slope  asp\n",
      "  2   2  bty  hs  rug  slope  asp\n",
      "  2   3  bty  hs  rug  slope  asp\n",
      "  2   4  bty  hs  rug  slope  asp\n",
      "  2   5  bty  hs  rug  slope  asp\n",
      "  3   1  bty  hs  rug  slope  asp\n",
      "  3   2  bty  hs  rug  slope  asp\n",
      "  3   3  bty  hs  rug  slope  asp\n",
      "  3   4  bty  hs  rug  slope  asp\n",
      "  3   5  bty  hs  rug  slope  asp\n",
      "  4   1  bty  hs  rug  slope  asp\n",
      "  4   2  bty  hs  rug  slope  asp\n",
      "  4   3  bty  hs  rug  slope  asp\n",
      "  4   4  bty  hs  rug  slope  asp\n",
      "  4   5  bty  hs  rug  slope  asp\n",
      "  5   1  bty  hs  rug  slope  asp\n",
      "  5   2  bty  hs  rug  slope  asp\n",
      "  5   3  bty  hs  rug  slope  asp\n",
      "  5   4  bty  hs  rug  slope  asp\n",
      "  5   5  bty  hs  rug  slope  asp\n"
     ]
    },
    {
     "name": "stderr",
     "output_type": "stream",
     "text": [
      "Warning message:\n",
      "\"Number of logged events: 4\"\n"
     ]
    },
    {
     "name": "stdout",
     "output_type": "stream",
     "text": [
      "\n",
      " iter imp variable\n",
      "  1   1  bty  hs  rug  slope  asp\n",
      "  1   2  bty  hs  rug  slope  asp\n",
      "  1   3  bty  hs  rug  slope  asp\n",
      "  1   4  bty  hs  rug  slope  asp\n",
      "  1   5  bty  hs  rug  slope  asp\n",
      "  2   1  bty  hs  rug  slope  asp\n",
      "  2   2  bty  hs  rug  slope  asp\n",
      "  2   3  bty  hs  rug  slope  asp\n",
      "  2   4  bty  hs  rug  slope  asp\n",
      "  2   5  bty  hs  rug  slope  asp\n",
      "  3   1  bty  hs  rug  slope  asp\n",
      "  3   2  bty  hs  rug  slope  asp\n",
      "  3   3  bty  hs  rug  slope  asp\n",
      "  3   4  bty  hs  rug  slope  asp\n",
      "  3   5  bty  hs  rug  slope  asp\n",
      "  4   1  bty  hs  rug  slope  asp\n",
      "  4   2  bty  hs  rug  slope  asp\n",
      "  4   3  bty  hs  rug  slope  asp\n",
      "  4   4  bty  hs  rug  slope  asp\n",
      "  4   5  bty  hs  rug  slope  asp\n",
      "  5   1  bty  hs  rug  slope  asp\n",
      "  5   2  bty  hs  rug  slope  asp\n",
      "  5   3  bty  hs  rug  slope  asp\n",
      "  5   4  bty  hs  rug  slope  asp\n",
      "  5   5  bty  hs  rug  slope  asp\n"
     ]
    },
    {
     "name": "stderr",
     "output_type": "stream",
     "text": [
      "Warning message:\n",
      "\"Number of logged events: 4\"\n"
     ]
    },
    {
     "name": "stdout",
     "output_type": "stream",
     "text": [
      "\n",
      " iter imp variable\n",
      "  1   1  bty  hs  rug  slope  asp\n",
      "  1   2  bty  hs  rug  slope  asp\n",
      "  1   3  bty  hs  rug  slope  asp\n",
      "  1   4  bty  hs  rug  slope  asp\n",
      "  1   5  bty  hs  rug  slope  asp\n",
      "  2   1  bty  hs  rug  slope  asp\n",
      "  2   2  bty  hs  rug  slope  asp\n",
      "  2   3  bty  hs  rug  slope  asp\n",
      "  2   4  bty  hs  rug  slope  asp\n",
      "  2   5  bty  hs  rug  slope  asp\n",
      "  3   1  bty  hs  rug  slope  asp\n",
      "  3   2  bty  hs  rug  slope  asp\n",
      "  3   3  bty  hs  rug  slope  asp\n",
      "  3   4  bty  hs  rug  slope  asp\n",
      "  3   5  bty  hs  rug  slope  asp\n",
      "  4   1  bty  hs  rug  slope  asp\n",
      "  4   2  bty  hs  rug  slope  asp\n",
      "  4   3  bty  hs  rug  slope  asp\n",
      "  4   4  bty  hs  rug  slope  asp\n",
      "  4   5  bty  hs  rug  slope  asp\n",
      "  5   1  bty  hs  rug  slope  asp\n",
      "  5   2  bty  hs  rug  slope  asp\n",
      "  5   3  bty  hs  rug  slope  asp\n",
      "  5   4  bty  hs  rug  slope  asp\n",
      "  5   5  bty  hs  rug  slope  asp\n"
     ]
    },
    {
     "name": "stderr",
     "output_type": "stream",
     "text": [
      "Warning message:\n",
      "\"Number of logged events: 4\"\n"
     ]
    },
    {
     "name": "stdout",
     "output_type": "stream",
     "text": [
      "\n",
      " iter imp variable\n",
      "  1   1  bty  hs  rug  slope  asp\n",
      "  1   2  bty  hs  rug  slope  asp\n",
      "  1   3  bty  hs  rug  slope  asp\n",
      "  1   4  bty  hs  rug  slope  asp\n",
      "  1   5  bty  hs  rug  slope  asp\n",
      "  2   1  bty  hs  rug  slope  asp\n",
      "  2   2  bty  hs  rug  slope  asp\n",
      "  2   3  bty  hs  rug  slope  asp\n",
      "  2   4  bty  hs  rug  slope  asp\n",
      "  2   5  bty  hs  rug  slope  asp\n",
      "  3   1  bty  hs  rug  slope  asp\n",
      "  3   2  bty  hs  rug  slope  asp\n",
      "  3   3  bty  hs  rug  slope  asp\n",
      "  3   4  bty  hs  rug  slope  asp\n",
      "  3   5  bty  hs  rug  slope  asp\n",
      "  4   1  bty  hs  rug  slope  asp\n",
      "  4   2  bty  hs  rug  slope  asp\n",
      "  4   3  bty  hs  rug  slope  asp\n",
      "  4   4  bty  hs  rug  slope  asp\n",
      "  4   5  bty  hs  rug  slope  asp\n",
      "  5   1  bty  hs  rug  slope  asp\n",
      "  5   2  bty  hs  rug  slope  asp\n",
      "  5   3  bty  hs  rug  slope  asp\n",
      "  5   4  bty  hs  rug  slope  asp\n",
      "  5   5  bty  hs  rug  slope  asp\n"
     ]
    },
    {
     "name": "stderr",
     "output_type": "stream",
     "text": [
      "Warning message:\n",
      "\"Number of logged events: 4\"\n"
     ]
    },
    {
     "name": "stdout",
     "output_type": "stream",
     "text": [
      "\n",
      " iter imp variable\n",
      "  1   1  bty  hs  rug  slope  asp\n",
      "  1   2  bty  hs  rug  slope  asp\n",
      "  1   3  bty  hs  rug  slope  asp\n",
      "  1   4  bty  hs  rug  slope  asp\n",
      "  1   5  bty  hs  rug  slope  asp\n",
      "  2   1  bty  hs  rug  slope  asp\n",
      "  2   2  bty  hs  rug  slope  asp\n",
      "  2   3  bty  hs  rug  slope  asp\n",
      "  2   4  bty  hs  rug  slope  asp\n",
      "  2   5  bty  hs  rug  slope  asp\n",
      "  3   1  bty  hs  rug  slope  asp\n",
      "  3   2  bty  hs  rug  slope  asp\n",
      "  3   3  bty  hs  rug  slope  asp\n",
      "  3   4  bty  hs  rug  slope  asp\n",
      "  3   5  bty  hs  rug  slope  asp\n",
      "  4   1  bty  hs  rug  slope  asp\n",
      "  4   2  bty  hs  rug  slope  asp\n",
      "  4   3  bty  hs  rug  slope  asp\n",
      "  4   4  bty  hs  rug  slope  asp\n",
      "  4   5  bty  hs  rug  slope  asp\n",
      "  5   1  bty  hs  rug  slope  asp\n",
      "  5   2  bty  hs  rug  slope  asp\n",
      "  5   3  bty  hs  rug  slope  asp\n",
      "  5   4  bty  hs  rug  slope  asp\n",
      "  5   5  bty  hs  rug  slope  asp\n"
     ]
    },
    {
     "name": "stderr",
     "output_type": "stream",
     "text": [
      "Warning message:\n",
      "\"Number of logged events: 4\"\n"
     ]
    }
   ],
   "source": [
    "branching <- mice(branching,maxit=5,meth='cart',seed=500) # classification and regression trees\n",
    "branching <- complete(branching,1)\n",
    "columnar <- mice(columnar,maxit=5,meth='cart',seed=500)\n",
    "columnar <- complete(columnar,1)\n",
    "encrusting <- mice(encrusting,maxit=5,meth='cart',seed=500)\n",
    "encrusting <- complete(encrusting,1)\n",
    "free_livin <- mice(free_livin,maxit=5,meth='cart',seed=500)\n",
    "free_livin <- complete(free_livin,1)\n",
    "massive <- mice(massive,maxit=5,meth='cart',seed=500)\n",
    "massive <- complete(massive,1)\n",
    "plate <- mice(plate,maxit=5,meth='cart',seed=500)\n",
    "plate <- complete(plate,1)\n",
    "scler <- mice(scler,maxit=5,meth='cart',seed=500)\n",
    "scler <- complete(scler,1)"
   ]
  },
  {
   "cell_type": "markdown",
   "metadata": {},
   "source": [
    "### Check for duplicates, outliers, correlations > 0.7"
   ]
  },
  {
   "cell_type": "markdown",
   "metadata": {},
   "source": [
    "#### Correlation scatterplot function"
   ]
  },
  {
   "cell_type": "code",
   "execution_count": null,
   "metadata": {},
   "outputs": [],
   "source": [
    "panel.cor<-function(x,y,digits=2,prefix=\"\",cex.cor,...) {\n",
    "usr<-par(\"usr\")\n",
    "on.exit(par(usr))\n",
    "par(usr=c(0,1,0,1))\n",
    "r<-abs(cor(x,y,use=\"complete.obs\"))\n",
    "txt<-format(c(r,0.123456789),digits=digits)[1]\n",
    "txt<-paste(prefix,txt,sep=\"\")\n",
    "if(missing(cex.cor))cex.cor<-1.0/strwidth(txt)\n",
    "text(.6,.6,txt,cex=cex.cor*(1+r)/2)\n",
    "}\n",
    "panel.hist<-function(x,...) {\n",
    "usr<-par(\"usr\")\n",
    "on.exit(par(usr))\n",
    "par(usr=c(usr[1:2],0,2))\n",
    "h<-hist(x,plot=FALSE)\n",
    "breaks<-h$breaks\n",
    "nB<-length(breaks)\n",
    "y<-h$counts\n",
    "y<-y/max(y)\n",
    "rect(breaks[-nB],0,breaks[-1],y,col=\"white\",...)\n",
    "}"
   ]
  },
  {
   "cell_type": "markdown",
   "metadata": {},
   "source": [
    "##### Branching"
   ]
  },
  {
   "cell_type": "code",
   "execution_count": null,
   "metadata": {},
   "outputs": [],
   "source": [
    "coords<-cbind(branching$lon,branching$lat)\n",
    "coordsSP<-SpatialPoints(coords,proj4string=CRS(as.character(NA)))\n",
    "zerodist(coordsSP,zero=0.0)"
   ]
  },
  {
   "cell_type": "code",
   "execution_count": null,
   "metadata": {},
   "outputs": [],
   "source": [
    "Z<-branching[,c(7:13, 15, 17:19)]\n",
    "dotplot(as.matrix(Z),groups=FALSE,\n",
    "        strip=strip.custom(bg='white',par.strip.text=list(cex=0.8)),\n",
    "        scales=list(x=list(relation=\"free\"),y=list(relation=\"free\"),\n",
    "        draw=FALSE),col=1,cex=0.5,pch=16,xlab=\"Value of covariate\",\n",
    "        ylab=\"Order of the data from file\")"
   ]
  },
  {
   "cell_type": "code",
   "execution_count": null,
   "metadata": {},
   "outputs": [],
   "source": [
    "pairs(branching[,c(3, 6, 7:13, 15, 17:19)],upper.panel=panel.cor,diag.panel=panel.hist,lower.panel=panel.smooth)"
   ]
  },
  {
   "cell_type": "markdown",
   "metadata": {},
   "source": [
    "**Branching** notes on correlations, outliers etc:\n",
    "\n",
    "- High correlations: rugosity (not using) and slope; euclidean distance from shore and e. d. from wetlands (not using)\n",
    "- Inspected larger-than-average slope values; appear to be valid, from a deep, sloped region\n",
    "\n",
    "Branching predictors: bty, hs, slope, asp, shore_ed, vill_ed, esi_ed, ucur, vcur"
   ]
  },
  {
   "cell_type": "code",
   "execution_count": null,
   "metadata": {},
   "outputs": [],
   "source": [
    "branching$X<-NULL\n",
    "branching$coords.x1<-NULL\n",
    "branching$coords.x2<-NULL"
   ]
  },
  {
   "cell_type": "markdown",
   "metadata": {},
   "source": [
    "##### Columnar"
   ]
  },
  {
   "cell_type": "code",
   "execution_count": null,
   "metadata": {},
   "outputs": [],
   "source": [
    "coords<-cbind(columnar$lon,columnar$lat)\n",
    "coordsSP<-SpatialPoints(coords,proj4string=CRS(as.character(NA)))\n",
    "zerodist(coordsSP,zero=0.0)"
   ]
  },
  {
   "cell_type": "code",
   "execution_count": null,
   "metadata": {},
   "outputs": [],
   "source": [
    "Z<-columnar[,c(7:13, 15, 17:19)]\n",
    "dotplot(as.matrix(Z),groups=FALSE,\n",
    "        strip=strip.custom(bg='white',par.strip.text=list(cex=0.8)),\n",
    "        scales=list(x=list(relation=\"free\"),y=list(relation=\"free\"),\n",
    "        draw=FALSE),col=1,cex=0.5,pch=16,xlab=\"Value of covariate\",\n",
    "        ylab=\"Order of the data from file\")"
   ]
  },
  {
   "cell_type": "code",
   "execution_count": null,
   "metadata": {},
   "outputs": [],
   "source": [
    "pairs(columnar[,c(3, 6, 7:13, 15, 17:19)],upper.panel=panel.cor,diag.panel=panel.hist,lower.panel=panel.smooth)"
   ]
  },
  {
   "cell_type": "markdown",
   "metadata": {},
   "source": [
    "**Columnar** notes on correlations, outliers etc:\n",
    "\n",
    "- High correlations: rugosity and slope (not using) ; euclidean distance from shore (not using) and e. d. from wetlands\n",
    "- Inspected larger-than-average slope values; appear to be valid, from a deep, sloped region\n",
    "\n",
    "Columnar predictors: bty, hs, rug, asp, wl_ed, vill_ed, esi_ed, ucur, vcur"
   ]
  },
  {
   "cell_type": "code",
   "execution_count": null,
   "metadata": {},
   "outputs": [],
   "source": [
    "columnar$X<-NULL\n",
    "columnar$coords.x1<-NULL\n",
    "columnar$coords.x2<-NULL"
   ]
  },
  {
   "cell_type": "markdown",
   "metadata": {},
   "source": [
    "##### Encrusting"
   ]
  },
  {
   "cell_type": "code",
   "execution_count": null,
   "metadata": {},
   "outputs": [],
   "source": [
    "coords<-cbind(encrusting$lon,encrusting$lat)\n",
    "coordsSP<-SpatialPoints(coords,proj4string=CRS(as.character(NA)))\n",
    "zerodist(coordsSP,zero=0.0)"
   ]
  },
  {
   "cell_type": "code",
   "execution_count": null,
   "metadata": {},
   "outputs": [],
   "source": [
    "Z<-encrusting[,c(7:13, 15, 17:19)]\n",
    "dotplot(as.matrix(Z),groups=FALSE,\n",
    "        strip=strip.custom(bg='white',par.strip.text=list(cex=0.8)),\n",
    "        scales=list(x=list(relation=\"free\"),y=list(relation=\"free\"),\n",
    "        draw=FALSE),col=1,cex=0.5,pch=16,xlab=\"Value of covariate\",\n",
    "        ylab=\"Order of the data from file\")"
   ]
  },
  {
   "cell_type": "code",
   "execution_count": null,
   "metadata": {},
   "outputs": [],
   "source": [
    "pairs(encrusting[,c(3, 6, 7:13, 15, 17:19)],upper.panel=panel.cor,diag.panel=panel.hist,lower.panel=panel.smooth)"
   ]
  },
  {
   "cell_type": "markdown",
   "metadata": {},
   "source": [
    "**Encrusting** notes on correlations, outliers etc:\n",
    "\n",
    "- High correlations: rugosity and slope (not using) ; euclidean distance from shore (not using) and e. d. from wetlands\n",
    "- Inspected larger-than-average slope values; appear to be valid, from a deep, sloped region\n",
    "\n",
    "Columnar predictors: bty, hs, rug, asp, wl_ed, vill_ed, esi_ed, ucur, vcur"
   ]
  },
  {
   "cell_type": "markdown",
   "metadata": {},
   "source": [
    "##### Free living"
   ]
  },
  {
   "cell_type": "code",
   "execution_count": null,
   "metadata": {},
   "outputs": [],
   "source": [
    "coords<-cbind(free_livin$lon,free_livin$lat)\n",
    "coordsSP<-SpatialPoints(coords,proj4string=CRS(as.character(NA)))\n",
    "zerodist(coordsSP,zero=0.0)"
   ]
  },
  {
   "cell_type": "code",
   "execution_count": null,
   "metadata": {},
   "outputs": [],
   "source": [
    "Z<-free_livin[,c(7:13, 15, 17:19)]\n",
    "dotplot(as.matrix(Z),groups=FALSE,\n",
    "        strip=strip.custom(bg='white',par.strip.text=list(cex=0.8)),\n",
    "        scales=list(x=list(relation=\"free\"),y=list(relation=\"free\"),\n",
    "        draw=FALSE),col=1,cex=0.5,pch=16,xlab=\"Value of covariate\",\n",
    "        ylab=\"Order of the data from file\")"
   ]
  },
  {
   "cell_type": "code",
   "execution_count": null,
   "metadata": {},
   "outputs": [],
   "source": [
    "pairs(free_livin[,c(3, 6, 7:13, 15, 17:19)],upper.panel=panel.cor,diag.panel=panel.hist,lower.panel=panel.smooth)"
   ]
  },
  {
   "cell_type": "markdown",
   "metadata": {},
   "source": [
    "##### Massive"
   ]
  },
  {
   "cell_type": "code",
   "execution_count": null,
   "metadata": {},
   "outputs": [],
   "source": [
    "coords<-cbind(massive$lon,massive$lat)\n",
    "coordsSP<-SpatialPoints(coords,proj4string=CRS(as.character(NA)))\n",
    "zerodist(coordsSP,zero=0.0)"
   ]
  },
  {
   "cell_type": "code",
   "execution_count": null,
   "metadata": {},
   "outputs": [],
   "source": [
    "Z<-massive[,c(7:13, 15, 17:19)]\n",
    "dotplot(as.matrix(Z),groups=FALSE,\n",
    "        strip=strip.custom(bg='white',par.strip.text=list(cex=0.8)),\n",
    "        scales=list(x=list(relation=\"free\"),y=list(relation=\"free\"),\n",
    "        draw=FALSE),col=1,cex=0.5,pch=16,xlab=\"Value of covariate\",\n",
    "        ylab=\"Order of the data from file\")"
   ]
  },
  {
   "cell_type": "code",
   "execution_count": null,
   "metadata": {},
   "outputs": [],
   "source": [
    "pairs(massive[,c(3, 6, 7:13, 15, 17:19)],upper.panel=panel.cor,diag.panel=panel.hist,lower.panel=panel.smooth)"
   ]
  },
  {
   "cell_type": "markdown",
   "metadata": {},
   "source": [
    "##### Plate"
   ]
  },
  {
   "cell_type": "code",
   "execution_count": null,
   "metadata": {},
   "outputs": [],
   "source": [
    "coords<-cbind(plate$lon,plate$lat)\n",
    "coordsSP<-SpatialPoints(coords,proj4string=CRS(as.character(NA)))\n",
    "zerodist(coordsSP,zero=0.0)"
   ]
  },
  {
   "cell_type": "code",
   "execution_count": null,
   "metadata": {},
   "outputs": [],
   "source": [
    "Z<-plate[,c(7:13, 15, 17:19)]\n",
    "dotplot(as.matrix(Z),groups=FALSE,\n",
    "        strip=strip.custom(bg='white',par.strip.text=list(cex=0.8)),\n",
    "        scales=list(x=list(relation=\"free\"),y=list(relation=\"free\"),\n",
    "        draw=FALSE),col=1,cex=0.5,pch=16,xlab=\"Value of covariate\",\n",
    "        ylab=\"Order of the data from file\")"
   ]
  },
  {
   "cell_type": "code",
   "execution_count": null,
   "metadata": {},
   "outputs": [],
   "source": [
    "pairs(plate[,c(3, 6, 7:13, 15, 17:19)],upper.panel=panel.cor,diag.panel=panel.hist,lower.panel=panel.smooth)"
   ]
  },
  {
   "cell_type": "markdown",
   "metadata": {},
   "source": [
    "##### Scler"
   ]
  },
  {
   "cell_type": "code",
   "execution_count": null,
   "metadata": {},
   "outputs": [],
   "source": [
    "coords<-cbind(scler$lon,scler$lat)\n",
    "coordsSP<-SpatialPoints(coords,proj4string=CRS(as.character(NA)))\n",
    "zerodist(coordsSP,zero=0.0)"
   ]
  },
  {
   "cell_type": "code",
   "execution_count": null,
   "metadata": {},
   "outputs": [],
   "source": [
    "Z<-scler[,c(7:13, 15, 17:19)]\n",
    "dotplot(as.matrix(Z),groups=FALSE,\n",
    "        strip=strip.custom(bg='white',par.strip.text=list(cex=0.8)),\n",
    "        scales=list(x=list(relation=\"free\"),y=list(relation=\"free\"),\n",
    "        draw=FALSE),col=1,cex=0.5,pch=16,xlab=\"Value of covariate\",\n",
    "        ylab=\"Order of the data from file\")"
   ]
  },
  {
   "cell_type": "code",
   "execution_count": null,
   "metadata": {},
   "outputs": [],
   "source": [
    "pairs(scler[,c(3, 6, 7:13, 15, 17:19)],upper.panel=panel.cor,diag.panel=panel.hist,lower.panel=panel.smooth)"
   ]
  }
 ],
 "metadata": {
  "kernelspec": {
   "display_name": "R",
   "language": "R",
   "name": "ir"
  },
  "language_info": {
   "codemirror_mode": "r",
   "file_extension": ".r",
   "mimetype": "text/x-r-source",
   "name": "R",
   "pygments_lexer": "r",
   "version": "3.6.2"
  }
 },
 "nbformat": 4,
 "nbformat_minor": 2
}
