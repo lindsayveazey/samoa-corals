{
 "cells": [
  {
   "cell_type": "markdown",
   "metadata": {},
   "source": [
    "I think it's most appropriate to build models for each coral group for *all* islands. I'm looking to predict out to grids that have not been sampled for some of the coral groups in some regions; I don't think conditions will vary so dramatically between islands that island-specific models will offer anything beyond what group-sprecific all-island models offer.\n",
    "\n",
    "For the models, I'm using group-level data from the following islands:\n",
    "\n",
    "1. SCLER_CORA: Tut\n",
    "2. MASSIVE: OfuOlo, Tau, Tut\n",
    "3. PLATE_LIKE: Tut\n",
    "4. ENCRUSTING: OfuOlo, Tau, Tut\n",
    "5. BRANCHING: OfuOlo, Tau, Tut\n",
    "6. COLUMNAR: OfuOlo, Tau, Tut\n",
    "7. FREE_LIVIN: OfuOlo, Tau, Tut\n",
    "\n",
    "I need to...\n",
    "    - load all dfs (by 5/22)\n",
    "    - add island col as ID (by 5/22)\n",
    "    - rbind the dfs by group (by 5/22)\n",
    "    - check for duplicates, outliers, correlations > 0.7 (by 5/22)\n",
    "    - impute any missing data (by 5/22)\n",
    "    - run basic GLM (by 5/29)\n",
    "    - run random forest classifier on binary (by 5/29)\n",
    "    - run random forest regressor on abundance (by 5/29)\n",
    "    - choose, check the metrics of all models (by 6/5)\n",
    "    - load, add island col as ID, rbind all 5 regional dfs (by 6/5)\n",
    "    - using the best model, predict out for each group (by 6/5)\n",
    "\n",
    "Notes: \n",
    "    - https://rspatial.org/raster/analysis/5-global_regression.html\n",
    "    - https://www.r-bloggers.com/how-to-implement-random-forests-in-r/\n",
    "    - http://ugrad.stat.ubc.ca/R/library/randomForest/html/randomForest.html"
   ]
  }
 ],
 "metadata": {
  "kernelspec": {
   "display_name": "R",
   "language": "R",
   "name": "ir"
  },
  "language_info": {
   "codemirror_mode": "r",
   "file_extension": ".r",
   "mimetype": "text/x-r-source",
   "name": "R",
   "pygments_lexer": "r",
   "version": "3.6.2"
  }
 },
 "nbformat": 4,
 "nbformat_minor": 2
}
